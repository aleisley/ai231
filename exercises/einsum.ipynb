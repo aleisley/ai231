{
 "cells": [
  {
   "cell_type": "code",
   "execution_count": 11,
   "id": "586903fe",
   "metadata": {},
   "outputs": [],
   "source": [
    "from einops import einsum\n",
    "# from torch import einsum as torch_einsum\n",
    "import torch\n",
    "import numpy as np"
   ]
  },
  {
   "cell_type": "code",
   "execution_count": 5,
   "id": "eb4aabcb",
   "metadata": {},
   "outputs": [
    {
     "name": "stdout",
     "output_type": "stream",
     "text": [
      "[[ 3.]\n",
      " [12.]]\n"
     ]
    }
   ],
   "source": [
    "w = np.arange(6).reshape(2, 3).astype(np.float32)\n",
    "x = np.ones((3, 1), dtype=np.float32)\n",
    "\n",
    "y = einsum(w, x, 'i j, j k -> i k')\n",
    "print(y)"
   ]
  },
  {
   "cell_type": "code",
   "execution_count": null,
   "id": "534322ef",
   "metadata": {},
   "outputs": [
    {
     "name": "stdout",
     "output_type": "stream",
     "text": [
      "tensor([[ 3.],\n",
      "        [12.]])\n"
     ]
    }
   ],
   "source": [
    "y = torch.einsum('ij,jk -> ik', torch.from_numpy(w), torch.from_numpy(x))\n",
    "print(y)"
   ]
  },
  {
   "cell_type": "markdown",
   "id": "7c14c743",
   "metadata": {},
   "source": [
    "### Simple dot product\n"
   ]
  },
  {
   "cell_type": "code",
   "execution_count": 19,
   "id": "4da8e432",
   "metadata": {},
   "outputs": [
    {
     "name": "stdout",
     "output_type": "stream",
     "text": [
      "tensor(32)\n"
     ]
    }
   ],
   "source": [
    "a = torch.tensor([1, 2, 3])\n",
    "b = torch.tensor([4, 5, 6])\n",
    "result = torch.einsum('i, i -> ', a, b)\n",
    "print(result)"
   ]
  },
  {
   "cell_type": "markdown",
   "id": "f8b8feac",
   "metadata": {},
   "source": [
    "### Outer product\n"
   ]
  },
  {
   "cell_type": "code",
   "execution_count": 20,
   "id": "2ada23bb",
   "metadata": {},
   "outputs": [
    {
     "name": "stdout",
     "output_type": "stream",
     "text": [
      "tensor([[ 4,  5,  6],\n",
      "        [ 8, 10, 12],\n",
      "        [12, 15, 18]])\n"
     ]
    }
   ],
   "source": [
    "outer_product = torch.einsum('i, j -> i j', a, b)\n",
    "print(outer_product)"
   ]
  },
  {
   "cell_type": "markdown",
   "id": "c0e9a9b8",
   "metadata": {},
   "source": [
    "### Example Data\n"
   ]
  },
  {
   "cell_type": "code",
   "execution_count": null,
   "id": "f3b3768c",
   "metadata": {},
   "outputs": [
    {
     "name": "stdout",
     "output_type": "stream",
     "text": [
      "tensor([[0., 1., 2.],\n",
      "        [3., 4., 5.],\n",
      "        [6., 7., 8.]])\n"
     ]
    }
   ],
   "source": [
    "w = torch.from_numpy(np.arange(9).reshape(3, 3).astype(np.float32))"
   ]
  },
  {
   "cell_type": "markdown",
   "id": "38146016",
   "metadata": {},
   "source": [
    "### Diagonal\n"
   ]
  },
  {
   "cell_type": "code",
   "execution_count": 24,
   "id": "d10d11f1",
   "metadata": {},
   "outputs": [
    {
     "name": "stdout",
     "output_type": "stream",
     "text": [
      "tensor([0., 4., 8.])\n"
     ]
    }
   ],
   "source": [
    "d = torch.einsum('i i -> i', w)\n",
    "print(d)"
   ]
  },
  {
   "cell_type": "code",
   "execution_count": null,
   "id": "0a396e2c",
   "metadata": {},
   "outputs": [
    {
     "name": "stdout",
     "output_type": "stream",
     "text": [
      "tensor([[ 0.,  0.,  0.,  0.],\n",
      "        [ 3.,  9., 15., 21.]])\n"
     ]
    }
   ],
   "source": [
    "a = torch.from_numpy(np.arange(4).reshape(2, 2).astype(np.float32))\n",
    "b = torch.from_numpy(np.arange(8).reshape(4, 2).astype(np.float32))\n",
    "c = torch.einsum('i i, j i -> i j', a, b)\n",
    "print(c)"
   ]
  },
  {
   "cell_type": "markdown",
   "id": "109338e7",
   "metadata": {},
   "source": [
    "### Trace\n"
   ]
  },
  {
   "cell_type": "code",
   "execution_count": 27,
   "id": "1b48b805",
   "metadata": {},
   "outputs": [
    {
     "name": "stdout",
     "output_type": "stream",
     "text": [
      "tensor(12.)\n"
     ]
    }
   ],
   "source": [
    "trace = torch.einsum('i i -> ', w)\n",
    "print(trace)"
   ]
  },
  {
   "cell_type": "markdown",
   "id": "b5b510f1",
   "metadata": {},
   "source": [
    "### Transpose\n"
   ]
  },
  {
   "cell_type": "code",
   "execution_count": 28,
   "id": "d3846970",
   "metadata": {},
   "outputs": [
    {
     "name": "stdout",
     "output_type": "stream",
     "text": [
      "tensor([[0., 3., 6.],\n",
      "        [1., 4., 7.],\n",
      "        [2., 5., 8.]])\n"
     ]
    }
   ],
   "source": [
    "transpose = torch.einsum('i j -> j i', w)\n",
    "print(transpose)"
   ]
  }
 ],
 "metadata": {
  "kernelspec": {
   "display_name": "ai231",
   "language": "python",
   "name": "python3"
  },
  "language_info": {
   "codemirror_mode": {
    "name": "ipython",
    "version": 3
   },
   "file_extension": ".py",
   "mimetype": "text/x-python",
   "name": "python",
   "nbconvert_exporter": "python",
   "pygments_lexer": "ipython3",
   "version": "3.12.11"
  }
 },
 "nbformat": 4,
 "nbformat_minor": 5
}
