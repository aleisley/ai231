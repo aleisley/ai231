{
 "cells": [
  {
   "cell_type": "markdown",
   "id": "82811892",
   "metadata": {},
   "source": [
    "### ME2: Recreating a Pre-trained AlexNet on Numpy\n"
   ]
  },
  {
   "cell_type": "markdown",
   "id": "bb65963a",
   "metadata": {},
   "source": [
    "#### Import necessary packages\n",
    "\n",
    "This notebook demonstrates custom deep learning inference using NumPy for portability and clarity.\n",
    "\n",
    "- **NumPy** is the core array library we use to implement convolution, pooling, activation, and linear layers from scratch.\n",
    "- We still rely on PyTorch / torchvision for data loading and to access pretrained AlexNet weights.\n",
    "- Supporting packages (einops for concise tensor algebra, tqdm for progress reporting) round out the tooling.\n",
    "\n",
    "The imports below are grouped to highlight standard libraries, third-party utilities, and NumPy stride tricks used for patch extraction.\n"
   ]
  },
  {
   "cell_type": "code",
   "execution_count": 17,
   "id": "eb363a3e",
   "metadata": {},
   "outputs": [],
   "source": [
    "# Standard library imports\n",
    "import time\n",
    "from collections import defaultdict\n",
    "from functools import wraps\n",
    "from pathlib import Path\n",
    "from typing import Tuple\n",
    "\n",
    "# Third-party imports\n",
    "from einops import einsum\n",
    "from torch.utils.data import DataLoader\n",
    "from torchvision.datasets import ImageNet\n",
    "from torchvision.models import AlexNet_Weights\n",
    "from tqdm.auto import tqdm\n",
    "\n",
    "# NumPy imports\n",
    "import numpy as np\n",
    "from numpy.lib.stride_tricks import sliding_window_view"
   ]
  },
  {
   "cell_type": "markdown",
   "id": "a526892a",
   "metadata": {},
   "source": [
    "#### Load the weights and biases of AlexNet\n",
    "\n",
    "In this section, we extract the pretrained weights and biases from torchvision's AlexNet model.\n",
    "\n",
    "- The weights and biases are loaded using the default configuration from `AlexNet_Weights`.\n",
    "- These parameters are stored in a dictionary and printed to verify the available keys.\n",
    "- Our custom layers will use these pretrained values for inference, ensuring the model matches the original AlexNet architecture.\n",
    "\n",
    "This step is essential for initializing all custom layers with correct parameters before running inference on the validation set.\n"
   ]
  },
  {
   "cell_type": "code",
   "execution_count": 18,
   "id": "c0ee8f17",
   "metadata": {},
   "outputs": [
    {
     "name": "stdout",
     "output_type": "stream",
     "text": [
      "odict_keys(['features.0.weight', 'features.0.bias', 'features.3.weight', 'features.3.bias', 'features.6.weight', 'features.6.bias', 'features.8.weight', 'features.8.bias', 'features.10.weight', 'features.10.bias', 'classifier.1.weight', 'classifier.1.bias', 'classifier.4.weight', 'classifier.4.bias', 'classifier.6.weight', 'classifier.6.bias'])\n"
     ]
    }
   ],
   "source": [
    "weights_and_biases = AlexNet_Weights.DEFAULT.get_state_dict()\n",
    "print(weights_and_biases.keys())"
   ]
  },
  {
   "cell_type": "markdown",
   "id": "9635ee35",
   "metadata": {},
   "source": [
    "#### Custom Modules and Mixins\n",
    "\n",
    "We replace `torch.nn.Module`/`nn.Sequential` with lightweight NumPy-native\n",
    "wrappers so the rest of the notebook can stay framework-free once the\n",
    "weights are loaded. `NumpyModule` keeps the familiar \"forward/\n",
    "**call**/train/eval\" surface, while `NumpySequential` chains layers just\n",
    "like PyTorch's container.\n",
    "\n",
    "The same section also defines mixins used by later layers:\n",
    "\n",
    "- `WeightsAndBiasMixin` pulls pretrained tensors from the AlexNet state dict\n",
    "  and converts them to NumPy.\n",
    "- `PatchMixin` provides the shared sliding-window extraction that powers\n",
    "  both convolution and pooling implementations.\n"
   ]
  },
  {
   "cell_type": "code",
   "execution_count": 19,
   "id": "0f2dfa80",
   "metadata": {},
   "outputs": [],
   "source": [
    "class NumpyModule:\n",
    "    \"\"\"Minimal module interface for NumPy-based layers.\"\"\"\n",
    "\n",
    "    def __init__(self) -> None:\n",
    "        super().__init__()\n",
    "        self.training = True\n",
    "\n",
    "    def __call__(self, *args, **kwargs):\n",
    "        return self.forward(*args, **kwargs)\n",
    "\n",
    "    def forward(self, *args, **kwargs):\n",
    "        raise NotImplementedError\n",
    "\n",
    "    def train(self, mode: bool = True):\n",
    "        self.training = mode\n",
    "        return self\n",
    "\n",
    "    def eval(self):\n",
    "        return self.train(False)\n",
    "\n",
    "\n",
    "class NumpySequential(NumpyModule):\n",
    "    \"\"\"Sequential container chaining NumpyModule layers.\"\"\"\n",
    "\n",
    "    def __init__(self, *layers):\n",
    "        super().__init__()\n",
    "        self.layers = list(layers)\n",
    "\n",
    "    def forward(self, x):\n",
    "        for layer in self.layers:\n",
    "            x = layer(x)\n",
    "        return x\n",
    "\n",
    "    def train(self, mode: bool = True):\n",
    "        super().train(mode)\n",
    "        for layer in self.layers:\n",
    "            train_fn = getattr(layer, 'train', None)\n",
    "            if callable(train_fn):\n",
    "                train_fn(mode)\n",
    "        return self\n",
    "\n",
    "\n",
    "class PatchMixin:\n",
    "    \"\"\"Mixin for extracting patches from input arrays with a given kernel size and stride.\n",
    "    Used for convolution and pooling operations on NumPy arrays.\"\"\"\n",
    "\n",
    "    def __init__(self, kernel_size: int, stride: int) -> None:\n",
    "        \"\"\"Initialize patch extraction parameters.\n",
    "        Args:\n",
    "            kernel_size (int): Size of the square kernel.\n",
    "            stride (int): Stride for patch extraction.\n",
    "        \"\"\"\n",
    "        super().__init__()\n",
    "        self.kernel_size = kernel_size\n",
    "        self.stride = stride\n",
    "\n",
    "    def _patch_with_stride(self, x_pad: np.ndarray) -> np.ndarray:\n",
    "        \"\"\"Extract k x k patches from the input array with the given stride.\n",
    "        Args:\n",
    "            x_pad (np.ndarray): Input array of shape (b, c, h, w).\n",
    "        Returns:\n",
    "            np.ndarray: Array of shape (b, c, h/stride, w/stride, k, k) containing the extracted patches.\n",
    "        \"\"\"\n",
    "        windows = sliding_window_view(  # type: ignore\n",
    "            x_pad,\n",
    "            window_shape=(self.kernel_size, self.kernel_size),\n",
    "            axis=(-2, -1)  # type: ignore\n",
    "        )\n",
    "        return windows[:, :, ::self.stride, ::self.stride, :, :]\n",
    "\n",
    "\n",
    "class WeightsAndBiasMixin:\n",
    "    \"\"\"Mixin for loading pretrained weights and biases from a state dict as NumPy arrays.\"\"\"\n",
    "\n",
    "    def __init__(self, *args, **kwargs) -> None:\n",
    "        \"\"\"Initialize the mixin (calls super).\"\"\"\n",
    "        super().__init__(*args, **kwargs)\n",
    "\n",
    "    def init_weights_and_bias(self, weight_loc: str, bias_loc: str) -> Tuple[np.ndarray, np.ndarray]:\n",
    "        \"\"\"Load weights and biases from the state dict.\n",
    "        Args:\n",
    "            weight_loc (str): Key for weights in the state dict.\n",
    "            bias_loc (str): Key for biases in the state dict.\n",
    "        Returns:\n",
    "            Tuple[np.ndarray, np.ndarray]: NumPy arrays for weights and biases.\n",
    "        \"\"\"\n",
    "        weight = weights_and_biases[weight_loc].detach().cpu().numpy()\n",
    "        bias = weights_and_biases[bias_loc].detach().cpu().numpy()\n",
    "        return weight, bias"
   ]
  },
  {
   "cell_type": "markdown",
   "id": "059ebd56",
   "metadata": {},
   "source": [
    "#### Profiling Usage\n",
    "\n",
    "All forward methods are wrapped with a lightweight timing decorator storing per-call events in `PROFILE_EVENTS`.\n",
    "\n",
    "After running inference you can view an aggregate table:\n",
    "\n",
    "```python\n",
    "profile_summary()                 # default sort by total time\n",
    "profile_summary(sort=\"mean\")      # sort by mean per call\n",
    "profile_summary(sort=\"max\")       # highlight worst single call\n",
    "profile_summary(top_n=5)          # show only top 5 layers\n",
    "```\n",
    "\n",
    "Columns:\n",
    "\n",
    "- Total(ms): cumulative time across calls\n",
    "- Mean(ms): average per invocation\n",
    "- Max(ms): slowest single invocation\n",
    "- Calls: number of times that layer's forward executed\n",
    "\n",
    "To reset profiling data between experiments:\n",
    "\n",
    "```python\n",
    "PROFILE_EVENTS.clear()\n",
    "```\n"
   ]
  },
  {
   "cell_type": "code",
   "execution_count": 20,
   "id": "93abbf2b",
   "metadata": {},
   "outputs": [],
   "source": [
    "# Profiling utilities: decorator to time forward methods\n",
    "PROFILE_EVENTS = []  # list of dicts: {\"name\": str, \"elapsed\": float}\n",
    "\n",
    "\n",
    "def profile_forward(name: str | None = None):\n",
    "    \"\"\"Decorator to measure execution time of forward methods.\n",
    "\n",
    "    Args:\n",
    "        name: Optional override name. If None attempts to derive from self.__class__.__name__.\n",
    "    \"\"\"\n",
    "    def outer(fn):\n",
    "        @wraps(fn)\n",
    "        def inner(self, *args, **kwargs):\n",
    "            label = name or self.__class__.__name__\n",
    "            start = time.perf_counter()\n",
    "            out = fn(self, *args, **kwargs)\n",
    "            end = time.perf_counter()\n",
    "            PROFILE_EVENTS.append({\"name\": label, \"elapsed\": end - start})\n",
    "            return out\n",
    "        return inner\n",
    "    return outer\n",
    "\n",
    "\n",
    "def profile_summary(sort: str = \"total\", top_n: int | None = None):\n",
    "    \"\"\"Print aggregated profiling results.\n",
    "\n",
    "    Args:\n",
    "        sort: One of {\"total\", \"mean\", \"calls\", \"max\"} to control ordering.\n",
    "        top_n: If provided, limit output rows.\n",
    "    \"\"\"\n",
    "    if not PROFILE_EVENTS:\n",
    "        print(\"No profiling data collected.\")\n",
    "        return\n",
    "    agg = defaultdict(lambda: {\"total\": 0.0, \"calls\": 0, \"max\": 0.0})\n",
    "    for ev in PROFILE_EVENTS:\n",
    "        a = agg[ev[\"name\"]]\n",
    "        a[\"total\"] += ev[\"elapsed\"]\n",
    "        a[\"calls\"] += 1\n",
    "        if ev[\"elapsed\"] > a[\"max\"]:\n",
    "            a[\"max\"] = ev[\"elapsed\"]\n",
    "    rows = []\n",
    "    for name, stats in agg.items():\n",
    "        mean = stats[\"total\"] / stats[\"calls\"]\n",
    "        rows.append({\"name\": name, **stats, \"mean\": mean})\n",
    "    rows.sort(key=lambda r: r[sort], reverse=True)\n",
    "    if top_n is not None:\n",
    "        rows = rows[:top_n]\n",
    "    header = f\"{'Layer':<22} {'Calls':>5} {'Total(ms)':>12} {'Mean(ms)':>12} {'Max(ms)':>12}\"\n",
    "    print(header)\n",
    "    print('-' * len(header))\n",
    "    for r in rows:\n",
    "        print(f\"{r['name']:<22} {r['calls']:>5} {r['total']*1000:>12.3f} {r['mean']*1000:>12.3f} {r['max']*1000:>12.3f}\")"
   ]
  },
  {
   "cell_type": "markdown",
   "id": "b5429bfd",
   "metadata": {},
   "source": [
    "#### Load the data\n",
    "\n",
    "In this section, we load the ImageNet validation dataset and prepare it for inference with our custom NumPy-based AlexNet implementation.\n",
    "\n",
    "- We use torchvision's `ImageNet` class to access the validation split, applying the standard AlexNet preprocessing transforms.\n",
    "- The DataLoader batches images; our custom `default_collate` converts tensors directly to NumPy arrays.\n",
    "- Keeping everything in NumPy simplifies the educational focus (no device transfers or GPU specifics).\n",
    "\n",
    "This setup enables end-to-end inference using only NumPy for tensor operations alongside pretrained weights.\n"
   ]
  },
  {
   "cell_type": "code",
   "execution_count": 21,
   "id": "8698e65c",
   "metadata": {},
   "outputs": [],
   "source": [
    "def get_data_root() -> Path:\n",
    "    \"\"\" Return a dataset root path, preferring Google Drive if on Colab \"\"\"\n",
    "\n",
    "    COLAB_DRIVE_ROOT = Path(\"/content/drive/MyDrive/ImageNet1k\")\n",
    "    DEFAULT_LOCAL_ROOT = Path(\"data/ImageNet1k\")\n",
    "\n",
    "    try:\n",
    "        import google.colab  # type: ignore\n",
    "    except ImportError:\n",
    "        return DEFAULT_LOCAL_ROOT\n",
    "\n",
    "    try:\n",
    "        from google.colab import drive  # type: ignore\n",
    "        drive.mount(\"/content/drive\")\n",
    "        return COLAB_DRIVE_ROOT\n",
    "    except Exception as e:\n",
    "        print(f'[WARNING] Could not mound Google Drive {e}')\n",
    "        return DEFAULT_LOCAL_ROOT\n",
    "\n",
    "\n",
    "def default_collate(batch):\n",
    "    \"\"\"\n",
    "    Collate function converting incoming PyTorch tensors to NumPy arrays.\n",
    "\n",
    "    We convert tensors early so all subsequent custom layers operate purely on\n",
    "    NumPy arrays (no device transfers needed).\n",
    "    \"\"\"\n",
    "    imgs, labels = zip(*batch)  # imgs: tuple[torch.Tensor], labels: tuple[int]\n",
    "    imgs = [np.asarray(img.numpy(), dtype=np.float32) for img in imgs]\n",
    "    imgs = np.stack(imgs, axis=0)                 # [B,3,224,224]\n",
    "    labels = np.asarray(labels, dtype=np.int64)    # [B]\n",
    "    return imgs, labels\n",
    "\n",
    "\n",
    "imagenet_val = ImageNet(\n",
    "    root=get_data_root(),\n",
    "    split=\"val\",\n",
    "    transform=AlexNet_Weights.IMAGENET1K_V1.transforms()\n",
    ")\n",
    "\n",
    "val_dataloader = DataLoader(\n",
    "    imagenet_val,\n",
    "    batch_size=256,\n",
    "    num_workers=0,\n",
    "    pin_memory=False,\n",
    "    drop_last=False,\n",
    "    collate_fn=default_collate\n",
    ")"
   ]
  },
  {
   "cell_type": "markdown",
   "id": "11075a2b",
   "metadata": {},
   "source": [
    "#### Define the custom Conv2d\n",
    "\n",
    "We implement convolution with an explicit im2col + GEMM strategy:\n",
    "\n",
    "1. (Optional) pad the input.\n",
    "2. Use `sliding_window_view` to obtain a strided view of all k×k receptive fields.\n",
    "3. Reshape (B, C, out_h, out_w, k, k) -> (B*out_h*out_w, C*k*k).\n",
    "4. Reshape weights (C_out, C, k, k) -> (C_out, C*k*k).\n",
    "5. Perform a single matrix multiply and reshape back.\n",
    "\n",
    "Compared to a high-rank `einsum` over the patch tensor, this form usually maps better onto optimized BLAS routines, improving runtime for large kernels and early layers.\n"
   ]
  },
  {
   "cell_type": "code",
   "execution_count": 22,
   "id": "552c4b36",
   "metadata": {},
   "outputs": [],
   "source": [
    "class CustomConv2d(WeightsAndBiasMixin, PatchMixin, NumpyModule):\n",
    "    \"\"\"\n",
    "    Custom 2D Convolution layer using NumPy and an im2col + GEMM strategy.\n",
    "\n",
    "    Steps:\n",
    "      1. (Optional) Pad input.\n",
    "      2. Extract sliding windows (im2col) with stride via `sliding_window_view`.\n",
    "      3. Reshape patches to a 2D matrix (B*out_h*out_w, C*k*k).\n",
    "      4. Reshape weights to (out_channels, C*k*k) and perform a matrix multiply.\n",
    "      5. Reshape back to (B, out_channels, out_h, out_w) and add bias.\n",
    "\n",
    "    This avoids a high-rank einsum over strided memory and leverages optimized BLAS.\n",
    "    \"\"\"\n",
    "\n",
    "    def __init__(\n",
    "        self,\n",
    "        in_channels: int,\n",
    "        out_channels: int,\n",
    "        kernel_size: int,\n",
    "        stride: int = 1,\n",
    "        padding: int = 0,\n",
    "        weight_loc: str = '',\n",
    "        bias_loc: str = '',\n",
    "    ) -> None:\n",
    "        \"\"\"Initialize the convolution layer with parameters and pretrained weights/biases.\n",
    "        Args:\n",
    "            in_channels (int): Number of input channels.\n",
    "            out_channels (int): Number of output channels.\n",
    "            kernel_size (int): Size of the convolution kernel.\n",
    "            stride (int, optional): Stride for convolution. Defaults to 1.\n",
    "            padding (int, optional): Padding for input. Defaults to 0.\n",
    "            weight_loc (str, optional): Key for weights in state dict.\n",
    "            bias_loc (str, optional): Key for biases in state dict.\n",
    "        \"\"\"\n",
    "        super().__init__(kernel_size, stride)\n",
    "        self.in_channels = in_channels\n",
    "        self.out_channels = out_channels\n",
    "        self.kernel_size = kernel_size\n",
    "        self.stride = stride\n",
    "        self.padding = padding\n",
    "\n",
    "        self.weight, self.bias = self.init_weights_and_bias(\n",
    "            weight_loc, bias_loc)\n",
    "        self.reset_parameters()\n",
    "\n",
    "    def reset_parameters(self) -> None:\n",
    "        \"\"\"No-op for pretrained weights. Provided for API compatibility.\"\"\"\n",
    "        pass\n",
    "\n",
    "    def _apply_padding(self, x: np.ndarray) -> np.ndarray:\n",
    "        \"\"\"Apply zero padding to the input array if required.\n",
    "        Args:\n",
    "            x (np.ndarray): Input array of shape (b, c, h, w).\n",
    "        Returns:\n",
    "            np.ndarray: Padded input array.\n",
    "        \"\"\"\n",
    "        if self.padding == 0:\n",
    "            return x\n",
    "        return np.pad(\n",
    "            x,\n",
    "            pad_width=((0, 0), (0, 0), (self.padding, self.padding),\n",
    "                       (self.padding, self.padding)),\n",
    "            mode='constant',\n",
    "            constant_values=0,\n",
    "        )\n",
    "\n",
    "    @profile_forward()\n",
    "    def forward(self, x: np.ndarray) -> np.ndarray:\n",
    "        \"\"\"Perform the forward pass using im2col + matrix multiply.\n",
    "        Args:\n",
    "            x (np.ndarray): Input array of shape (B, C_in, H, W).\n",
    "        Returns:\n",
    "            np.ndarray: Output array of shape (B, C_out, H_out, W_out).\n",
    "        \"\"\"\n",
    "        B, C, H, W = x.shape\n",
    "        k = self.kernel_size\n",
    "        x_pad = self._apply_padding(x)\n",
    "        H_p, W_p = x_pad.shape[2:]\n",
    "        out_h = (H_p - k) // self.stride + 1\n",
    "        out_w = (W_p - k) // self.stride + 1\n",
    "\n",
    "        windows = self._patch_with_stride(x_pad)\n",
    "\n",
    "        # Reshape to (B*out_h*out_w, C*k*k)\n",
    "        col = windows.reshape(B, C, out_h, out_w, k * k)\n",
    "        col = col.transpose(0, 2, 3, 1, 4).reshape(\n",
    "            B * out_h * out_w, C * k * k)\n",
    "\n",
    "        # Weight reshape: (C_out, C*k*k)\n",
    "        w_mat = self.weight.reshape(self.out_channels, C * k * k)\n",
    "\n",
    "        # GEMM: (N, C*k*k) @ (C*k*k, C_out) -> (N, C_out)\n",
    "        out_mat = col @ w_mat.T\n",
    "\n",
    "        # Reshape back: (B, out_h, out_w, C_out) -> (B, C_out, out_h, out_w)\n",
    "        out = out_mat.reshape(\n",
    "            B, out_h, out_w, self.out_channels).transpose(0, 3, 1, 2)\n",
    "\n",
    "        if self.bias is not None:\n",
    "            out += self.bias[None, :, None, None]\n",
    "        return out"
   ]
  },
  {
   "cell_type": "markdown",
   "id": "224e56b1",
   "metadata": {},
   "source": [
    "#### Custom ReLU\n",
    "\n",
    "A straightforward NumPy implementation of ReLU using `np.maximum`.\n"
   ]
  },
  {
   "cell_type": "code",
   "execution_count": 23,
   "id": "8bf053fa",
   "metadata": {},
   "outputs": [],
   "source": [
    "class CustomReLU(NumpyModule):\n",
    "    \"\"\"\n",
    "    Custom ReLU activation layer using NumPy.\n",
    "\n",
    "    Applies the Rectified Linear Unit (ReLU) function: f(x)=max(0,x) element-wise.\n",
    "    \"\"\"\n",
    "\n",
    "    @profile_forward()\n",
    "    def forward(self, x: np.ndarray) -> np.ndarray:\n",
    "        \"\"\"Apply ReLU to the input.\n",
    "        Args:\n",
    "            x (np.ndarray): Input tensor of any shape.\n",
    "        Returns:\n",
    "            np.ndarray: Same shape as input with negatives zeroed.\n",
    "        \"\"\"\n",
    "        return np.maximum(x, 0.0)"
   ]
  },
  {
   "cell_type": "markdown",
   "id": "c9e33de1",
   "metadata": {},
   "source": [
    "#### Custom MaxPool2d\n",
    "\n",
    "Implemented via the same patch extraction utility as convolution, followed by a reduction (`np.max`) over the spatial kernel dimensions.\n"
   ]
  },
  {
   "cell_type": "code",
   "execution_count": 24,
   "id": "9152ca94",
   "metadata": {},
   "outputs": [],
   "source": [
    "class CustomMaxPool2d(PatchMixin, NumpyModule):\n",
    "    \"\"\"\n",
    "    Custom Max Pooling layer using NumPy.\n",
    "\n",
    "    Extracts spatial patches then takes the maximum over each patch.\n",
    "    \"\"\"\n",
    "\n",
    "    def __init__(self, kernel_size: int, stride: int) -> None:\n",
    "        super().__init__(kernel_size, stride)\n",
    "\n",
    "    @profile_forward()\n",
    "    def forward(self, x: np.ndarray) -> np.ndarray:\n",
    "        \"\"\"Apply max pooling.\n",
    "        Args:\n",
    "            x (np.ndarray): Input of shape (batch, channels, height, width).\n",
    "        Returns:\n",
    "            np.ndarray: Pooled output.\n",
    "        \"\"\"\n",
    "        patched_windows = self._patch_with_stride(x)\n",
    "        return np.max(patched_windows, axis=(-2, -1))"
   ]
  },
  {
   "cell_type": "markdown",
   "id": "2f39ecc6",
   "metadata": {},
   "source": [
    "#### Custom Adaptive AvgPool2d\n",
    "\n",
    "Reduces arbitrary spatial dimensions to a fixed target by averaging over partitioned regions computed with integer floor/ceil boundaries.\n"
   ]
  },
  {
   "cell_type": "code",
   "execution_count": 25,
   "id": "60188491",
   "metadata": {},
   "outputs": [],
   "source": [
    "class CustomAdaptiveAvgPool2d(NumpyModule):\n",
    "    \"\"\"\n",
    "    Adaptive Average Pooling layer implemented with NumPy.\n",
    "\n",
    "    Reduces spatial dimensions to a target (H_out, W_out) by averaging over\n",
    "    variable-sized input regions computed via integer partitioning.\n",
    "    \"\"\"\n",
    "\n",
    "    def __init__(self, output_size: tuple[int, int]) -> None:\n",
    "        super().__init__()\n",
    "        if isinstance(output_size, int):\n",
    "            self.output_size = (output_size, output_size)\n",
    "        else:\n",
    "            self.output_size = output_size\n",
    "\n",
    "    @profile_forward()\n",
    "    def forward(self, x: np.ndarray) -> np.ndarray:\n",
    "        \"\"\"Apply adaptive average pooling.\n",
    "        Args:\n",
    "            x (np.ndarray): Input of shape (batch, channels, height, width).\n",
    "        Returns:\n",
    "            np.ndarray: Output of shape (batch, channels, H_out, W_out).\n",
    "        \"\"\"\n",
    "        b, c, h, w = x.shape\n",
    "        out_h, out_w = self.output_size\n",
    "        out = np.zeros((b, c, out_h, out_w), dtype=x.dtype)\n",
    "        for i in range(out_h):\n",
    "            h_start = int(np.floor(i * h / out_h))\n",
    "            h_end = int(np.ceil((i + 1) * h / out_h))\n",
    "            for j in range(out_w):\n",
    "                w_start = int(np.floor(j * w / out_w))\n",
    "                w_end = int(np.ceil((j + 1) * w / out_w))\n",
    "                region = x[:, :, h_start:h_end, w_start:w_end]\n",
    "                out[:, :, i, j] = region.mean(axis=(-2, -1))\n",
    "        return out"
   ]
  },
  {
   "cell_type": "markdown",
   "id": "7c97264d",
   "metadata": {},
   "source": [
    "#### Custom Linear Module\n",
    "\n",
    "Uses `einsum` to express the matrix multiply `x W^T` cleanly, then adds the bias. Operates purely on NumPy arrays.\n"
   ]
  },
  {
   "cell_type": "code",
   "execution_count": 26,
   "id": "fe6b05b1",
   "metadata": {},
   "outputs": [],
   "source": [
    "class EinopsLinear(WeightsAndBiasMixin, NumpyModule):\n",
    "    \"\"\"\n",
    "    Custom Linear (fully connected) layer using NumPy and einops.\n",
    "\n",
    "    Performs y = x W^T + b via einsum for clarity.\n",
    "    \"\"\"\n",
    "\n",
    "    def __init__(self, in_features: int, out_features: int, weight_loc: str, bias_loc: str):\n",
    "        super().__init__()\n",
    "        self.in_features = in_features\n",
    "        self.out_features = out_features\n",
    "        self.weight, self.bias = self.init_weights_and_bias(\n",
    "            weight_loc, bias_loc)\n",
    "\n",
    "    @profile_forward()\n",
    "    def forward(self, x: np.ndarray) -> np.ndarray:\n",
    "        \"\"\"Forward pass.\n",
    "        Args:\n",
    "            x (np.ndarray): Shape (batch, in_features).\n",
    "        Returns:\n",
    "            np.ndarray: Shape (batch, out_features).\n",
    "        \"\"\"\n",
    "        y = einsum(x, self.weight, \"b i, o i -> b o\")\n",
    "        if self.bias is not None:\n",
    "            y = y + self.bias\n",
    "        return y"
   ]
  },
  {
   "cell_type": "markdown",
   "id": "6fd790db",
   "metadata": {},
   "source": [
    "#### AlexNet Class Implementation\n",
    "\n",
    "Assembles the feature extractor, adaptive pooling, and classifier blocks using the custom NumPy-based layers defined above.\n"
   ]
  },
  {
   "cell_type": "code",
   "execution_count": 27,
   "id": "feb5b73b",
   "metadata": {},
   "outputs": [],
   "source": [
    "class AlexNet(NumpyModule):\n",
    "    \"\"\"\n",
    "    Custom AlexNet implementation using NumPy for educational inference.\n",
    "\n",
    "    Replicates the original AlexNet architecture with all major layers\n",
    "    (convolution, pooling, linear, activation) implemented from scratch\n",
    "    operating on NumPy arrays. Pretrained weights are loaded from the\n",
    "    torchvision reference model.\n",
    "    \"\"\"\n",
    "\n",
    "    def __init__(self, num_classes: int = 1000) -> None:\n",
    "        super().__init__()\n",
    "        self.features = NumpySequential(\n",
    "            CustomConv2d(3, 64, kernel_size=11, stride=4, padding=2,\n",
    "                         weight_loc='features.0.weight', bias_loc='features.0.bias'),\n",
    "            CustomReLU(),\n",
    "            CustomMaxPool2d(kernel_size=3, stride=2),\n",
    "            CustomConv2d(64, 192, kernel_size=5, padding=2,\n",
    "                         weight_loc='features.3.weight', bias_loc='features.3.bias'),\n",
    "            CustomReLU(),\n",
    "            CustomMaxPool2d(kernel_size=3, stride=2),\n",
    "            CustomConv2d(192, 384, kernel_size=3, padding=1,\n",
    "                         weight_loc='features.6.weight', bias_loc='features.6.bias'),\n",
    "            CustomReLU(),\n",
    "            CustomConv2d(384, 256, kernel_size=3, padding=1,\n",
    "                         weight_loc='features.8.weight', bias_loc='features.8.bias'),\n",
    "            CustomReLU(),\n",
    "            CustomConv2d(256, 256, kernel_size=3, padding=1,\n",
    "                         weight_loc='features.10.weight', bias_loc='features.10.bias'),\n",
    "            CustomReLU(),\n",
    "            CustomMaxPool2d(kernel_size=3, stride=2),\n",
    "        )\n",
    "        self.avgpool = CustomAdaptiveAvgPool2d((6, 6))\n",
    "        self.classifier = NumpySequential(\n",
    "            EinopsLinear(256 * 6 * 6, 4096, weight_loc='classifier.1.weight',\n",
    "                         bias_loc='classifier.1.bias'),\n",
    "            CustomReLU(),\n",
    "            EinopsLinear(4096, 4096, weight_loc='classifier.4.weight',\n",
    "                         bias_loc='classifier.4.bias'),\n",
    "            CustomReLU(),\n",
    "            EinopsLinear(4096, num_classes, weight_loc='classifier.6.weight',\n",
    "                         bias_loc='classifier.6.bias'),\n",
    "        )\n",
    "\n",
    "    @profile_forward(\"AlexNet.forward\")\n",
    "    def forward(self, x: np.ndarray) -> np.ndarray:\n",
    "        \"\"\"Forward pass.\n",
    "        Args:\n",
    "            x (np.ndarray): (batch, 3, 224, 224)\n",
    "        Returns:\n",
    "            np.ndarray: (batch, num_classes) class scores.\n",
    "        \"\"\"\n",
    "        x = self.features(x)\n",
    "        x = self.avgpool(x)\n",
    "        b = x.shape[0]\n",
    "        x = x.reshape(b, -1)  # flatten\n",
    "        x = self.classifier(x)\n",
    "        return x"
   ]
  },
  {
   "cell_type": "markdown",
   "id": "6ec05e96",
   "metadata": {},
   "source": [
    "#### Inference\n",
    "\n",
    "Run a forward pass over the validation set, accumulating accuracy using NumPy operations.\n"
   ]
  },
  {
   "cell_type": "code",
   "execution_count": 28,
   "id": "32b532ce",
   "metadata": {},
   "outputs": [
    {
     "name": "stderr",
     "output_type": "stream",
     "text": [
      "Evaluating:   1%|          | 1/196 [00:07<22:59,  7.08s/it]"
     ]
    },
    {
     "name": "stdout",
     "output_type": "stream",
     "text": [
      "Running Acc: 0.6836\n"
     ]
    },
    {
     "name": "stderr",
     "output_type": "stream",
     "text": [
      "Evaluating:   1%|          | 2/196 [00:12<19:19,  5.98s/it]"
     ]
    },
    {
     "name": "stdout",
     "output_type": "stream",
     "text": [
      "Running Acc: 0.7109\n"
     ]
    },
    {
     "name": "stderr",
     "output_type": "stream",
     "text": [
      "Evaluating:   2%|▏         | 3/196 [00:17<17:24,  5.41s/it]"
     ]
    },
    {
     "name": "stdout",
     "output_type": "stream",
     "text": [
      "Running Acc: 0.7396\n"
     ]
    },
    {
     "name": "stderr",
     "output_type": "stream",
     "text": [
      "Evaluating:   2%|▏         | 4/196 [00:21<16:20,  5.10s/it]"
     ]
    },
    {
     "name": "stdout",
     "output_type": "stream",
     "text": [
      "Running Acc: 0.7500\n"
     ]
    },
    {
     "name": "stderr",
     "output_type": "stream",
     "text": [
      "Evaluating:   3%|▎         | 5/196 [00:26<15:47,  4.96s/it]"
     ]
    },
    {
     "name": "stdout",
     "output_type": "stream",
     "text": [
      "Running Acc: 0.7523\n"
     ]
    },
    {
     "name": "stderr",
     "output_type": "stream",
     "text": [
      "Evaluating:   3%|▎         | 6/196 [00:31<15:30,  4.90s/it]"
     ]
    },
    {
     "name": "stdout",
     "output_type": "stream",
     "text": [
      "Running Acc: 0.7428\n"
     ]
    },
    {
     "name": "stderr",
     "output_type": "stream",
     "text": [
      "Evaluating:   4%|▎         | 7/196 [00:36<15:29,  4.92s/it]"
     ]
    },
    {
     "name": "stdout",
     "output_type": "stream",
     "text": [
      "Running Acc: 0.7093\n"
     ]
    },
    {
     "name": "stderr",
     "output_type": "stream",
     "text": [
      "Evaluating:   4%|▍         | 8/196 [00:41<15:37,  4.99s/it]"
     ]
    },
    {
     "name": "stdout",
     "output_type": "stream",
     "text": [
      "Running Acc: 0.6816\n"
     ]
    },
    {
     "name": "stderr",
     "output_type": "stream",
     "text": [
      "Evaluating:   5%|▍         | 9/196 [00:46<15:33,  4.99s/it]"
     ]
    },
    {
     "name": "stdout",
     "output_type": "stream",
     "text": [
      "Running Acc: 0.6693\n"
     ]
    },
    {
     "name": "stderr",
     "output_type": "stream",
     "text": [
      "Evaluating:   5%|▌         | 10/196 [00:51<15:19,  4.94s/it]"
     ]
    },
    {
     "name": "stdout",
     "output_type": "stream",
     "text": [
      "Running Acc: 0.6559\n"
     ]
    },
    {
     "name": "stderr",
     "output_type": "stream",
     "text": [
      "Evaluating:   6%|▌         | 11/196 [00:55<15:11,  4.92s/it]"
     ]
    },
    {
     "name": "stdout",
     "output_type": "stream",
     "text": [
      "Running Acc: 0.6456\n"
     ]
    },
    {
     "name": "stderr",
     "output_type": "stream",
     "text": [
      "Evaluating:   6%|▌         | 12/196 [01:00<15:06,  4.93s/it]"
     ]
    },
    {
     "name": "stdout",
     "output_type": "stream",
     "text": [
      "Running Acc: 0.6283\n"
     ]
    },
    {
     "name": "stderr",
     "output_type": "stream",
     "text": [
      "Evaluating:   7%|▋         | 13/196 [01:05<15:04,  4.94s/it]"
     ]
    },
    {
     "name": "stdout",
     "output_type": "stream",
     "text": [
      "Running Acc: 0.6145\n"
     ]
    },
    {
     "name": "stderr",
     "output_type": "stream",
     "text": [
      "Evaluating:   7%|▋         | 14/196 [01:10<14:58,  4.94s/it]"
     ]
    },
    {
     "name": "stdout",
     "output_type": "stream",
     "text": [
      "Running Acc: 0.6119\n"
     ]
    },
    {
     "name": "stderr",
     "output_type": "stream",
     "text": [
      "Evaluating:   8%|▊         | 15/196 [01:15<15:01,  4.98s/it]"
     ]
    },
    {
     "name": "stdout",
     "output_type": "stream",
     "text": [
      "Running Acc: 0.6122\n"
     ]
    },
    {
     "name": "stderr",
     "output_type": "stream",
     "text": [
      "Evaluating:   8%|▊         | 16/196 [01:20<14:53,  4.96s/it]"
     ]
    },
    {
     "name": "stdout",
     "output_type": "stream",
     "text": [
      "Running Acc: 0.6155\n"
     ]
    },
    {
     "name": "stderr",
     "output_type": "stream",
     "text": [
      "Evaluating:   9%|▊         | 17/196 [01:25<14:43,  4.94s/it]"
     ]
    },
    {
     "name": "stdout",
     "output_type": "stream",
     "text": [
      "Running Acc: 0.6234\n"
     ]
    },
    {
     "name": "stderr",
     "output_type": "stream",
     "text": [
      "Evaluating:   9%|▉         | 18/196 [01:30<14:45,  4.97s/it]"
     ]
    },
    {
     "name": "stdout",
     "output_type": "stream",
     "text": [
      "Running Acc: 0.6369\n"
     ]
    },
    {
     "name": "stderr",
     "output_type": "stream",
     "text": [
      "Evaluating:  10%|▉         | 19/196 [01:35<14:44,  4.99s/it]"
     ]
    },
    {
     "name": "stdout",
     "output_type": "stream",
     "text": [
      "Running Acc: 0.6468\n"
     ]
    },
    {
     "name": "stderr",
     "output_type": "stream",
     "text": [
      "Evaluating:  10%|█         | 20/196 [01:40<14:36,  4.98s/it]"
     ]
    },
    {
     "name": "stdout",
     "output_type": "stream",
     "text": [
      "Running Acc: 0.6520\n"
     ]
    },
    {
     "name": "stderr",
     "output_type": "stream",
     "text": [
      "Evaluating:  11%|█         | 21/196 [01:45<14:23,  4.94s/it]"
     ]
    },
    {
     "name": "stdout",
     "output_type": "stream",
     "text": [
      "Running Acc: 0.6529\n"
     ]
    },
    {
     "name": "stderr",
     "output_type": "stream",
     "text": [
      "Evaluating:  11%|█         | 22/196 [01:50<14:24,  4.97s/it]"
     ]
    },
    {
     "name": "stdout",
     "output_type": "stream",
     "text": [
      "Running Acc: 0.6529\n"
     ]
    },
    {
     "name": "stderr",
     "output_type": "stream",
     "text": [
      "Evaluating:  12%|█▏        | 23/196 [01:55<14:11,  4.92s/it]"
     ]
    },
    {
     "name": "stdout",
     "output_type": "stream",
     "text": [
      "Running Acc: 0.6510\n"
     ]
    },
    {
     "name": "stderr",
     "output_type": "stream",
     "text": [
      "Evaluating:  12%|█▏        | 24/196 [02:00<14:14,  4.97s/it]"
     ]
    },
    {
     "name": "stdout",
     "output_type": "stream",
     "text": [
      "Running Acc: 0.6481\n"
     ]
    },
    {
     "name": "stderr",
     "output_type": "stream",
     "text": [
      "Evaluating:  13%|█▎        | 25/196 [02:05<14:05,  4.94s/it]"
     ]
    },
    {
     "name": "stdout",
     "output_type": "stream",
     "text": [
      "Running Acc: 0.6430\n"
     ]
    },
    {
     "name": "stderr",
     "output_type": "stream",
     "text": [
      "Evaluating:  13%|█▎        | 26/196 [02:10<13:56,  4.92s/it]"
     ]
    },
    {
     "name": "stdout",
     "output_type": "stream",
     "text": [
      "Running Acc: 0.6487\n"
     ]
    },
    {
     "name": "stderr",
     "output_type": "stream",
     "text": [
      "Evaluating:  14%|█▍        | 27/196 [02:15<13:48,  4.90s/it]"
     ]
    },
    {
     "name": "stdout",
     "output_type": "stream",
     "text": [
      "Running Acc: 0.6534\n"
     ]
    },
    {
     "name": "stderr",
     "output_type": "stream",
     "text": [
      "Evaluating:  14%|█▍        | 28/196 [02:19<13:41,  4.89s/it]"
     ]
    },
    {
     "name": "stdout",
     "output_type": "stream",
     "text": [
      "Running Acc: 0.6575\n"
     ]
    },
    {
     "name": "stderr",
     "output_type": "stream",
     "text": [
      "Evaluating:  15%|█▍        | 29/196 [02:24<13:43,  4.93s/it]"
     ]
    },
    {
     "name": "stdout",
     "output_type": "stream",
     "text": [
      "Running Acc: 0.6630\n"
     ]
    },
    {
     "name": "stderr",
     "output_type": "stream",
     "text": [
      "Evaluating:  15%|█▌        | 30/196 [02:29<13:42,  4.95s/it]"
     ]
    },
    {
     "name": "stdout",
     "output_type": "stream",
     "text": [
      "Running Acc: 0.6629\n"
     ]
    },
    {
     "name": "stderr",
     "output_type": "stream",
     "text": [
      "Evaluating:  16%|█▌        | 31/196 [02:34<13:32,  4.93s/it]"
     ]
    },
    {
     "name": "stdout",
     "output_type": "stream",
     "text": [
      "Running Acc: 0.6618\n"
     ]
    },
    {
     "name": "stderr",
     "output_type": "stream",
     "text": [
      "Evaluating:  16%|█▋        | 32/196 [02:39<13:19,  4.88s/it]"
     ]
    },
    {
     "name": "stdout",
     "output_type": "stream",
     "text": [
      "Running Acc: 0.6591\n"
     ]
    },
    {
     "name": "stderr",
     "output_type": "stream",
     "text": [
      "Evaluating:  17%|█▋        | 33/196 [02:44<13:05,  4.82s/it]"
     ]
    },
    {
     "name": "stdout",
     "output_type": "stream",
     "text": [
      "Running Acc: 0.6525\n"
     ]
    },
    {
     "name": "stderr",
     "output_type": "stream",
     "text": [
      "Evaluating:  17%|█▋        | 34/196 [02:49<13:04,  4.84s/it]"
     ]
    },
    {
     "name": "stdout",
     "output_type": "stream",
     "text": [
      "Running Acc: 0.6495\n"
     ]
    },
    {
     "name": "stderr",
     "output_type": "stream",
     "text": [
      "Evaluating:  18%|█▊        | 35/196 [02:54<13:14,  4.94s/it]"
     ]
    },
    {
     "name": "stdout",
     "output_type": "stream",
     "text": [
      "Running Acc: 0.6482\n"
     ]
    },
    {
     "name": "stderr",
     "output_type": "stream",
     "text": [
      "Evaluating:  18%|█▊        | 36/196 [02:59<13:06,  4.92s/it]"
     ]
    },
    {
     "name": "stdout",
     "output_type": "stream",
     "text": [
      "Running Acc: 0.6452\n"
     ]
    },
    {
     "name": "stderr",
     "output_type": "stream",
     "text": [
      "Evaluating:  19%|█▉        | 37/196 [03:04<13:03,  4.93s/it]"
     ]
    },
    {
     "name": "stdout",
     "output_type": "stream",
     "text": [
      "Running Acc: 0.6426\n"
     ]
    },
    {
     "name": "stderr",
     "output_type": "stream",
     "text": [
      "Evaluating:  19%|█▉        | 38/196 [03:09<13:02,  4.95s/it]"
     ]
    },
    {
     "name": "stdout",
     "output_type": "stream",
     "text": [
      "Running Acc: 0.6405\n"
     ]
    },
    {
     "name": "stderr",
     "output_type": "stream",
     "text": [
      "Evaluating:  20%|█▉        | 39/196 [03:14<12:53,  4.93s/it]"
     ]
    },
    {
     "name": "stdout",
     "output_type": "stream",
     "text": [
      "Running Acc: 0.6402\n"
     ]
    },
    {
     "name": "stderr",
     "output_type": "stream",
     "text": [
      "Evaluating:  20%|██        | 40/196 [03:18<12:43,  4.89s/it]"
     ]
    },
    {
     "name": "stdout",
     "output_type": "stream",
     "text": [
      "Running Acc: 0.6388\n"
     ]
    },
    {
     "name": "stderr",
     "output_type": "stream",
     "text": [
      "Evaluating:  21%|██        | 41/196 [03:23<12:37,  4.89s/it]"
     ]
    },
    {
     "name": "stdout",
     "output_type": "stream",
     "text": [
      "Running Acc: 0.6373\n"
     ]
    },
    {
     "name": "stderr",
     "output_type": "stream",
     "text": [
      "Evaluating:  21%|██▏       | 42/196 [03:28<12:39,  4.93s/it]"
     ]
    },
    {
     "name": "stdout",
     "output_type": "stream",
     "text": [
      "Running Acc: 0.6356\n"
     ]
    },
    {
     "name": "stderr",
     "output_type": "stream",
     "text": [
      "Evaluating:  22%|██▏       | 43/196 [03:33<12:29,  4.90s/it]"
     ]
    },
    {
     "name": "stdout",
     "output_type": "stream",
     "text": [
      "Running Acc: 0.6370\n"
     ]
    },
    {
     "name": "stderr",
     "output_type": "stream",
     "text": [
      "Evaluating:  22%|██▏       | 44/196 [03:38<12:27,  4.92s/it]"
     ]
    },
    {
     "name": "stdout",
     "output_type": "stream",
     "text": [
      "Running Acc: 0.6355\n"
     ]
    },
    {
     "name": "stderr",
     "output_type": "stream",
     "text": [
      "Evaluating:  23%|██▎       | 45/196 [03:43<12:19,  4.90s/it]"
     ]
    },
    {
     "name": "stdout",
     "output_type": "stream",
     "text": [
      "Running Acc: 0.6346\n"
     ]
    },
    {
     "name": "stderr",
     "output_type": "stream",
     "text": [
      "Evaluating:  23%|██▎       | 46/196 [03:48<12:14,  4.90s/it]"
     ]
    },
    {
     "name": "stdout",
     "output_type": "stream",
     "text": [
      "Running Acc: 0.6332\n"
     ]
    },
    {
     "name": "stderr",
     "output_type": "stream",
     "text": [
      "Evaluating:  24%|██▍       | 47/196 [03:53<12:06,  4.88s/it]"
     ]
    },
    {
     "name": "stdout",
     "output_type": "stream",
     "text": [
      "Running Acc: 0.6324\n"
     ]
    },
    {
     "name": "stderr",
     "output_type": "stream",
     "text": [
      "Evaluating:  24%|██▍       | 48/196 [03:57<12:01,  4.87s/it]"
     ]
    },
    {
     "name": "stdout",
     "output_type": "stream",
     "text": [
      "Running Acc: 0.6315\n"
     ]
    },
    {
     "name": "stderr",
     "output_type": "stream",
     "text": [
      "Evaluating:  25%|██▌       | 49/196 [04:02<11:58,  4.89s/it]"
     ]
    },
    {
     "name": "stdout",
     "output_type": "stream",
     "text": [
      "Running Acc: 0.6290\n"
     ]
    },
    {
     "name": "stderr",
     "output_type": "stream",
     "text": [
      "Evaluating:  26%|██▌       | 50/196 [04:07<11:52,  4.88s/it]"
     ]
    },
    {
     "name": "stdout",
     "output_type": "stream",
     "text": [
      "Running Acc: 0.6312\n"
     ]
    },
    {
     "name": "stderr",
     "output_type": "stream",
     "text": [
      "Evaluating:  26%|██▌       | 51/196 [04:12<11:48,  4.89s/it]"
     ]
    },
    {
     "name": "stdout",
     "output_type": "stream",
     "text": [
      "Running Acc: 0.6329\n"
     ]
    },
    {
     "name": "stderr",
     "output_type": "stream",
     "text": [
      "Evaluating:  27%|██▋       | 52/196 [04:17<11:46,  4.90s/it]"
     ]
    },
    {
     "name": "stdout",
     "output_type": "stream",
     "text": [
      "Running Acc: 0.6323\n"
     ]
    },
    {
     "name": "stderr",
     "output_type": "stream",
     "text": [
      "Evaluating:  27%|██▋       | 53/196 [04:22<11:41,  4.91s/it]"
     ]
    },
    {
     "name": "stdout",
     "output_type": "stream",
     "text": [
      "Running Acc: 0.6309\n"
     ]
    },
    {
     "name": "stderr",
     "output_type": "stream",
     "text": [
      "Evaluating:  28%|██▊       | 54/196 [04:27<11:36,  4.90s/it]"
     ]
    },
    {
     "name": "stdout",
     "output_type": "stream",
     "text": [
      "Running Acc: 0.6314\n"
     ]
    },
    {
     "name": "stderr",
     "output_type": "stream",
     "text": [
      "Evaluating:  28%|██▊       | 55/196 [04:32<11:34,  4.93s/it]"
     ]
    },
    {
     "name": "stdout",
     "output_type": "stream",
     "text": [
      "Running Acc: 0.6321\n"
     ]
    },
    {
     "name": "stderr",
     "output_type": "stream",
     "text": [
      "Evaluating:  29%|██▊       | 56/196 [04:37<11:32,  4.95s/it]"
     ]
    },
    {
     "name": "stdout",
     "output_type": "stream",
     "text": [
      "Running Acc: 0.6309\n"
     ]
    },
    {
     "name": "stderr",
     "output_type": "stream",
     "text": [
      "Evaluating:  29%|██▉       | 57/196 [04:42<11:24,  4.93s/it]"
     ]
    },
    {
     "name": "stdout",
     "output_type": "stream",
     "text": [
      "Running Acc: 0.6321\n"
     ]
    },
    {
     "name": "stderr",
     "output_type": "stream",
     "text": [
      "Evaluating:  30%|██▉       | 58/196 [04:47<11:20,  4.93s/it]"
     ]
    },
    {
     "name": "stdout",
     "output_type": "stream",
     "text": [
      "Running Acc: 0.6342\n"
     ]
    },
    {
     "name": "stderr",
     "output_type": "stream",
     "text": [
      "Evaluating:  30%|███       | 59/196 [04:52<11:16,  4.94s/it]"
     ]
    },
    {
     "name": "stdout",
     "output_type": "stream",
     "text": [
      "Running Acc: 0.6356\n"
     ]
    },
    {
     "name": "stderr",
     "output_type": "stream",
     "text": [
      "Evaluating:  31%|███       | 60/196 [04:57<11:10,  4.93s/it]"
     ]
    },
    {
     "name": "stdout",
     "output_type": "stream",
     "text": [
      "Running Acc: 0.6348\n"
     ]
    },
    {
     "name": "stderr",
     "output_type": "stream",
     "text": [
      "Evaluating:  31%|███       | 61/196 [05:02<11:05,  4.93s/it]"
     ]
    },
    {
     "name": "stdout",
     "output_type": "stream",
     "text": [
      "Running Acc: 0.6334\n"
     ]
    },
    {
     "name": "stderr",
     "output_type": "stream",
     "text": [
      "Evaluating:  32%|███▏      | 62/196 [05:07<11:05,  4.96s/it]"
     ]
    },
    {
     "name": "stdout",
     "output_type": "stream",
     "text": [
      "Running Acc: 0.6323\n"
     ]
    },
    {
     "name": "stderr",
     "output_type": "stream",
     "text": [
      "Evaluating:  32%|███▏      | 63/196 [05:11<10:56,  4.93s/it]"
     ]
    },
    {
     "name": "stdout",
     "output_type": "stream",
     "text": [
      "Running Acc: 0.6342\n"
     ]
    },
    {
     "name": "stderr",
     "output_type": "stream",
     "text": [
      "Evaluating:  33%|███▎      | 64/196 [05:16<10:50,  4.93s/it]"
     ]
    },
    {
     "name": "stdout",
     "output_type": "stream",
     "text": [
      "Running Acc: 0.6370\n"
     ]
    },
    {
     "name": "stderr",
     "output_type": "stream",
     "text": [
      "Evaluating:  33%|███▎      | 65/196 [05:21<10:50,  4.96s/it]"
     ]
    },
    {
     "name": "stdout",
     "output_type": "stream",
     "text": [
      "Running Acc: 0.6373\n"
     ]
    },
    {
     "name": "stderr",
     "output_type": "stream",
     "text": [
      "Evaluating:  34%|███▎      | 66/196 [05:26<10:40,  4.93s/it]"
     ]
    },
    {
     "name": "stdout",
     "output_type": "stream",
     "text": [
      "Running Acc: 0.6387\n"
     ]
    },
    {
     "name": "stderr",
     "output_type": "stream",
     "text": [
      "Evaluating:  34%|███▍      | 67/196 [05:31<10:31,  4.89s/it]"
     ]
    },
    {
     "name": "stdout",
     "output_type": "stream",
     "text": [
      "Running Acc: 0.6393\n"
     ]
    },
    {
     "name": "stderr",
     "output_type": "stream",
     "text": [
      "Evaluating:  35%|███▍      | 68/196 [05:36<10:28,  4.91s/it]"
     ]
    },
    {
     "name": "stdout",
     "output_type": "stream",
     "text": [
      "Running Acc: 0.6396\n"
     ]
    },
    {
     "name": "stderr",
     "output_type": "stream",
     "text": [
      "Evaluating:  35%|███▌      | 69/196 [05:41<10:34,  4.99s/it]"
     ]
    },
    {
     "name": "stdout",
     "output_type": "stream",
     "text": [
      "Running Acc: 0.6399\n"
     ]
    },
    {
     "name": "stderr",
     "output_type": "stream",
     "text": [
      "Evaluating:  36%|███▌      | 70/196 [05:46<10:27,  4.98s/it]"
     ]
    },
    {
     "name": "stdout",
     "output_type": "stream",
     "text": [
      "Running Acc: 0.6385\n"
     ]
    },
    {
     "name": "stderr",
     "output_type": "stream",
     "text": [
      "Evaluating:  36%|███▌      | 71/196 [05:51<10:19,  4.96s/it]"
     ]
    },
    {
     "name": "stdout",
     "output_type": "stream",
     "text": [
      "Running Acc: 0.6380\n"
     ]
    },
    {
     "name": "stderr",
     "output_type": "stream",
     "text": [
      "Evaluating:  37%|███▋      | 72/196 [05:56<10:09,  4.92s/it]"
     ]
    },
    {
     "name": "stdout",
     "output_type": "stream",
     "text": [
      "Running Acc: 0.6390\n"
     ]
    },
    {
     "name": "stderr",
     "output_type": "stream",
     "text": [
      "Evaluating:  37%|███▋      | 73/196 [06:01<10:04,  4.91s/it]"
     ]
    },
    {
     "name": "stdout",
     "output_type": "stream",
     "text": [
      "Running Acc: 0.6384\n"
     ]
    },
    {
     "name": "stderr",
     "output_type": "stream",
     "text": [
      "Evaluating:  38%|███▊      | 74/196 [06:06<10:02,  4.94s/it]"
     ]
    },
    {
     "name": "stdout",
     "output_type": "stream",
     "text": [
      "Running Acc: 0.6388\n"
     ]
    },
    {
     "name": "stderr",
     "output_type": "stream",
     "text": [
      "Evaluating:  38%|███▊      | 75/196 [06:11<10:00,  4.97s/it]"
     ]
    },
    {
     "name": "stdout",
     "output_type": "stream",
     "text": [
      "Running Acc: 0.6373\n"
     ]
    },
    {
     "name": "stderr",
     "output_type": "stream",
     "text": [
      "Evaluating:  39%|███▉      | 76/196 [06:16<09:57,  4.98s/it]"
     ]
    },
    {
     "name": "stdout",
     "output_type": "stream",
     "text": [
      "Running Acc: 0.6383\n"
     ]
    },
    {
     "name": "stderr",
     "output_type": "stream",
     "text": [
      "Evaluating:  39%|███▉      | 77/196 [06:21<09:52,  4.98s/it]"
     ]
    },
    {
     "name": "stdout",
     "output_type": "stream",
     "text": [
      "Running Acc: 0.6385\n"
     ]
    },
    {
     "name": "stderr",
     "output_type": "stream",
     "text": [
      "Evaluating:  40%|███▉      | 78/196 [06:26<09:43,  4.95s/it]"
     ]
    },
    {
     "name": "stdout",
     "output_type": "stream",
     "text": [
      "Running Acc: 0.6382\n"
     ]
    },
    {
     "name": "stderr",
     "output_type": "stream",
     "text": [
      "Evaluating:  40%|████      | 79/196 [06:31<09:35,  4.92s/it]"
     ]
    },
    {
     "name": "stdout",
     "output_type": "stream",
     "text": [
      "Running Acc: 0.6373\n"
     ]
    },
    {
     "name": "stderr",
     "output_type": "stream",
     "text": [
      "Evaluating:  41%|████      | 80/196 [06:35<09:21,  4.84s/it]"
     ]
    },
    {
     "name": "stdout",
     "output_type": "stream",
     "text": [
      "Running Acc: 0.6372\n"
     ]
    },
    {
     "name": "stderr",
     "output_type": "stream",
     "text": [
      "Evaluating:  41%|████▏     | 81/196 [06:40<09:12,  4.81s/it]"
     ]
    },
    {
     "name": "stdout",
     "output_type": "stream",
     "text": [
      "Running Acc: 0.6344\n"
     ]
    },
    {
     "name": "stderr",
     "output_type": "stream",
     "text": [
      "Evaluating:  42%|████▏     | 82/196 [06:45<09:10,  4.83s/it]"
     ]
    },
    {
     "name": "stdout",
     "output_type": "stream",
     "text": [
      "Running Acc: 0.6326\n"
     ]
    },
    {
     "name": "stderr",
     "output_type": "stream",
     "text": [
      "Evaluating:  42%|████▏     | 83/196 [06:50<09:09,  4.87s/it]"
     ]
    },
    {
     "name": "stdout",
     "output_type": "stream",
     "text": [
      "Running Acc: 0.6308\n"
     ]
    },
    {
     "name": "stderr",
     "output_type": "stream",
     "text": [
      "Evaluating:  43%|████▎     | 84/196 [06:54<08:59,  4.81s/it]"
     ]
    },
    {
     "name": "stdout",
     "output_type": "stream",
     "text": [
      "Running Acc: 0.6305\n"
     ]
    },
    {
     "name": "stderr",
     "output_type": "stream",
     "text": [
      "Evaluating:  43%|████▎     | 85/196 [06:59<08:54,  4.82s/it]"
     ]
    },
    {
     "name": "stdout",
     "output_type": "stream",
     "text": [
      "Running Acc: 0.6291\n"
     ]
    },
    {
     "name": "stderr",
     "output_type": "stream",
     "text": [
      "Evaluating:  44%|████▍     | 86/196 [07:04<08:53,  4.85s/it]"
     ]
    },
    {
     "name": "stdout",
     "output_type": "stream",
     "text": [
      "Running Acc: 0.6269\n"
     ]
    },
    {
     "name": "stderr",
     "output_type": "stream",
     "text": [
      "Evaluating:  44%|████▍     | 87/196 [07:09<08:46,  4.83s/it]"
     ]
    },
    {
     "name": "stdout",
     "output_type": "stream",
     "text": [
      "Running Acc: 0.6261\n"
     ]
    },
    {
     "name": "stderr",
     "output_type": "stream",
     "text": [
      "Evaluating:  45%|████▍     | 88/196 [07:14<08:47,  4.89s/it]"
     ]
    },
    {
     "name": "stdout",
     "output_type": "stream",
     "text": [
      "Running Acc: 0.6245\n"
     ]
    },
    {
     "name": "stderr",
     "output_type": "stream",
     "text": [
      "Evaluating:  45%|████▌     | 89/196 [07:19<08:45,  4.92s/it]"
     ]
    },
    {
     "name": "stdout",
     "output_type": "stream",
     "text": [
      "Running Acc: 0.6230\n"
     ]
    },
    {
     "name": "stderr",
     "output_type": "stream",
     "text": [
      "Evaluating:  46%|████▌     | 90/196 [07:24<08:42,  4.93s/it]"
     ]
    },
    {
     "name": "stdout",
     "output_type": "stream",
     "text": [
      "Running Acc: 0.6212\n"
     ]
    },
    {
     "name": "stderr",
     "output_type": "stream",
     "text": [
      "Evaluating:  46%|████▋     | 91/196 [07:29<08:50,  5.05s/it]"
     ]
    },
    {
     "name": "stdout",
     "output_type": "stream",
     "text": [
      "Running Acc: 0.6182\n"
     ]
    },
    {
     "name": "stderr",
     "output_type": "stream",
     "text": [
      "Evaluating:  47%|████▋     | 92/196 [07:35<08:52,  5.12s/it]"
     ]
    },
    {
     "name": "stdout",
     "output_type": "stream",
     "text": [
      "Running Acc: 0.6174\n"
     ]
    },
    {
     "name": "stderr",
     "output_type": "stream",
     "text": [
      "Evaluating:  47%|████▋     | 93/196 [07:40<08:46,  5.11s/it]"
     ]
    },
    {
     "name": "stdout",
     "output_type": "stream",
     "text": [
      "Running Acc: 0.6178\n"
     ]
    },
    {
     "name": "stderr",
     "output_type": "stream",
     "text": [
      "Evaluating:  48%|████▊     | 94/196 [07:44<08:32,  5.03s/it]"
     ]
    },
    {
     "name": "stdout",
     "output_type": "stream",
     "text": [
      "Running Acc: 0.6157\n"
     ]
    },
    {
     "name": "stderr",
     "output_type": "stream",
     "text": [
      "Evaluating:  48%|████▊     | 95/196 [07:50<08:28,  5.04s/it]"
     ]
    },
    {
     "name": "stdout",
     "output_type": "stream",
     "text": [
      "Running Acc: 0.6141\n"
     ]
    },
    {
     "name": "stderr",
     "output_type": "stream",
     "text": [
      "Evaluating:  49%|████▉     | 96/196 [07:54<08:15,  4.95s/it]"
     ]
    },
    {
     "name": "stdout",
     "output_type": "stream",
     "text": [
      "Running Acc: 0.6128\n"
     ]
    },
    {
     "name": "stderr",
     "output_type": "stream",
     "text": [
      "Evaluating:  49%|████▉     | 97/196 [07:59<08:10,  4.96s/it]"
     ]
    },
    {
     "name": "stdout",
     "output_type": "stream",
     "text": [
      "Running Acc: 0.6110\n"
     ]
    },
    {
     "name": "stderr",
     "output_type": "stream",
     "text": [
      "Evaluating:  50%|█████     | 98/196 [08:04<08:00,  4.90s/it]"
     ]
    },
    {
     "name": "stdout",
     "output_type": "stream",
     "text": [
      "Running Acc: 0.6097\n"
     ]
    },
    {
     "name": "stderr",
     "output_type": "stream",
     "text": [
      "Evaluating:  51%|█████     | 99/196 [08:09<07:52,  4.87s/it]"
     ]
    },
    {
     "name": "stdout",
     "output_type": "stream",
     "text": [
      "Running Acc: 0.6069\n"
     ]
    },
    {
     "name": "stderr",
     "output_type": "stream",
     "text": [
      "Evaluating:  51%|█████     | 100/196 [08:14<07:50,  4.90s/it]"
     ]
    },
    {
     "name": "stdout",
     "output_type": "stream",
     "text": [
      "Running Acc: 0.6058\n"
     ]
    },
    {
     "name": "stderr",
     "output_type": "stream",
     "text": [
      "Evaluating:  52%|█████▏    | 101/196 [08:19<07:42,  4.87s/it]"
     ]
    },
    {
     "name": "stdout",
     "output_type": "stream",
     "text": [
      "Running Acc: 0.6035\n"
     ]
    },
    {
     "name": "stderr",
     "output_type": "stream",
     "text": [
      "Evaluating:  52%|█████▏    | 102/196 [08:23<07:37,  4.87s/it]"
     ]
    },
    {
     "name": "stdout",
     "output_type": "stream",
     "text": [
      "Running Acc: 0.6032\n"
     ]
    },
    {
     "name": "stderr",
     "output_type": "stream",
     "text": [
      "Evaluating:  53%|█████▎    | 103/196 [08:28<07:34,  4.89s/it]"
     ]
    },
    {
     "name": "stdout",
     "output_type": "stream",
     "text": [
      "Running Acc: 0.6016\n"
     ]
    },
    {
     "name": "stderr",
     "output_type": "stream",
     "text": [
      "Evaluating:  53%|█████▎    | 104/196 [08:33<07:30,  4.90s/it]"
     ]
    },
    {
     "name": "stdout",
     "output_type": "stream",
     "text": [
      "Running Acc: 0.6006\n"
     ]
    },
    {
     "name": "stderr",
     "output_type": "stream",
     "text": [
      "Evaluating:  54%|█████▎    | 105/196 [08:38<07:28,  4.93s/it]"
     ]
    },
    {
     "name": "stdout",
     "output_type": "stream",
     "text": [
      "Running Acc: 0.6006\n"
     ]
    },
    {
     "name": "stderr",
     "output_type": "stream",
     "text": [
      "Evaluating:  54%|█████▍    | 106/196 [08:43<07:23,  4.93s/it]"
     ]
    },
    {
     "name": "stdout",
     "output_type": "stream",
     "text": [
      "Running Acc: 0.5994\n"
     ]
    },
    {
     "name": "stderr",
     "output_type": "stream",
     "text": [
      "Evaluating:  55%|█████▍    | 107/196 [08:48<07:18,  4.93s/it]"
     ]
    },
    {
     "name": "stdout",
     "output_type": "stream",
     "text": [
      "Running Acc: 0.5986\n"
     ]
    },
    {
     "name": "stderr",
     "output_type": "stream",
     "text": [
      "Evaluating:  55%|█████▌    | 108/196 [08:53<07:06,  4.85s/it]"
     ]
    },
    {
     "name": "stdout",
     "output_type": "stream",
     "text": [
      "Running Acc: 0.5987\n"
     ]
    },
    {
     "name": "stderr",
     "output_type": "stream",
     "text": [
      "Evaluating:  56%|█████▌    | 109/196 [08:58<07:05,  4.90s/it]"
     ]
    },
    {
     "name": "stdout",
     "output_type": "stream",
     "text": [
      "Running Acc: 0.5985\n"
     ]
    },
    {
     "name": "stderr",
     "output_type": "stream",
     "text": [
      "Evaluating:  56%|█████▌    | 110/196 [09:03<06:55,  4.83s/it]"
     ]
    },
    {
     "name": "stdout",
     "output_type": "stream",
     "text": [
      "Running Acc: 0.5980\n"
     ]
    },
    {
     "name": "stderr",
     "output_type": "stream",
     "text": [
      "Evaluating:  57%|█████▋    | 111/196 [09:07<06:54,  4.87s/it]"
     ]
    },
    {
     "name": "stdout",
     "output_type": "stream",
     "text": [
      "Running Acc: 0.5982\n"
     ]
    },
    {
     "name": "stderr",
     "output_type": "stream",
     "text": [
      "Evaluating:  57%|█████▋    | 112/196 [09:13<06:55,  4.94s/it]"
     ]
    },
    {
     "name": "stdout",
     "output_type": "stream",
     "text": [
      "Running Acc: 0.5984\n"
     ]
    },
    {
     "name": "stderr",
     "output_type": "stream",
     "text": [
      "Evaluating:  58%|█████▊    | 113/196 [09:17<06:46,  4.90s/it]"
     ]
    },
    {
     "name": "stdout",
     "output_type": "stream",
     "text": [
      "Running Acc: 0.5988\n"
     ]
    },
    {
     "name": "stderr",
     "output_type": "stream",
     "text": [
      "Evaluating:  58%|█████▊    | 114/196 [09:22<06:37,  4.84s/it]"
     ]
    },
    {
     "name": "stdout",
     "output_type": "stream",
     "text": [
      "Running Acc: 0.5986\n"
     ]
    },
    {
     "name": "stderr",
     "output_type": "stream",
     "text": [
      "Evaluating:  59%|█████▊    | 115/196 [09:27<06:31,  4.83s/it]"
     ]
    },
    {
     "name": "stdout",
     "output_type": "stream",
     "text": [
      "Running Acc: 0.5964\n"
     ]
    },
    {
     "name": "stderr",
     "output_type": "stream",
     "text": [
      "Evaluating:  59%|█████▉    | 116/196 [09:32<06:27,  4.84s/it]"
     ]
    },
    {
     "name": "stdout",
     "output_type": "stream",
     "text": [
      "Running Acc: 0.5952\n"
     ]
    },
    {
     "name": "stderr",
     "output_type": "stream",
     "text": [
      "Evaluating:  60%|█████▉    | 117/196 [09:37<06:21,  4.83s/it]"
     ]
    },
    {
     "name": "stdout",
     "output_type": "stream",
     "text": [
      "Running Acc: 0.5945\n"
     ]
    },
    {
     "name": "stderr",
     "output_type": "stream",
     "text": [
      "Evaluating:  60%|██████    | 118/196 [09:41<06:13,  4.78s/it]"
     ]
    },
    {
     "name": "stdout",
     "output_type": "stream",
     "text": [
      "Running Acc: 0.5932\n"
     ]
    },
    {
     "name": "stderr",
     "output_type": "stream",
     "text": [
      "Evaluating:  61%|██████    | 119/196 [09:46<06:07,  4.77s/it]"
     ]
    },
    {
     "name": "stdout",
     "output_type": "stream",
     "text": [
      "Running Acc: 0.5938\n"
     ]
    },
    {
     "name": "stderr",
     "output_type": "stream",
     "text": [
      "Evaluating:  61%|██████    | 120/196 [09:51<06:01,  4.76s/it]"
     ]
    },
    {
     "name": "stdout",
     "output_type": "stream",
     "text": [
      "Running Acc: 0.5942\n"
     ]
    },
    {
     "name": "stderr",
     "output_type": "stream",
     "text": [
      "Evaluating:  62%|██████▏   | 121/196 [09:55<05:54,  4.73s/it]"
     ]
    },
    {
     "name": "stdout",
     "output_type": "stream",
     "text": [
      "Running Acc: 0.5928\n"
     ]
    },
    {
     "name": "stderr",
     "output_type": "stream",
     "text": [
      "Evaluating:  62%|██████▏   | 122/196 [10:00<05:47,  4.70s/it]"
     ]
    },
    {
     "name": "stdout",
     "output_type": "stream",
     "text": [
      "Running Acc: 0.5908\n"
     ]
    },
    {
     "name": "stderr",
     "output_type": "stream",
     "text": [
      "Evaluating:  63%|██████▎   | 123/196 [10:05<05:43,  4.70s/it]"
     ]
    },
    {
     "name": "stdout",
     "output_type": "stream",
     "text": [
      "Running Acc: 0.5914\n"
     ]
    },
    {
     "name": "stderr",
     "output_type": "stream",
     "text": [
      "Evaluating:  63%|██████▎   | 124/196 [10:09<05:39,  4.72s/it]"
     ]
    },
    {
     "name": "stdout",
     "output_type": "stream",
     "text": [
      "Running Acc: 0.5900\n"
     ]
    },
    {
     "name": "stderr",
     "output_type": "stream",
     "text": [
      "Evaluating:  64%|██████▍   | 125/196 [10:14<05:38,  4.76s/it]"
     ]
    },
    {
     "name": "stdout",
     "output_type": "stream",
     "text": [
      "Running Acc: 0.5885\n"
     ]
    },
    {
     "name": "stderr",
     "output_type": "stream",
     "text": [
      "Evaluating:  64%|██████▍   | 126/196 [10:19<05:35,  4.79s/it]"
     ]
    },
    {
     "name": "stdout",
     "output_type": "stream",
     "text": [
      "Running Acc: 0.5883\n"
     ]
    },
    {
     "name": "stderr",
     "output_type": "stream",
     "text": [
      "Evaluating:  65%|██████▍   | 127/196 [10:24<05:34,  4.85s/it]"
     ]
    },
    {
     "name": "stdout",
     "output_type": "stream",
     "text": [
      "Running Acc: 0.5884\n"
     ]
    },
    {
     "name": "stderr",
     "output_type": "stream",
     "text": [
      "Evaluating:  65%|██████▌   | 128/196 [10:29<05:32,  4.90s/it]"
     ]
    },
    {
     "name": "stdout",
     "output_type": "stream",
     "text": [
      "Running Acc: 0.5869\n"
     ]
    },
    {
     "name": "stderr",
     "output_type": "stream",
     "text": [
      "Evaluating:  66%|██████▌   | 129/196 [10:34<05:29,  4.91s/it]"
     ]
    },
    {
     "name": "stdout",
     "output_type": "stream",
     "text": [
      "Running Acc: 0.5858\n"
     ]
    },
    {
     "name": "stderr",
     "output_type": "stream",
     "text": [
      "Evaluating:  66%|██████▋   | 130/196 [10:39<05:21,  4.87s/it]"
     ]
    },
    {
     "name": "stdout",
     "output_type": "stream",
     "text": [
      "Running Acc: 0.5849\n"
     ]
    },
    {
     "name": "stderr",
     "output_type": "stream",
     "text": [
      "Evaluating:  67%|██████▋   | 131/196 [10:44<05:18,  4.89s/it]"
     ]
    },
    {
     "name": "stdout",
     "output_type": "stream",
     "text": [
      "Running Acc: 0.5848\n"
     ]
    },
    {
     "name": "stderr",
     "output_type": "stream",
     "text": [
      "Evaluating:  67%|██████▋   | 132/196 [10:49<05:14,  4.91s/it]"
     ]
    },
    {
     "name": "stdout",
     "output_type": "stream",
     "text": [
      "Running Acc: 0.5840\n"
     ]
    },
    {
     "name": "stderr",
     "output_type": "stream",
     "text": [
      "Evaluating:  68%|██████▊   | 133/196 [10:54<05:08,  4.90s/it]"
     ]
    },
    {
     "name": "stdout",
     "output_type": "stream",
     "text": [
      "Running Acc: 0.5830\n"
     ]
    },
    {
     "name": "stderr",
     "output_type": "stream",
     "text": [
      "Evaluating:  68%|██████▊   | 134/196 [10:58<05:00,  4.84s/it]"
     ]
    },
    {
     "name": "stdout",
     "output_type": "stream",
     "text": [
      "Running Acc: 0.5831\n"
     ]
    },
    {
     "name": "stderr",
     "output_type": "stream",
     "text": [
      "Evaluating:  69%|██████▉   | 135/196 [11:03<04:57,  4.88s/it]"
     ]
    },
    {
     "name": "stdout",
     "output_type": "stream",
     "text": [
      "Running Acc: 0.5825\n"
     ]
    },
    {
     "name": "stderr",
     "output_type": "stream",
     "text": [
      "Evaluating:  69%|██████▉   | 136/196 [11:08<04:55,  4.92s/it]"
     ]
    },
    {
     "name": "stdout",
     "output_type": "stream",
     "text": [
      "Running Acc: 0.5819\n"
     ]
    },
    {
     "name": "stderr",
     "output_type": "stream",
     "text": [
      "Evaluating:  70%|██████▉   | 137/196 [11:13<04:51,  4.94s/it]"
     ]
    },
    {
     "name": "stdout",
     "output_type": "stream",
     "text": [
      "Running Acc: 0.5815\n"
     ]
    },
    {
     "name": "stderr",
     "output_type": "stream",
     "text": [
      "Evaluating:  70%|███████   | 138/196 [11:18<04:43,  4.88s/it]"
     ]
    },
    {
     "name": "stdout",
     "output_type": "stream",
     "text": [
      "Running Acc: 0.5812\n"
     ]
    },
    {
     "name": "stderr",
     "output_type": "stream",
     "text": [
      "Evaluating:  71%|███████   | 139/196 [11:23<04:36,  4.86s/it]"
     ]
    },
    {
     "name": "stdout",
     "output_type": "stream",
     "text": [
      "Running Acc: 0.5801\n"
     ]
    },
    {
     "name": "stderr",
     "output_type": "stream",
     "text": [
      "Evaluating:  71%|███████▏  | 140/196 [11:28<04:30,  4.83s/it]"
     ]
    },
    {
     "name": "stdout",
     "output_type": "stream",
     "text": [
      "Running Acc: 0.5804\n"
     ]
    },
    {
     "name": "stderr",
     "output_type": "stream",
     "text": [
      "Evaluating:  72%|███████▏  | 141/196 [11:32<04:23,  4.79s/it]"
     ]
    },
    {
     "name": "stdout",
     "output_type": "stream",
     "text": [
      "Running Acc: 0.5796\n"
     ]
    },
    {
     "name": "stderr",
     "output_type": "stream",
     "text": [
      "Evaluating:  72%|███████▏  | 142/196 [11:37<04:20,  4.82s/it]"
     ]
    },
    {
     "name": "stdout",
     "output_type": "stream",
     "text": [
      "Running Acc: 0.5798\n"
     ]
    },
    {
     "name": "stderr",
     "output_type": "stream",
     "text": [
      "Evaluating:  73%|███████▎  | 143/196 [11:42<04:17,  4.86s/it]"
     ]
    },
    {
     "name": "stdout",
     "output_type": "stream",
     "text": [
      "Running Acc: 0.5788\n"
     ]
    },
    {
     "name": "stderr",
     "output_type": "stream",
     "text": [
      "Evaluating:  73%|███████▎  | 144/196 [11:47<04:13,  4.87s/it]"
     ]
    },
    {
     "name": "stdout",
     "output_type": "stream",
     "text": [
      "Running Acc: 0.5786\n"
     ]
    },
    {
     "name": "stderr",
     "output_type": "stream",
     "text": [
      "Evaluating:  74%|███████▍  | 145/196 [11:52<04:08,  4.86s/it]"
     ]
    },
    {
     "name": "stdout",
     "output_type": "stream",
     "text": [
      "Running Acc: 0.5779\n"
     ]
    },
    {
     "name": "stderr",
     "output_type": "stream",
     "text": [
      "Evaluating:  74%|███████▍  | 146/196 [11:57<04:02,  4.84s/it]"
     ]
    },
    {
     "name": "stdout",
     "output_type": "stream",
     "text": [
      "Running Acc: 0.5773\n"
     ]
    },
    {
     "name": "stderr",
     "output_type": "stream",
     "text": [
      "Evaluating:  75%|███████▌  | 147/196 [12:02<03:57,  4.84s/it]"
     ]
    },
    {
     "name": "stdout",
     "output_type": "stream",
     "text": [
      "Running Acc: 0.5761\n"
     ]
    },
    {
     "name": "stderr",
     "output_type": "stream",
     "text": [
      "Evaluating:  76%|███████▌  | 148/196 [12:06<03:51,  4.82s/it]"
     ]
    },
    {
     "name": "stdout",
     "output_type": "stream",
     "text": [
      "Running Acc: 0.5762\n"
     ]
    },
    {
     "name": "stderr",
     "output_type": "stream",
     "text": [
      "Evaluating:  76%|███████▌  | 149/196 [12:11<03:46,  4.83s/it]"
     ]
    },
    {
     "name": "stdout",
     "output_type": "stream",
     "text": [
      "Running Acc: 0.5759\n"
     ]
    },
    {
     "name": "stderr",
     "output_type": "stream",
     "text": [
      "Evaluating:  77%|███████▋  | 150/196 [12:16<03:45,  4.91s/it]"
     ]
    },
    {
     "name": "stdout",
     "output_type": "stream",
     "text": [
      "Running Acc: 0.5751\n"
     ]
    },
    {
     "name": "stderr",
     "output_type": "stream",
     "text": [
      "Evaluating:  77%|███████▋  | 151/196 [12:21<03:42,  4.94s/it]"
     ]
    },
    {
     "name": "stdout",
     "output_type": "stream",
     "text": [
      "Running Acc: 0.5748\n"
     ]
    },
    {
     "name": "stderr",
     "output_type": "stream",
     "text": [
      "Evaluating:  78%|███████▊  | 152/196 [12:26<03:39,  4.99s/it]"
     ]
    },
    {
     "name": "stdout",
     "output_type": "stream",
     "text": [
      "Running Acc: 0.5737\n"
     ]
    },
    {
     "name": "stderr",
     "output_type": "stream",
     "text": [
      "Evaluating:  78%|███████▊  | 153/196 [12:31<03:34,  4.99s/it]"
     ]
    },
    {
     "name": "stdout",
     "output_type": "stream",
     "text": [
      "Running Acc: 0.5737\n"
     ]
    },
    {
     "name": "stderr",
     "output_type": "stream",
     "text": [
      "Evaluating:  79%|███████▊  | 154/196 [12:36<03:27,  4.94s/it]"
     ]
    },
    {
     "name": "stdout",
     "output_type": "stream",
     "text": [
      "Running Acc: 0.5726\n"
     ]
    },
    {
     "name": "stderr",
     "output_type": "stream",
     "text": [
      "Evaluating:  79%|███████▉  | 155/196 [12:41<03:19,  4.87s/it]"
     ]
    },
    {
     "name": "stdout",
     "output_type": "stream",
     "text": [
      "Running Acc: 0.5719\n"
     ]
    },
    {
     "name": "stderr",
     "output_type": "stream",
     "text": [
      "Evaluating:  80%|███████▉  | 156/196 [12:46<03:14,  4.85s/it]"
     ]
    },
    {
     "name": "stdout",
     "output_type": "stream",
     "text": [
      "Running Acc: 0.5712\n"
     ]
    },
    {
     "name": "stderr",
     "output_type": "stream",
     "text": [
      "Evaluating:  80%|████████  | 157/196 [12:50<03:08,  4.82s/it]"
     ]
    },
    {
     "name": "stdout",
     "output_type": "stream",
     "text": [
      "Running Acc: 0.5720\n"
     ]
    },
    {
     "name": "stderr",
     "output_type": "stream",
     "text": [
      "Evaluating:  81%|████████  | 158/196 [12:55<03:02,  4.80s/it]"
     ]
    },
    {
     "name": "stdout",
     "output_type": "stream",
     "text": [
      "Running Acc: 0.5714\n"
     ]
    },
    {
     "name": "stderr",
     "output_type": "stream",
     "text": [
      "Evaluating:  81%|████████  | 159/196 [13:00<02:57,  4.80s/it]"
     ]
    },
    {
     "name": "stdout",
     "output_type": "stream",
     "text": [
      "Running Acc: 0.5700\n"
     ]
    },
    {
     "name": "stderr",
     "output_type": "stream",
     "text": [
      "Evaluating:  82%|████████▏ | 160/196 [13:05<02:51,  4.77s/it]"
     ]
    },
    {
     "name": "stdout",
     "output_type": "stream",
     "text": [
      "Running Acc: 0.5697\n"
     ]
    },
    {
     "name": "stderr",
     "output_type": "stream",
     "text": [
      "Evaluating:  82%|████████▏ | 161/196 [13:09<02:45,  4.73s/it]"
     ]
    },
    {
     "name": "stdout",
     "output_type": "stream",
     "text": [
      "Running Acc: 0.5697\n"
     ]
    },
    {
     "name": "stderr",
     "output_type": "stream",
     "text": [
      "Evaluating:  83%|████████▎ | 162/196 [13:14<02:39,  4.70s/it]"
     ]
    },
    {
     "name": "stdout",
     "output_type": "stream",
     "text": [
      "Running Acc: 0.5687\n"
     ]
    },
    {
     "name": "stderr",
     "output_type": "stream",
     "text": [
      "Evaluating:  83%|████████▎ | 163/196 [13:19<02:34,  4.70s/it]"
     ]
    },
    {
     "name": "stdout",
     "output_type": "stream",
     "text": [
      "Running Acc: 0.5683\n"
     ]
    },
    {
     "name": "stderr",
     "output_type": "stream",
     "text": [
      "Evaluating:  84%|████████▎ | 164/196 [13:24<02:31,  4.75s/it]"
     ]
    },
    {
     "name": "stdout",
     "output_type": "stream",
     "text": [
      "Running Acc: 0.5665\n"
     ]
    },
    {
     "name": "stderr",
     "output_type": "stream",
     "text": [
      "Evaluating:  84%|████████▍ | 165/196 [13:28<02:27,  4.76s/it]"
     ]
    },
    {
     "name": "stdout",
     "output_type": "stream",
     "text": [
      "Running Acc: 0.5659\n"
     ]
    },
    {
     "name": "stderr",
     "output_type": "stream",
     "text": [
      "Evaluating:  85%|████████▍ | 166/196 [13:33<02:23,  4.77s/it]"
     ]
    },
    {
     "name": "stdout",
     "output_type": "stream",
     "text": [
      "Running Acc: 0.5649\n"
     ]
    },
    {
     "name": "stderr",
     "output_type": "stream",
     "text": [
      "Evaluating:  85%|████████▌ | 167/196 [13:38<02:18,  4.79s/it]"
     ]
    },
    {
     "name": "stdout",
     "output_type": "stream",
     "text": [
      "Running Acc: 0.5654\n"
     ]
    },
    {
     "name": "stderr",
     "output_type": "stream",
     "text": [
      "Evaluating:  86%|████████▌ | 168/196 [13:43<02:12,  4.74s/it]"
     ]
    },
    {
     "name": "stdout",
     "output_type": "stream",
     "text": [
      "Running Acc: 0.5652\n"
     ]
    },
    {
     "name": "stderr",
     "output_type": "stream",
     "text": [
      "Evaluating:  86%|████████▌ | 169/196 [13:47<02:07,  4.73s/it]"
     ]
    },
    {
     "name": "stdout",
     "output_type": "stream",
     "text": [
      "Running Acc: 0.5650\n"
     ]
    },
    {
     "name": "stderr",
     "output_type": "stream",
     "text": [
      "Evaluating:  87%|████████▋ | 170/196 [13:52<02:03,  4.74s/it]"
     ]
    },
    {
     "name": "stdout",
     "output_type": "stream",
     "text": [
      "Running Acc: 0.5643\n"
     ]
    },
    {
     "name": "stderr",
     "output_type": "stream",
     "text": [
      "Evaluating:  87%|████████▋ | 171/196 [13:57<01:58,  4.75s/it]"
     ]
    },
    {
     "name": "stdout",
     "output_type": "stream",
     "text": [
      "Running Acc: 0.5650\n"
     ]
    },
    {
     "name": "stderr",
     "output_type": "stream",
     "text": [
      "Evaluating:  88%|████████▊ | 172/196 [14:02<01:53,  4.74s/it]"
     ]
    },
    {
     "name": "stdout",
     "output_type": "stream",
     "text": [
      "Running Acc: 0.5642\n"
     ]
    },
    {
     "name": "stderr",
     "output_type": "stream",
     "text": [
      "Evaluating:  88%|████████▊ | 173/196 [14:06<01:49,  4.77s/it]"
     ]
    },
    {
     "name": "stdout",
     "output_type": "stream",
     "text": [
      "Running Acc: 0.5634\n"
     ]
    },
    {
     "name": "stderr",
     "output_type": "stream",
     "text": [
      "Evaluating:  89%|████████▉ | 174/196 [14:11<01:46,  4.84s/it]"
     ]
    },
    {
     "name": "stdout",
     "output_type": "stream",
     "text": [
      "Running Acc: 0.5636\n"
     ]
    },
    {
     "name": "stderr",
     "output_type": "stream",
     "text": [
      "Evaluating:  89%|████████▉ | 175/196 [14:16<01:41,  4.83s/it]"
     ]
    },
    {
     "name": "stdout",
     "output_type": "stream",
     "text": [
      "Running Acc: 0.5632\n"
     ]
    },
    {
     "name": "stderr",
     "output_type": "stream",
     "text": [
      "Evaluating:  90%|████████▉ | 176/196 [14:21<01:37,  4.85s/it]"
     ]
    },
    {
     "name": "stdout",
     "output_type": "stream",
     "text": [
      "Running Acc: 0.5627\n"
     ]
    },
    {
     "name": "stderr",
     "output_type": "stream",
     "text": [
      "Evaluating:  90%|█████████ | 177/196 [14:26<01:31,  4.84s/it]"
     ]
    },
    {
     "name": "stdout",
     "output_type": "stream",
     "text": [
      "Running Acc: 0.5621\n"
     ]
    },
    {
     "name": "stderr",
     "output_type": "stream",
     "text": [
      "Evaluating:  91%|█████████ | 178/196 [14:31<01:28,  4.90s/it]"
     ]
    },
    {
     "name": "stdout",
     "output_type": "stream",
     "text": [
      "Running Acc: 0.5609\n"
     ]
    },
    {
     "name": "stderr",
     "output_type": "stream",
     "text": [
      "Evaluating:  91%|█████████▏| 179/196 [14:36<01:22,  4.88s/it]"
     ]
    },
    {
     "name": "stdout",
     "output_type": "stream",
     "text": [
      "Running Acc: 0.5613\n"
     ]
    },
    {
     "name": "stderr",
     "output_type": "stream",
     "text": [
      "Evaluating:  92%|█████████▏| 180/196 [14:41<01:18,  4.89s/it]"
     ]
    },
    {
     "name": "stdout",
     "output_type": "stream",
     "text": [
      "Running Acc: 0.5618\n"
     ]
    },
    {
     "name": "stderr",
     "output_type": "stream",
     "text": [
      "Evaluating:  92%|█████████▏| 181/196 [14:46<01:12,  4.86s/it]"
     ]
    },
    {
     "name": "stdout",
     "output_type": "stream",
     "text": [
      "Running Acc: 0.5614\n"
     ]
    },
    {
     "name": "stderr",
     "output_type": "stream",
     "text": [
      "Evaluating:  93%|█████████▎| 182/196 [14:50<01:08,  4.87s/it]"
     ]
    },
    {
     "name": "stdout",
     "output_type": "stream",
     "text": [
      "Running Acc: 0.5612\n"
     ]
    },
    {
     "name": "stderr",
     "output_type": "stream",
     "text": [
      "Evaluating:  93%|█████████▎| 183/196 [14:55<01:03,  4.85s/it]"
     ]
    },
    {
     "name": "stdout",
     "output_type": "stream",
     "text": [
      "Running Acc: 0.5615\n"
     ]
    },
    {
     "name": "stderr",
     "output_type": "stream",
     "text": [
      "Evaluating:  94%|█████████▍| 184/196 [15:00<00:58,  4.89s/it]"
     ]
    },
    {
     "name": "stdout",
     "output_type": "stream",
     "text": [
      "Running Acc: 0.5622\n"
     ]
    },
    {
     "name": "stderr",
     "output_type": "stream",
     "text": [
      "Evaluating:  94%|█████████▍| 185/196 [15:05<00:53,  4.86s/it]"
     ]
    },
    {
     "name": "stdout",
     "output_type": "stream",
     "text": [
      "Running Acc: 0.5626\n"
     ]
    },
    {
     "name": "stderr",
     "output_type": "stream",
     "text": [
      "Evaluating:  95%|█████████▍| 186/196 [15:10<00:48,  4.88s/it]"
     ]
    },
    {
     "name": "stdout",
     "output_type": "stream",
     "text": [
      "Running Acc: 0.5629\n"
     ]
    },
    {
     "name": "stderr",
     "output_type": "stream",
     "text": [
      "Evaluating:  95%|█████████▌| 187/196 [15:15<00:43,  4.82s/it]"
     ]
    },
    {
     "name": "stdout",
     "output_type": "stream",
     "text": [
      "Running Acc: 0.5638\n"
     ]
    },
    {
     "name": "stderr",
     "output_type": "stream",
     "text": [
      "Evaluating:  96%|█████████▌| 188/196 [15:19<00:38,  4.79s/it]"
     ]
    },
    {
     "name": "stdout",
     "output_type": "stream",
     "text": [
      "Running Acc: 0.5638\n"
     ]
    },
    {
     "name": "stderr",
     "output_type": "stream",
     "text": [
      "Evaluating:  96%|█████████▋| 189/196 [15:24<00:33,  4.76s/it]"
     ]
    },
    {
     "name": "stdout",
     "output_type": "stream",
     "text": [
      "Running Acc: 0.5636\n"
     ]
    },
    {
     "name": "stderr",
     "output_type": "stream",
     "text": [
      "Evaluating:  97%|█████████▋| 190/196 [15:29<00:28,  4.73s/it]"
     ]
    },
    {
     "name": "stdout",
     "output_type": "stream",
     "text": [
      "Running Acc: 0.5627\n"
     ]
    },
    {
     "name": "stderr",
     "output_type": "stream",
     "text": [
      "Evaluating:  97%|█████████▋| 191/196 [15:33<00:23,  4.77s/it]"
     ]
    },
    {
     "name": "stdout",
     "output_type": "stream",
     "text": [
      "Running Acc: 0.5626\n"
     ]
    },
    {
     "name": "stderr",
     "output_type": "stream",
     "text": [
      "Evaluating:  98%|█████████▊| 192/196 [15:38<00:19,  4.81s/it]"
     ]
    },
    {
     "name": "stdout",
     "output_type": "stream",
     "text": [
      "Running Acc: 0.5628\n"
     ]
    },
    {
     "name": "stderr",
     "output_type": "stream",
     "text": [
      "Evaluating:  98%|█████████▊| 193/196 [15:43<00:14,  4.81s/it]"
     ]
    },
    {
     "name": "stdout",
     "output_type": "stream",
     "text": [
      "Running Acc: 0.5640\n"
     ]
    },
    {
     "name": "stderr",
     "output_type": "stream",
     "text": [
      "Evaluating:  99%|█████████▉| 194/196 [15:48<00:09,  4.77s/it]"
     ]
    },
    {
     "name": "stdout",
     "output_type": "stream",
     "text": [
      "Running Acc: 0.5653\n"
     ]
    },
    {
     "name": "stderr",
     "output_type": "stream",
     "text": [
      "Evaluating:  99%|█████████▉| 195/196 [15:53<00:04,  4.85s/it]"
     ]
    },
    {
     "name": "stdout",
     "output_type": "stream",
     "text": [
      "Running Acc: 0.5661\n"
     ]
    },
    {
     "name": "stderr",
     "output_type": "stream",
     "text": [
      "Evaluating: 100%|██████████| 196/196 [15:54<00:00,  4.87s/it]"
     ]
    },
    {
     "name": "stdout",
     "output_type": "stream",
     "text": [
      "Running Acc: 0.5656\n",
      "Validation Accuracy: 0.5656\n"
     ]
    },
    {
     "name": "stderr",
     "output_type": "stream",
     "text": [
      "\n"
     ]
    }
   ],
   "source": [
    "model = AlexNet()\n",
    "model.eval()\n",
    "\n",
    "total = 0\n",
    "correct = 0\n",
    "\n",
    "# Estimate total batches for progress bar length\n",
    "try:\n",
    "    total_batches = len(val_dataloader)\n",
    "except TypeError:\n",
    "    total_batches = None\n",
    "\n",
    "for images, labels in tqdm(val_dataloader, total=total_batches, desc=\"Evaluating\", leave=True):\n",
    "    # images, labels already NumPy from collate\n",
    "    outputs = model.forward(images)  # (b, num_classes) np.ndarray\n",
    "    predicted = np.argmax(outputs, axis=1)\n",
    "    total += int(labels.shape[0])\n",
    "    correct += int((predicted == labels).sum())\n",
    "    running_acc = correct / total if total else 0.0\n",
    "    tqdm.write(f\"Running Acc: {running_acc:.4f}\")\n",
    "\n",
    "accuracy = correct / total if total else 0.0\n",
    "print(f\"Validation Accuracy: {accuracy:.4f}\")"
   ]
  },
  {
   "cell_type": "markdown",
   "id": "f696fc64",
   "metadata": {},
   "source": [
    "#### Profile Summary\n"
   ]
  },
  {
   "cell_type": "code",
   "execution_count": 29,
   "id": "31c0cc95",
   "metadata": {},
   "outputs": [
    {
     "name": "stdout",
     "output_type": "stream",
     "text": [
      "Layer                  Calls    Total(ms)     Mean(ms)      Max(ms)\n",
      "-------------------------------------------------------------------\n",
      "AlexNet.forward          196   847664.199     4324.817     6395.219\n",
      "EinopsLinear             588   410208.200      697.633     1759.203\n",
      "CustomConv2d             980   407865.522      416.189     1927.250\n",
      "CustomMaxPool2d          588    15503.749       26.367       60.246\n",
      "CustomReLU              1372    12741.127        9.287       40.281\n",
      "CustomAdaptiveAvgPool2d   196      770.312        3.930        6.846\n"
     ]
    }
   ],
   "source": [
    "profile_summary()"
   ]
  }
 ],
 "metadata": {
  "kernelspec": {
   "display_name": "ai231",
   "language": "python",
   "name": "python3"
  },
  "language_info": {
   "codemirror_mode": {
    "name": "ipython",
    "version": 3
   },
   "file_extension": ".py",
   "mimetype": "text/x-python",
   "name": "python",
   "nbconvert_exporter": "python",
   "pygments_lexer": "ipython3",
   "version": "3.12.3"
  }
 },
 "nbformat": 4,
 "nbformat_minor": 5
}
