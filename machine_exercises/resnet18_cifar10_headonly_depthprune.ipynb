{
 "cells": [
  {
   "cell_type": "markdown",
   "id": "fd44d12a",
   "metadata": {},
   "source": [
    "\n",
    "# Head-Only Training with Depth Pruning on ResNet18 (CIFAR-10)\n",
    "\n",
    "This notebook reproduces the setting \"use a ResNet18 backbone on CIFAR-10\" but **freezes the backbone (tail)** and trains **only the new head**, while performing **depth pruning** across pruning–fine-tuning cycles.\n",
    "\n",
    "**Key points**\n",
    "- **Backbone**: `resnet18` pretrained on ImageNet. Frozen (`requires_grad=False`).\n",
    "- **Head**: Replaced with a new `Linear(512 -> 10)`; only this is trained.\n",
    "- **Depth pruning**: At each cycle, we remove the **last residual block** from the **deepest possible layer** (layer4->layer3->layer2->layer1), while **never removing the first block** of any layer to preserve shape/stride contracts.\n",
    "- **Fine-tuning**: After each prune, we fine-tune the **head only** for a few epochs.\n",
    "- **Metric**: We record and **plot validation accuracy** vs the number of pruning cycles.\n",
    "- **GPU optimized**: Uses CUDA if available, mixed precision (autocast + GradScaler), pinned memory, and sensible DataLoader settings.\n",
    "\n",
    "> Note on depth pruning constraints: Removing an entire ResNet layer usually breaks channel/stride contracts for downstream layers. Here we **only drop non-first `BasicBlock`s** within each layer. This preserves dimensions without surgery on downsampling paths.\n"
   ]
  },
  {
   "cell_type": "code",
   "execution_count": 2,
   "id": "be4990ba",
   "metadata": {},
   "outputs": [
    {
     "name": "stdout",
     "output_type": "stream",
     "text": [
      "Device: cuda\n"
     ]
    }
   ],
   "source": [
    "\n",
    "# Environment & imports\n",
    "import math\n",
    "import time\n",
    "from pathlib import Path\n",
    "from typing import List, Tuple, Dict\n",
    "\n",
    "import torch\n",
    "import torch.nn as nn\n",
    "from torch.utils.data import DataLoader, random_split\n",
    "from torch.optim import Adam\n",
    "from torch.cuda.amp import autocast, GradScaler\n",
    "\n",
    "import torchvision\n",
    "from torchvision import transforms\n",
    "from torchvision.models import resnet18, ResNet18_Weights\n",
    "\n",
    "import matplotlib.pyplot as plt\n",
    "\n",
    "device = torch.device('cuda' if torch.cuda.is_available() else 'cpu')\n",
    "print(f\"Device: {device}\")\n",
    "if device.type == 'cuda':\n",
    "    torch.backends.cudnn.benchmark = True\n"
   ]
  },
  {
   "cell_type": "markdown",
   "id": "682c7882",
   "metadata": {},
   "source": [
    "## Data: CIFAR-10 (train/val/test) resized to 224x224"
   ]
  },
  {
   "cell_type": "code",
   "execution_count": 3,
   "id": "1ec8a309",
   "metadata": {},
   "outputs": [
    {
     "name": "stdout",
     "output_type": "stream",
     "text": [
      "Train size: 45000 | Val size: 5000 | Test size: 10000\n"
     ]
    }
   ],
   "source": [
    "\n",
    "# Transforms: resize to 224 to match ImageNet-pretrained ResNet18.\n",
    "IMAGENET_MEAN = [0.485, 0.456, 0.406]\n",
    "IMAGENET_STD  = [0.229, 0.224, 0.225]\n",
    "\n",
    "train_tfms = transforms.Compose([\n",
    "    transforms.Resize(224),\n",
    "    transforms.RandomHorizontalFlip(),\n",
    "    transforms.ToTensor(),\n",
    "    transforms.Normalize(IMAGENET_MEAN, IMAGENET_STD),\n",
    "])\n",
    "\n",
    "test_tfms = transforms.Compose([\n",
    "    transforms.Resize(224),\n",
    "    transforms.ToTensor(),\n",
    "    transforms.Normalize(IMAGENET_MEAN, IMAGENET_STD),\n",
    "])\n",
    "\n",
    "root = \"./data/CIFAR10\"\n",
    "full_train = torchvision.datasets.CIFAR10(root=root, train=True, transform=train_tfms, download=True)\n",
    "test_set   = torchvision.datasets.CIFAR10(root=root, train=False, transform=test_tfms, download=True)\n",
    "\n",
    "# Split train into train/val (e.g., 45k/5k)\n",
    "val_size = 5000\n",
    "train_size = len(full_train) - val_size\n",
    "train_set, val_set = random_split(full_train, [train_size, val_size], generator=torch.Generator().manual_seed(42))\n",
    "\n",
    "print(f\"Train size: {len(train_set)} | Val size: {len(val_set)} | Test size: {len(test_set)}\")\n",
    "\n",
    "# DataLoaders\n",
    "BATCH_SIZE = 128\n",
    "NUM_WORKERS = 0  # Adjust to your system\n",
    "PIN_MEMORY = (device.type == 'cuda')\n",
    "\n",
    "train_loader = DataLoader(train_set, batch_size=BATCH_SIZE, shuffle=True, num_workers=NUM_WORKERS, pin_memory=PIN_MEMORY)\n",
    "val_loader   = DataLoader(val_set,   batch_size=BATCH_SIZE, shuffle=False, num_workers=NUM_WORKERS, pin_memory=PIN_MEMORY)\n",
    "test_loader  = DataLoader(test_set,  batch_size=BATCH_SIZE, shuffle=False, num_workers=NUM_WORKERS, pin_memory=PIN_MEMORY)\n"
   ]
  },
  {
   "cell_type": "markdown",
   "id": "c8e60728",
   "metadata": {},
   "source": [
    "## Model: ResNet18 backbone frozen, new head for CIFAR-10"
   ]
  },
  {
   "cell_type": "code",
   "execution_count": 4,
   "id": "6566cb4a",
   "metadata": {},
   "outputs": [
    {
     "name": "stdout",
     "output_type": "stream",
     "text": [
      "Total params: 11,181,642 | Trainable (head-only): 5,130\n"
     ]
    }
   ],
   "source": [
    "\n",
    "class HeadOnlyResNet18(nn.Module):\n",
    "    \"\"\"\n",
    "    ResNet18 pretrained on ImageNet, with backbone frozen and a new classification head.\n",
    "    \"\"\"\n",
    "    def __init__(self, num_classes: int = 10):\n",
    "        super().__init__()\n",
    "        weights = ResNet18_Weights.IMAGENET1K_V1\n",
    "        self.backbone = resnet18(weights=weights)\n",
    "        in_features = self.backbone.fc.in_features\n",
    "        # Replace head\n",
    "        self.backbone.fc = nn.Linear(in_features, num_classes)\n",
    "\n",
    "        # Freeze all except the head\n",
    "        for name, p in self.backbone.named_parameters():\n",
    "            p.requires_grad = False\n",
    "        for p in self.backbone.fc.parameters():\n",
    "            p.requires_grad = True\n",
    "\n",
    "    def forward(self, x):\n",
    "        return self.backbone(x)\n",
    "\n",
    "model = HeadOnlyResNet18(num_classes=10).to(device)\n",
    "\n",
    "# Sanity check: which params are trainable?\n",
    "n_trainable = sum(p.numel() for p in model.parameters() if p.requires_grad)\n",
    "n_total     = sum(p.numel() for p in model.parameters())\n",
    "print(f\"Total params: {n_total:,} | Trainable (head-only): {n_trainable:,}\")\n"
   ]
  },
  {
   "cell_type": "code",
   "execution_count": 5,
   "id": "7a8a2438",
   "metadata": {},
   "outputs": [],
   "source": [
    "\n",
    "@torch.no_grad()\n",
    "def evaluate(model: nn.Module, loader: DataLoader, device: torch.device) -> float:\n",
    "    model.eval()\n",
    "    correct = 0\n",
    "    total = 0\n",
    "    for images, labels in loader:\n",
    "        images = images.to(device, non_blocking=True)\n",
    "        labels = labels.to(device, non_blocking=True)\n",
    "        logits = model(images)\n",
    "        preds = logits.argmax(dim=1)\n",
    "        correct += (preds == labels).sum().item()\n",
    "        total += labels.size(0)\n",
    "    return correct / total\n"
   ]
  },
  {
   "cell_type": "code",
   "execution_count": 6,
   "id": "5436fbdd",
   "metadata": {},
   "outputs": [],
   "source": [
    "\n",
    "def train_head_only(\n",
    "    model: nn.Module,\n",
    "    train_loader: DataLoader,\n",
    "    val_loader: DataLoader,\n",
    "    device: torch.device,\n",
    "    epochs: int = 5,\n",
    "    lr: float = 1e-3,\n",
    ") -> dict:\n",
    "    # Only head parameters are trainable\n",
    "    head_params = [p for p in model.parameters() if p.requires_grad]\n",
    "    optimizer = Adam(head_params, lr=lr)\n",
    "    criterion = nn.CrossEntropyLoss()\n",
    "    scaler = GradScaler(enabled=(device.type == 'cuda'))\n",
    "\n",
    "    best_val = 0.0\n",
    "    for epoch in range(1, epochs + 1):\n",
    "        model.train()\n",
    "        start = time.time()\n",
    "        for images, labels in train_loader:\n",
    "            images = images.to(device, non_blocking=True)\n",
    "            labels = labels.to(device, non_blocking=True)\n",
    "\n",
    "            optimizer.zero_grad(set_to_none=True)\n",
    "            with autocast(enabled=(device.type == 'cuda')):\n",
    "                logits = model(images)\n",
    "                loss = criterion(logits, labels)\n",
    "            scaler.scale(loss).backward()\n",
    "            scaler.step(optimizer)\n",
    "            scaler.update()\n",
    "\n",
    "        val_acc = evaluate(model, val_loader, device)\n",
    "        best_val = max(best_val, val_acc)\n",
    "        print(f\"Epoch {epoch:02d} | val_acc={val_acc:.4f} | time={time.time()-start:.1f}s\")\n",
    "\n",
    "    return {\"best_val_acc\": best_val}\n"
   ]
  },
  {
   "cell_type": "markdown",
   "id": "20981fe5",
   "metadata": {},
   "source": [
    "## Depth Pruning: remove last BasicBlock from the deepest viable layer"
   ]
  },
  {
   "cell_type": "code",
   "execution_count": 7,
   "id": "67be7083",
   "metadata": {},
   "outputs": [
    {
     "name": "stdout",
     "output_type": "stream",
     "text": [
      "Before any pruning: [2, 2, 2, 2]\n"
     ]
    }
   ],
   "source": [
    "\n",
    "from typing import List, Tuple\n",
    "import torch.nn as nn\n",
    "\n",
    "def _can_prune_from_layer(layer_seq: nn.Sequential) -> bool:\n",
    "    # We avoid removing the first block (index 0) to keep downsample/stride contracts.\n",
    "    # So we can prune if len(layer_seq) > 1\n",
    "    return len(layer_seq) > 1\n",
    "\n",
    "def prune_one_block_depth(model: HeadOnlyResNet18) -> bool:\n",
    "    \"\"\"\n",
    "    Remove the last BasicBlock from the deepest possible layer among\n",
    "    layer4 -> layer3 -> layer2 -> layer1, but never remove the first block.\n",
    "    Returns True if a block was removed, False if no further safe pruning is possible.\n",
    "    \"\"\"\n",
    "    resnet = model.backbone\n",
    "    for lname in [\"layer4\", \"layer3\", \"layer2\", \"layer1\"]:\n",
    "        layer = getattr(resnet, lname)\n",
    "        if _can_prune_from_layer(layer):\n",
    "            new_blocks = list(layer.children())[:-1]\n",
    "            setattr(resnet, lname, nn.Sequential(*new_blocks))\n",
    "            print(f\"Pruned one block from {lname}. Now {len(new_blocks)} block(s).\")\n",
    "            return True\n",
    "    print(\"No further safe depth pruning possible (each layer has only its first block left).\")\n",
    "    return False\n",
    "\n",
    "print(\"Before any pruning:\", [len(getattr(model.backbone, f'layer{i}')) for i in range(1,5)])\n"
   ]
  },
  {
   "cell_type": "markdown",
   "id": "14a1435a",
   "metadata": {},
   "source": [
    "## Pruning–Fine-Tuning Cycles (head-only training)"
   ]
  },
  {
   "cell_type": "code",
   "execution_count": 8,
   "id": "416f2350",
   "metadata": {},
   "outputs": [
    {
     "name": "stdout",
     "output_type": "stream",
     "text": [
      "=== Cycle 0: Baseline (no pruning) ===\n"
     ]
    },
    {
     "name": "stderr",
     "output_type": "stream",
     "text": [
      "/tmp/ipykernel_857/2404443040.py:13: FutureWarning: `torch.cuda.amp.GradScaler(args...)` is deprecated. Please use `torch.amp.GradScaler('cuda', args...)` instead.\n",
      "  scaler = GradScaler(enabled=(device.type == 'cuda'))\n",
      "/tmp/ipykernel_857/2404443040.py:24: FutureWarning: `torch.cuda.amp.autocast(args...)` is deprecated. Please use `torch.amp.autocast('cuda', args...)` instead.\n",
      "  with autocast(enabled=(device.type == 'cuda')):\n"
     ]
    },
    {
     "name": "stdout",
     "output_type": "stream",
     "text": [
      "Epoch 01 | val_acc=0.7774 | time=117.5s\n",
      "Epoch 02 | val_acc=0.7952 | time=96.5s\n",
      "Epoch 03 | val_acc=0.8012 | time=89.4s\n",
      "Epoch 04 | val_acc=0.8038 | time=87.8s\n",
      "Epoch 05 | val_acc=0.8072 | time=88.5s\n",
      "\n",
      "=== Cycle 1: Depth prune 1 block, then fine-tune head ===\n",
      "Pruned one block from layer4. Now 1 block(s).\n",
      "Epoch 01 | val_acc=0.6738 | time=87.5s\n",
      "Epoch 02 | val_acc=0.6916 | time=89.7s\n",
      "Epoch 03 | val_acc=0.7070 | time=92.1s\n",
      "Epoch 04 | val_acc=0.7222 | time=90.8s\n",
      "Epoch 05 | val_acc=0.7304 | time=89.2s\n",
      "\n",
      "=== Cycle 2: Depth prune 1 block, then fine-tune head ===\n",
      "Pruned one block from layer3. Now 1 block(s).\n",
      "Epoch 01 | val_acc=0.6924 | time=87.1s\n",
      "Epoch 02 | val_acc=0.7010 | time=87.9s\n",
      "Epoch 03 | val_acc=0.7108 | time=86.8s\n",
      "Epoch 04 | val_acc=0.7158 | time=87.8s\n",
      "Epoch 05 | val_acc=0.7222 | time=87.2s\n",
      "\n",
      "=== Cycle 3: Depth prune 1 block, then fine-tune head ===\n",
      "Pruned one block from layer2. Now 1 block(s).\n",
      "Epoch 01 | val_acc=0.6466 | time=86.6s\n",
      "Epoch 02 | val_acc=0.6620 | time=86.9s\n",
      "Epoch 03 | val_acc=0.6734 | time=88.6s\n",
      "Epoch 04 | val_acc=0.6736 | time=90.3s\n",
      "Epoch 05 | val_acc=0.6836 | time=89.3s\n",
      "\n",
      "=== Cycle 4: Depth prune 1 block, then fine-tune head ===\n",
      "Pruned one block from layer1. Now 1 block(s).\n",
      "Epoch 01 | val_acc=0.6122 | time=91.8s\n",
      "Epoch 02 | val_acc=0.6312 | time=89.0s\n",
      "Epoch 03 | val_acc=0.6390 | time=87.5s\n",
      "Epoch 04 | val_acc=0.6486 | time=85.9s\n",
      "Epoch 05 | val_acc=0.6534 | time=92.4s\n",
      "\n",
      "=== Cycle 5: Depth prune 1 block, then fine-tune head ===\n",
      "No further safe depth pruning possible (each layer has only its first block left).\n",
      "Stopping early: cannot prune further.\n",
      "Saved: artifacts/depth_prune_val_acc.json\n",
      "Final block counts per layer: [1, 1, 1, 1]\n"
     ]
    }
   ],
   "source": [
    "\n",
    "# Experiment hyperparameters\n",
    "CYCLES = 6          # includes cycle 0 (no pruning yet), then prune before cycles 1..N\n",
    "EPOCHS_PER_CYCLE = 5\n",
    "LR = 1e-3\n",
    "\n",
    "val_acc_history = []  # (cycle_index, val_acc)\n",
    "\n",
    "# Baseline training (cycle 0): no pruning\n",
    "print(\"=== Cycle 0: Baseline (no pruning) ===\")\n",
    "hist = train_head_only(model, train_loader, val_loader, device, epochs=EPOCHS_PER_CYCLE, lr=LR)\n",
    "val_acc_history.append((0, hist[\"best_val_acc\"]))\n",
    "\n",
    "# Subsequent cycles: prune one block, then train head only\n",
    "for c in range(1, CYCLES):\n",
    "    print('\\n=== Cycle {}: Depth prune 1 block, then fine-tune head ==='.format(c))\n",
    "    ok = prune_one_block_depth(model)\n",
    "    if not ok:\n",
    "        print(\"Stopping early: cannot prune further.\")\n",
    "        break\n",
    "\n",
    "    hist = train_head_only(model, train_loader, val_loader, device, epochs=EPOCHS_PER_CYCLE, lr=LR)\n",
    "    val_acc_history.append((c, hist[\"best_val_acc\"]))\n",
    "\n",
    "# Save results\n",
    "import json\n",
    "results_path = Path(\"artifacts\")\n",
    "results_path.mkdir(parents=True, exist_ok=True)\n",
    "(results_path / \"depth_prune_val_acc.json\").write_text(json.dumps(val_acc_history, indent=2))\n",
    "print(\"Saved:\", results_path / \"depth_prune_val_acc.json\")\n",
    "\n",
    "print(\"Final block counts per layer:\", [len(getattr(model.backbone, f'layer{i}')) for i in range(1,5)])\n"
   ]
  },
  {
   "cell_type": "markdown",
   "id": "2506237b",
   "metadata": {},
   "source": [
    "## Plot: Validation Accuracy vs Pruning Cycle"
   ]
  },
  {
   "cell_type": "code",
   "execution_count": null,
   "id": "b346f0f5",
   "metadata": {},
   "outputs": [
    {
     "data": {
      "image/png": "[encoded data removed]",
      "text/plain": [
       "<Figure size 600x400 with 1 Axes>"
      ]
     },
     "metadata": {},
     "output_type": "display_data"
    }
   ],
   "source": [
    "\n",
    "# Plot with matplotlib (no seaborn, single plot, no explicit colors)\n",
    "xs = [c for c, _ in val_acc_history]\n",
    "ys = [acc for _, acc in val_acc_history]\n",
    "\n",
    "plt.figure(figsize=(6,4))\n",
    "plt.plot(xs, ys, marker='o')\n",
    "plt.xlabel(\"Pruning cycle\")\n",
    "plt.ylabel(\"Accuracy\")\n",
    "plt.title(\"Accuracy vs Pruning Cycle (Head-Only, Depth Pruning)\")\n",
    "plt.grid(True)\n",
    "plt.show()\n"
   ]
  },
  {
   "cell_type": "markdown",
   "id": "e0ea159e",
   "metadata": {},
   "source": [
    "## (Optional) Final Test Evaluation"
   ]
  },
  {
   "cell_type": "code",
   "execution_count": 1,
   "id": "711d47da",
   "metadata": {},
   "outputs": [
    {
     "ename": "NameError",
     "evalue": "name 'evaluate' is not defined",
     "output_type": "error",
     "traceback": [
      "\u001b[31m---------------------------------------------------------------------------\u001b[39m",
      "\u001b[31mNameError\u001b[39m                                 Traceback (most recent call last)",
      "\u001b[36mCell\u001b[39m\u001b[36m \u001b[39m\u001b[32mIn[1]\u001b[39m\u001b[32m, line 2\u001b[39m\n\u001b[32m      1\u001b[39m \u001b[38;5;66;03m# Evaluate on the test set once you're done with all pruning cycles.\u001b[39;00m\n\u001b[32m----> \u001b[39m\u001b[32m2\u001b[39m test_acc = \u001b[43mevaluate\u001b[49m(model, test_loader, device)\n\u001b[32m      3\u001b[39m \u001b[38;5;28mprint\u001b[39m(\u001b[33mf\u001b[39m\u001b[33m\"\u001b[39m\u001b[33mFinal TEST accuracy: \u001b[39m\u001b[38;5;132;01m{\u001b[39;00mtest_acc\u001b[38;5;132;01m:\u001b[39;00m\u001b[33m.4f\u001b[39m\u001b[38;5;132;01m}\u001b[39;00m\u001b[33m\"\u001b[39m)\n",
      "\u001b[31mNameError\u001b[39m: name 'evaluate' is not defined"
     ]
    }
   ],
   "source": [
    "\n",
    "# Evaluate on the test set once you're done with all pruning cycles.\n",
    "test_acc = evaluate(model, test_loader, device)\n",
    "print(f\"Final TEST accuracy: {test_acc:.4f}\")\n"
   ]
  }
 ],
 "metadata": {
  "kernelspec": {
   "display_name": "ai231",
   "language": "python",
   "name": "python3"
  },
  "language_info": {
   "codemirror_mode": {
    "name": "ipython",
    "version": 3
   },
   "file_extension": ".py",
   "mimetype": "text/x-python",
   "name": "python",
   "nbconvert_exporter": "python",
   "pygments_lexer": "ipython3",
   "version": "3.12.3"
  }
 },
 "nbformat": 4,
 "nbformat_minor": 5
}
