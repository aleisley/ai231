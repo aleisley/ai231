{
 "cells": [
  {
   "cell_type": "markdown",
   "id": "28fccbc9",
   "metadata": {},
   "source": [
    "## ME3: Fine-tuning a Pruned ResNet18 for CIFAR10"
   ]
  },
  {
   "cell_type": "markdown",
   "id": "24238306",
   "metadata": {},
   "source": [
    "#### Import libraries needed and set global seed"
   ]
  },
  {
   "cell_type": "code",
   "execution_count": null,
   "id": "b42646d7",
   "metadata": {},
   "outputs": [
    {
     "name": "stderr",
     "output_type": "stream",
     "text": [
      "Seed set to 42\n"
     ]
    }
   ],
   "source": [
    "# Standard library imports\n",
    "import json\n",
    "from pathlib import Path\n",
    "from typing import List\n",
    "\n",
    "# Third-party imports\n",
    "import lightning as L\n",
    "import matplotlib.pyplot as plt\n",
    "import torch\n",
    "import torch.nn as nn\n",
    "from torch.utils.data import DataLoader, random_split\n",
    "import torchvision\n",
    "from torchvision import transforms\n",
    "from torchvision.models import resnet18, ResNet18_Weights\n",
    "\n",
    "# Seed / runtime configuration\n",
    "SEED = 42\n",
    "L.seed_everything(SEED, workers=True)\n",
    "accelerator = \"gpu\" if torch.cuda.is_available() else \"cpu\"\n",
    "precision = \"16-mixed\" if torch.cuda.is_available() else \"32-true\""
   ]
  },
  {
   "cell_type": "markdown",
   "id": "3d2b7fde",
   "metadata": {},
   "source": [
    "#### Load datamodule"
   ]
  },
  {
   "cell_type": "code",
   "execution_count": null,
   "id": "f4073efe",
   "metadata": {},
   "outputs": [
    {
     "name": "stdout",
     "output_type": "stream",
     "text": [
      "Train: 45000 | Val: 5000 | Test: 10000\n"
     ]
    }
   ],
   "source": [
    "class CIFAR10DM(L.LightningDataModule):\n",
    "    def __init__(\n",
    "        self,\n",
    "        data_dir: str = \"./data/CIFAR10\",\n",
    "        batch_size: int = 128,\n",
    "        num_workers: int = 0,\n",
    "        val_size: int = 5000,\n",
    "    ):\n",
    "        super().__init__()\n",
    "        self.data_dir = data_dir\n",
    "        self.batch_size = batch_size\n",
    "        self.num_workers = num_workers\n",
    "        self.val_size = val_size\n",
    "\n",
    "        # Standard normalization stats for ImageNet pretrained backbones\n",
    "        self.mean = [0.485, 0.456, 0.406]\n",
    "        self.std = [0.229, 0.224, 0.225]\n",
    "\n",
    "        # Transforms (resize to 224 to match ResNet18 pretrained input size)\n",
    "        self.train_tfms = transforms.Compose([\n",
    "            transforms.Resize(224),\n",
    "            transforms.RandomHorizontalFlip(),\n",
    "            transforms.ToTensor(),\n",
    "            transforms.Normalize(self.mean, self.std),\n",
    "        ])\n",
    "        self.test_tfms = transforms.Compose([\n",
    "            transforms.Resize(224),\n",
    "            transforms.ToTensor(),\n",
    "            transforms.Normalize(self.mean, self.std),\n",
    "        ])\n",
    "\n",
    "    def prepare_data(self):\n",
    "        # Download only (called on single process in distributed)\n",
    "        torchvision.datasets.CIFAR10(self.data_dir, train=True, download=True)\n",
    "        torchvision.datasets.CIFAR10(self.data_dir, train=False, download=True)\n",
    "\n",
    "    def setup(self, stage: str | None = None):\n",
    "        full = torchvision.datasets.CIFAR10(\n",
    "            self.data_dir, train=True, transform=self.train_tfms\n",
    "        )\n",
    "        test = torchvision.datasets.CIFAR10(\n",
    "            self.data_dir, train=False, transform=self.test_tfms\n",
    "        )\n",
    "        train_size = len(full) - self.val_size\n",
    "        self.train_set, self.val_set = random_split(\n",
    "            full,\n",
    "            [train_size, self.val_size],\n",
    "            generator=torch.Generator().manual_seed(42),\n",
    "        )\n",
    "        self.test_set = test\n",
    "\n",
    "    def train_dataloader(self):\n",
    "        return DataLoader(\n",
    "            self.train_set,\n",
    "            batch_size=self.batch_size,\n",
    "            shuffle=True,\n",
    "            num_workers=self.num_workers,\n",
    "            pin_memory=torch.cuda.is_available(),\n",
    "        )\n",
    "\n",
    "    def val_dataloader(self):\n",
    "        return DataLoader(\n",
    "            self.val_set,\n",
    "            batch_size=self.batch_size,\n",
    "            shuffle=False,\n",
    "            num_workers=self.num_workers,\n",
    "            pin_memory=torch.cuda.is_available(),\n",
    "        )\n",
    "\n",
    "    def test_dataloader(self):\n",
    "        return DataLoader(\n",
    "            self.test_set,\n",
    "            batch_size=self.batch_size,\n",
    "            shuffle=False,\n",
    "            num_workers=self.num_workers,\n",
    "            pin_memory=torch.cuda.is_available(),\n",
    "        )\n",
    "\n",
    "\n",
    "dm = CIFAR10DM()\n",
    "dm.prepare_data()\n",
    "dm.setup()\n",
    "print(f\"Train: {len(dm.train_set)} | Val: {len(dm.val_set)} | Test: {len(dm.test_set)}\")"
   ]
  },
  {
   "cell_type": "markdown",
   "id": "9b76b0eb",
   "metadata": {},
   "source": [
    "#### Custom ResNet18 Module\n",
    "\n",
    "We freeze the backbone and only train the final FC head"
   ]
  },
  {
   "cell_type": "code",
   "execution_count": null,
   "id": "fcfe8751",
   "metadata": {},
   "outputs": [
    {
     "name": "stdout",
     "output_type": "stream",
     "text": [
      "Trainable head params: 5130\n"
     ]
    }
   ],
   "source": [
    "class HeadOnlyResNet18Module(L.LightningModule):\n",
    "    \"\"\"Lightning module that freezes the pretrained ResNet18 body and trains only the final FC head.\n",
    "\n",
    "    A pruning routine outside this class progressively removes residual blocks / layers. After\n",
    "    structural changes, only the head (fully connected layer) remains trainable, and the class\n",
    "    automatically logs loss + accuracy for train/val/test phases.\n",
    "    \"\"\"\n",
    "\n",
    "    def __init__(self, num_classes: int = 10, lr: float = 1e-3):\n",
    "        super().__init__()\n",
    "        self.save_hyperparameters()\n",
    "\n",
    "        # Load ImageNet-pretrained backbone\n",
    "        self.backbone = resnet18(weights=ResNet18_Weights.IMAGENET1K_V1)\n",
    "\n",
    "        # Replace classification head\n",
    "        in_feats = self.backbone.fc.in_features\n",
    "        self.backbone.fc = nn.Linear(in_feats, num_classes)\n",
    "\n",
    "        # Freeze all backbone params except the new head\n",
    "        for p in self.backbone.parameters():\n",
    "            p.requires_grad = False\n",
    "        for p in self.backbone.fc.parameters():\n",
    "            p.requires_grad = True\n",
    "\n",
    "        self.crit = nn.CrossEntropyLoss()\n",
    "\n",
    "    def forward(self, x: torch.Tensor) -> torch.Tensor:  # type: ignore[override]\n",
    "        return self.backbone(x)\n",
    "\n",
    "    def configure_optimizers(self):  # type: ignore[override]\n",
    "        head_params = [p for p in self.parameters() if p.requires_grad]\n",
    "        return torch.optim.Adam(head_params, lr=self.hparams.lr)\n",
    "\n",
    "    def _shared(self, batch, stage: str) -> torch.Tensor:\n",
    "        x, y = batch\n",
    "        logits = self(x)\n",
    "        loss = self.crit(logits, y)\n",
    "        acc = (logits.argmax(1) == y).float().mean()\n",
    "        self.log(f\"{stage}_loss\", loss, prog_bar=False, on_epoch=True, on_step=False)\n",
    "        self.log(f\"{stage}_acc\", acc, prog_bar=True, on_epoch=True, on_step=False)\n",
    "        return loss\n",
    "\n",
    "    def training_step(self, batch, batch_idx):  # type: ignore[override]\n",
    "        return self._shared(batch, \"train\")\n",
    "\n",
    "    def validation_step(self, batch, batch_idx):  # type: ignore[override]\n",
    "        return self._shared(batch, \"val\")\n",
    "\n",
    "    def test_step(self, batch, batch_idx):  # type: ignore[override]\n",
    "        return self._shared(batch, \"test\")\n",
    "\n",
    "\n",
    "model = HeadOnlyResNet18Module()\n",
    "print(\n",
    "    \"Trainable head params:\",\n",
    "    sum(p.numel() for p in model.parameters() if p.requires_grad),\n",
    ")"
   ]
  },
  {
   "cell_type": "markdown",
   "id": "5090506b",
   "metadata": {},
   "source": [
    "#### Define helper functions for pruning cycles"
   ]
  },
  {
   "cell_type": "code",
   "execution_count": null,
   "id": "30ddc38d",
   "metadata": {},
   "outputs": [],
   "source": [
    "\n",
    "LAYER_ORDER: List[str] = [\"layer4\", \"layer3\", \"layer2\", \"layer1\"]\n",
    "_LAYER_CHANNELS = {\"layer1\": 64, \"layer2\": 128, \"layer3\": 256, \"layer4\": 512}\n",
    "\n",
    "def layer_out_channels(name: str) -> int:\n",
    "    \"\"\"Return the output channel size associated with a ResNet stage name.\"\"\"\n",
    "    return _LAYER_CHANNELS[name]  # type: ignore[name-defined]\n",
    "\n",
    "def layer_out_channels(name: str) -> int:  # type: ignore[override]\n",
    "    return _LAYER_CHANNELS[name]\n",
    "\n",
    "def deepest_existing_layers(resnet: nn.Module) -> List[str]:\n",
    "    \"\"\"Return existing (non-empty) layer names from deepest to shallowest.\n",
    "\n",
    "    A layer \"exists\" if it is an nn.Sequential with length > 0. The order returned\n",
    "    is descending depth so pruning logic can act from deepest first.\n",
    "    \"\"\"\n",
    "    names: List[str] = []\n",
    "    for name in LAYER_ORDER:\n",
    "        layer = getattr(resnet, name, None)\n",
    "        if isinstance(layer, nn.Sequential) and len(layer) > 0:\n",
    "            names.append(name)\n",
    "    return names\n",
    "\n",
    "def adjust_head_in_features_if_needed(module: HeadOnlyResNet18Module) -> None:\n",
    "    \"\"\"If the deepest surviving layer's channel size changed, rebuild the FC head.\n",
    "\n",
    "    When entire layers are dropped, the feature dimension feeding the classification\n",
    "    head changes. We rebuild the linear layer (keeping output classes) and leave it\n",
    "    trainable.\n",
    "    \"\"\"\n",
    "    resnet = module.backbone\n",
    "    names = deepest_existing_layers(resnet)\n",
    "    target_in = _LAYER_CHANNELS[names[0]] if names else 64  # default to earliest stage size\n",
    "    fc = resnet.fc\n",
    "    if fc.in_features != target_in:\n",
    "        new_fc = nn.Linear(target_in, fc.out_features)\n",
    "        for p in new_fc.parameters():\n",
    "            p.requires_grad = True\n",
    "        resnet.fc = new_fc\n",
    "        print(f\"Adjusted head in_features: {fc.in_features} -> {target_in}\")\n",
    "\n",
    "def prune_round_robin_then_drop_layers(module: HeadOnlyResNet18Module) -> bool:\n",
    "    \"\"\"Prune one residual block at a time (deepest-first), then drop whole layers.\n",
    "\n",
    "    Strategy:\n",
    "    1. Iterate over layers from deepest to shallowest; if a layer has >1 block, remove\n",
    "       the last block and stop (round-robin style across cycles).\n",
    "    2. If no layer has >1 block, check if all surviving layers have exactly one block.\n",
    "       If so, drop the deepest whole layer (set to empty nn.Sequential) and adjust head.\n",
    "    3. If nothing can be pruned, return False to signal termination.\n",
    "\n",
    "    Returns\n",
    "    -------\n",
    "    bool\n",
    "        True if a structural change occurred; False otherwise.\n",
    "    \"\"\"\n",
    "    resnet = module.backbone\n",
    "\n",
    "    # Phase 1: remove a single block from the deepest eligible layer.\n",
    "    for lname in LAYER_ORDER:\n",
    "        layer = getattr(resnet, lname, None)\n",
    "        if isinstance(layer, nn.Sequential) and len(layer) > 1:\n",
    "            new_blocks = list(layer.children())[:-1]\n",
    "            setattr(resnet, lname, nn.Sequential(*new_blocks))\n",
    "            print(f\"Pruned one block from {lname}: now {len(new_blocks)} block(s).\")\n",
    "            return True\n",
    "\n",
    "    # Phase 2: Drop entire layer if all remaining layers have exactly one block.\n",
    "    names = deepest_existing_layers(resnet)\n",
    "    if not names:\n",
    "        print(\"No layers left to prune.\")\n",
    "        return False\n",
    "\n",
    "    if all(len(getattr(resnet, n)) == 1 for n in names):\n",
    "        drop = names[0]\n",
    "        setattr(resnet, drop, nn.Sequential())\n",
    "        print(f\"Dropped entire {drop}.\")\n",
    "        adjust_head_in_features_if_needed(module)\n",
    "        return True\n",
    "\n",
    "    print(\"Nothing to prune this cycle.\")\n",
    "    return False"
   ]
  },
  {
   "cell_type": "markdown",
   "id": "496d330a",
   "metadata": {},
   "source": [
    "#### Start the pruning cycle\n",
    "\n",
    "We will be pruning in a sort of round robin style where the depth unit is per block.\n",
    "\n",
    "So for the first iteration, we will be removing 1 block from layer 4. On the next iteration, we will be removing 1 block from layer 3. This goes on until we remove 1 block from the first layer.\n",
    "\n",
    "The next iteration will go back to layer 4. But since it only has 1 block remaining, we fully remove the layer. This goes on until we have no more left to prune."
   ]
  },
  {
   "cell_type": "code",
   "execution_count": null,
   "id": "b643152c",
   "metadata": {},
   "outputs": [
    {
     "name": "stderr",
     "output_type": "stream",
     "text": [
      "Using 16bit Automatic Mixed Precision (AMP)\n",
      "GPU available: True (cuda), used: True\n",
      "TPU available: False, using: 0 TPU cores\n",
      "HPU available: False, using: 0 HPUs\n",
      "/home/aleisley/Documents/ai231/.venv/lib/python3.12/site-packages/lightning/pytorch/trainer/connectors/logger_connector/logger_connector.py:76: Starting from v1.9.0, `tensorboardX` has been removed as a dependency of the `lightning.pytorch` package, due to potential conflicts with other packages in the ML ecosystem. For this reason, `logger=True` will use `CSVLogger` as the default logger, unless the `tensorboard` or `tensorboardX` packages are found. Please `pip install lightning[extra]` or one of them to enable TensorBoard support by default\n",
      "You are using a CUDA device ('NVIDIA GeForce RTX 4050 Laptop GPU') that has Tensor Cores. To properly utilize them, you should set `torch.set_float32_matmul_precision('medium' | 'high')` which will trade-off precision for performance. For more details, read https://pytorch.org/docs/stable/generated/torch.set_float32_matmul_precision.html#torch.set_float32_matmul_precision\n"
     ]
    },
    {
     "name": "stdout",
     "output_type": "stream",
     "text": [
      "=== Cycle 0 (baseline) ===\n"
     ]
    },
    {
     "name": "stderr",
     "output_type": "stream",
     "text": [
      "LOCAL_RANK: 0 - CUDA_VISIBLE_DEVICES: [0]\n",
      "/home/aleisley/Documents/ai231/.venv/lib/python3.12/site-packages/lightning/pytorch/utilities/model_summary/model_summary.py:231: Precision 16-mixed is not supported by the model summary.  Estimated model size in MB will not be accurate. Using 32 bits instead.\n",
      "\n",
      "  | Name     | Type             | Params | Mode \n",
      "------------------------------------------------------\n",
      "0 | backbone | ResNet           | 11.2 M | train\n",
      "1 | crit     | CrossEntropyLoss | 0      | train\n",
      "------------------------------------------------------\n",
      "5.1 K     Trainable params\n",
      "11.2 M    Non-trainable params\n",
      "11.2 M    Total params\n",
      "44.727    Total estimated model params size (MB)\n",
      "69        Modules in train mode\n",
      "0         Modules in eval mode\n"
     ]
    },
    {
     "name": "stdout",
     "output_type": "stream",
     "text": [
      "Sanity Checking: |          | 0/? [00:00<?, ?it/s]"
     ]
    },
    {
     "name": "stderr",
     "output_type": "stream",
     "text": [
      "/home/aleisley/Documents/ai231/.venv/lib/python3.12/site-packages/lightning/pytorch/trainer/connectors/data_connector.py:433: The 'val_dataloader' does not have many workers which may be a bottleneck. Consider increasing the value of the `num_workers` argument` to `num_workers=15` in the `DataLoader` to improve performance.\n"
     ]
    },
    {
     "name": "stdout",
     "output_type": "stream",
     "text": [
      "                                                                           "
     ]
    },
    {
     "name": "stderr",
     "output_type": "stream",
     "text": [
      "/home/aleisley/Documents/ai231/.venv/lib/python3.12/site-packages/lightning/pytorch/trainer/connectors/data_connector.py:433: The 'train_dataloader' does not have many workers which may be a bottleneck. Consider increasing the value of the `num_workers` argument` to `num_workers=15` in the `DataLoader` to improve performance.\n"
     ]
    },
    {
     "name": "stdout",
     "output_type": "stream",
     "text": [
      "Epoch 4: 100%|██████████| 352/352 [01:45<00:00,  3.34it/s, v_num=44, val_acc=0.804, train_acc=0.804]"
     ]
    },
    {
     "name": "stderr",
     "output_type": "stream",
     "text": [
      "`Trainer.fit` stopped: `max_epochs=5` reached.\n"
     ]
    },
    {
     "name": "stdout",
     "output_type": "stream",
     "text": [
      "Epoch 4: 100%|██████████| 352/352 [01:45<00:00,  3.34it/s, v_num=44, val_acc=0.804, train_acc=0.804]"
     ]
    },
    {
     "name": "stderr",
     "output_type": "stream",
     "text": [
      "Using 16bit Automatic Mixed Precision (AMP)\n",
      "GPU available: True (cuda), used: True\n",
      "TPU available: False, using: 0 TPU cores\n",
      "HPU available: False, using: 0 HPUs\n"
     ]
    },
    {
     "name": "stdout",
     "output_type": "stream",
     "text": [
      "\n",
      "\n",
      "=== Cycle 1: prune (block or layer) then fine-tune head ===\n",
      "Pruned one block from layer4: now 1 block(s).\n"
     ]
    },
    {
     "name": "stderr",
     "output_type": "stream",
     "text": [
      "LOCAL_RANK: 0 - CUDA_VISIBLE_DEVICES: [0]\n",
      "\n",
      "  | Name     | Type             | Params | Mode \n",
      "------------------------------------------------------\n",
      "0 | backbone | ResNet           | 6.5 M  | train\n",
      "1 | crit     | CrossEntropyLoss | 0      | train\n",
      "------------------------------------------------------\n",
      "5.1 K     Trainable params\n",
      "6.5 M     Non-trainable params\n",
      "6.5 M     Total params\n",
      "25.844    Total estimated model params size (MB)\n",
      "63        Modules in train mode\n",
      "0         Modules in eval mode\n"
     ]
    },
    {
     "name": "stdout",
     "output_type": "stream",
     "text": [
      "Epoch 4: 100%|██████████| 352/352 [01:31<00:00,  3.86it/s, v_num=45, val_acc=0.733, train_acc=0.732]"
     ]
    },
    {
     "name": "stderr",
     "output_type": "stream",
     "text": [
      "`Trainer.fit` stopped: `max_epochs=5` reached.\n"
     ]
    },
    {
     "name": "stdout",
     "output_type": "stream",
     "text": [
      "Epoch 4: 100%|██████████| 352/352 [01:31<00:00,  3.86it/s, v_num=45, val_acc=0.733, train_acc=0.732]"
     ]
    },
    {
     "name": "stderr",
     "output_type": "stream",
     "text": [
      "Using 16bit Automatic Mixed Precision (AMP)\n",
      "GPU available: True (cuda), used: True\n",
      "TPU available: False, using: 0 TPU cores\n",
      "HPU available: False, using: 0 HPUs\n"
     ]
    },
    {
     "name": "stdout",
     "output_type": "stream",
     "text": [
      "\n",
      "\n",
      "=== Cycle 2: prune (block or layer) then fine-tune head ===\n",
      "Pruned one block from layer3: now 1 block(s).\n"
     ]
    },
    {
     "name": "stderr",
     "output_type": "stream",
     "text": [
      "LOCAL_RANK: 0 - CUDA_VISIBLE_DEVICES: [0]\n",
      "\n",
      "  | Name     | Type             | Params | Mode \n",
      "------------------------------------------------------\n",
      "0 | backbone | ResNet           | 5.3 M  | train\n",
      "1 | crit     | CrossEntropyLoss | 0      | train\n",
      "------------------------------------------------------\n",
      "5.1 K     Trainable params\n",
      "5.3 M     Non-trainable params\n",
      "5.3 M     Total params\n",
      "21.121    Total estimated model params size (MB)\n",
      "57        Modules in train mode\n",
      "0         Modules in eval mode\n"
     ]
    },
    {
     "name": "stdout",
     "output_type": "stream",
     "text": [
      "Epoch 4: 100%|██████████| 352/352 [01:30<00:00,  3.90it/s, v_num=46, val_acc=0.718, train_acc=0.718]"
     ]
    },
    {
     "name": "stderr",
     "output_type": "stream",
     "text": [
      "`Trainer.fit` stopped: `max_epochs=5` reached.\n"
     ]
    },
    {
     "name": "stdout",
     "output_type": "stream",
     "text": [
      "Epoch 4: 100%|██████████| 352/352 [01:30<00:00,  3.90it/s, v_num=46, val_acc=0.718, train_acc=0.718]"
     ]
    },
    {
     "name": "stderr",
     "output_type": "stream",
     "text": [
      "Using 16bit Automatic Mixed Precision (AMP)\n",
      "GPU available: True (cuda), used: True\n",
      "TPU available: False, using: 0 TPU cores\n",
      "HPU available: False, using: 0 HPUs\n"
     ]
    },
    {
     "name": "stdout",
     "output_type": "stream",
     "text": [
      "\n",
      "\n",
      "=== Cycle 3: prune (block or layer) then fine-tune head ===\n",
      "Pruned one block from layer2: now 1 block(s).\n"
     ]
    },
    {
     "name": "stderr",
     "output_type": "stream",
     "text": [
      "LOCAL_RANK: 0 - CUDA_VISIBLE_DEVICES: [0]\n",
      "\n",
      "  | Name     | Type             | Params | Mode \n",
      "------------------------------------------------------\n",
      "0 | backbone | ResNet           | 5.0 M  | train\n",
      "1 | crit     | CrossEntropyLoss | 0      | train\n",
      "------------------------------------------------------\n",
      "5.1 K     Trainable params\n",
      "5.0 M     Non-trainable params\n",
      "5.0 M     Total params\n",
      "19.940    Total estimated model params size (MB)\n",
      "51        Modules in train mode\n",
      "0         Modules in eval mode\n"
     ]
    },
    {
     "name": "stdout",
     "output_type": "stream",
     "text": [
      "Epoch 4: 100%|██████████| 352/352 [01:27<00:00,  4.01it/s, v_num=47, val_acc=0.687, train_acc=0.681]"
     ]
    },
    {
     "name": "stderr",
     "output_type": "stream",
     "text": [
      "`Trainer.fit` stopped: `max_epochs=5` reached.\n"
     ]
    },
    {
     "name": "stdout",
     "output_type": "stream",
     "text": [
      "Epoch 4: 100%|██████████| 352/352 [01:27<00:00,  4.01it/s, v_num=47, val_acc=0.687, train_acc=0.681]"
     ]
    },
    {
     "name": "stderr",
     "output_type": "stream",
     "text": [
      "Using 16bit Automatic Mixed Precision (AMP)\n",
      "GPU available: True (cuda), used: True\n",
      "TPU available: False, using: 0 TPU cores\n",
      "HPU available: False, using: 0 HPUs\n"
     ]
    },
    {
     "name": "stdout",
     "output_type": "stream",
     "text": [
      "\n",
      "\n",
      "=== Cycle 4: prune (block or layer) then fine-tune head ===\n",
      "Pruned one block from layer1: now 1 block(s).\n"
     ]
    },
    {
     "name": "stderr",
     "output_type": "stream",
     "text": [
      "LOCAL_RANK: 0 - CUDA_VISIBLE_DEVICES: [0]\n",
      "\n",
      "  | Name     | Type             | Params | Mode \n",
      "------------------------------------------------------\n",
      "0 | backbone | ResNet           | 4.9 M  | train\n",
      "1 | crit     | CrossEntropyLoss | 0      | train\n",
      "------------------------------------------------------\n",
      "5.1 K     Trainable params\n",
      "4.9 M     Non-trainable params\n",
      "4.9 M     Total params\n",
      "19.644    Total estimated model params size (MB)\n",
      "45        Modules in train mode\n",
      "0         Modules in eval mode\n"
     ]
    },
    {
     "name": "stdout",
     "output_type": "stream",
     "text": [
      "Epoch 4: 100%|██████████| 352/352 [01:27<00:00,  4.01it/s, v_num=48, val_acc=0.653, train_acc=0.648]"
     ]
    },
    {
     "name": "stderr",
     "output_type": "stream",
     "text": [
      "`Trainer.fit` stopped: `max_epochs=5` reached.\n"
     ]
    },
    {
     "name": "stdout",
     "output_type": "stream",
     "text": [
      "Epoch 4: 100%|██████████| 352/352 [01:27<00:00,  4.01it/s, v_num=48, val_acc=0.653, train_acc=0.648]"
     ]
    },
    {
     "name": "stderr",
     "output_type": "stream",
     "text": [
      "Using 16bit Automatic Mixed Precision (AMP)\n",
      "GPU available: True (cuda), used: True\n",
      "TPU available: False, using: 0 TPU cores\n",
      "HPU available: False, using: 0 HPUs\n"
     ]
    },
    {
     "name": "stdout",
     "output_type": "stream",
     "text": [
      "\n",
      "\n",
      "=== Cycle 5: prune (block or layer) then fine-tune head ===\n",
      "Dropped entire layer4.\n",
      "Adjusted head in_features: 512 -> 256\n"
     ]
    },
    {
     "name": "stderr",
     "output_type": "stream",
     "text": [
      "LOCAL_RANK: 0 - CUDA_VISIBLE_DEVICES: [0]\n",
      "\n",
      "  | Name     | Type             | Params | Mode \n",
      "------------------------------------------------------\n",
      "0 | backbone | ResNet           | 1.2 M  | train\n",
      "1 | crit     | CrossEntropyLoss | 0      | train\n",
      "------------------------------------------------------\n",
      "2.6 K     Trainable params\n",
      "1.2 M     Non-trainable params\n",
      "1.2 M     Total params\n",
      "4.941     Total estimated model params size (MB)\n",
      "36        Modules in train mode\n",
      "0         Modules in eval mode\n"
     ]
    },
    {
     "name": "stdout",
     "output_type": "stream",
     "text": [
      "Epoch 4: 100%|██████████| 352/352 [01:28<00:00,  3.98it/s, v_num=49, val_acc=0.502, train_acc=0.500]"
     ]
    },
    {
     "name": "stderr",
     "output_type": "stream",
     "text": [
      "`Trainer.fit` stopped: `max_epochs=5` reached.\n"
     ]
    },
    {
     "name": "stdout",
     "output_type": "stream",
     "text": [
      "Epoch 4: 100%|██████████| 352/352 [01:28<00:00,  3.98it/s, v_num=49, val_acc=0.502, train_acc=0.500]"
     ]
    },
    {
     "name": "stderr",
     "output_type": "stream",
     "text": [
      "Using 16bit Automatic Mixed Precision (AMP)\n",
      "GPU available: True (cuda), used: True\n",
      "TPU available: False, using: 0 TPU cores\n",
      "HPU available: False, using: 0 HPUs\n"
     ]
    },
    {
     "name": "stdout",
     "output_type": "stream",
     "text": [
      "\n",
      "\n",
      "=== Cycle 6: prune (block or layer) then fine-tune head ===\n",
      "Dropped entire layer3.\n",
      "Adjusted head in_features: 256 -> 128\n"
     ]
    },
    {
     "name": "stderr",
     "output_type": "stream",
     "text": [
      "LOCAL_RANK: 0 - CUDA_VISIBLE_DEVICES: [0]\n",
      "\n",
      "  | Name     | Type             | Params | Mode \n",
      "------------------------------------------------------\n",
      "0 | backbone | ResNet           | 314 K  | train\n",
      "1 | crit     | CrossEntropyLoss | 0      | train\n",
      "------------------------------------------------------\n",
      "1.3 K     Trainable params\n",
      "313 K     Non-trainable params\n",
      "314 K     Total params\n",
      "1.260     Total estimated model params size (MB)\n",
      "27        Modules in train mode\n",
      "0         Modules in eval mode\n"
     ]
    },
    {
     "name": "stdout",
     "output_type": "stream",
     "text": [
      "Epoch 4: 100%|██████████| 352/352 [01:28<00:00,  3.99it/s, v_num=50, val_acc=0.421, train_acc=0.417]"
     ]
    },
    {
     "name": "stderr",
     "output_type": "stream",
     "text": [
      "`Trainer.fit` stopped: `max_epochs=5` reached.\n"
     ]
    },
    {
     "name": "stdout",
     "output_type": "stream",
     "text": [
      "Epoch 4: 100%|██████████| 352/352 [01:28<00:00,  3.99it/s, v_num=50, val_acc=0.421, train_acc=0.417]"
     ]
    },
    {
     "name": "stderr",
     "output_type": "stream",
     "text": [
      "Using 16bit Automatic Mixed Precision (AMP)\n",
      "GPU available: True (cuda), used: True\n",
      "TPU available: False, using: 0 TPU cores\n",
      "HPU available: False, using: 0 HPUs\n"
     ]
    },
    {
     "name": "stdout",
     "output_type": "stream",
     "text": [
      "\n",
      "\n",
      "=== Cycle 7: prune (block or layer) then fine-tune head ===\n",
      "Dropped entire layer2.\n",
      "Adjusted head in_features: 128 -> 64\n"
     ]
    },
    {
     "name": "stderr",
     "output_type": "stream",
     "text": [
      "LOCAL_RANK: 0 - CUDA_VISIBLE_DEVICES: [0]\n",
      "\n",
      "  | Name     | Type             | Params | Mode \n",
      "------------------------------------------------------\n",
      "0 | backbone | ResNet           | 84.2 K | train\n",
      "1 | crit     | CrossEntropyLoss | 0      | train\n",
      "------------------------------------------------------\n",
      "650       Trainable params\n",
      "83.5 K    Non-trainable params\n",
      "84.2 K    Total params\n",
      "0.337     Total estimated model params size (MB)\n",
      "18        Modules in train mode\n",
      "0         Modules in eval mode\n"
     ]
    },
    {
     "name": "stdout",
     "output_type": "stream",
     "text": [
      "Epoch 4: 100%|██████████| 352/352 [01:28<00:00,  3.98it/s, v_num=51, val_acc=0.321, train_acc=0.303]"
     ]
    },
    {
     "name": "stderr",
     "output_type": "stream",
     "text": [
      "`Trainer.fit` stopped: `max_epochs=5` reached.\n"
     ]
    },
    {
     "name": "stdout",
     "output_type": "stream",
     "text": [
      "Epoch 4: 100%|██████████| 352/352 [01:28<00:00,  3.98it/s, v_num=51, val_acc=0.321, train_acc=0.303]"
     ]
    },
    {
     "name": "stderr",
     "output_type": "stream",
     "text": [
      "Using 16bit Automatic Mixed Precision (AMP)\n",
      "GPU available: True (cuda), used: True\n",
      "TPU available: False, using: 0 TPU cores\n",
      "HPU available: False, using: 0 HPUs\n"
     ]
    },
    {
     "name": "stdout",
     "output_type": "stream",
     "text": [
      "\n",
      "\n",
      "=== Cycle 8: prune (block or layer) then fine-tune head ===\n",
      "Dropped entire layer1.\n"
     ]
    },
    {
     "name": "stderr",
     "output_type": "stream",
     "text": [
      "LOCAL_RANK: 0 - CUDA_VISIBLE_DEVICES: [0]\n",
      "\n",
      "  | Name     | Type             | Params | Mode \n",
      "------------------------------------------------------\n",
      "0 | backbone | ResNet           | 10.2 K | train\n",
      "1 | crit     | CrossEntropyLoss | 0      | train\n",
      "------------------------------------------------------\n",
      "650       Trainable params\n",
      "9.5 K     Non-trainable params\n",
      "10.2 K    Total params\n",
      "0.041     Total estimated model params size (MB)\n",
      "12        Modules in train mode\n",
      "0         Modules in eval mode\n"
     ]
    },
    {
     "name": "stdout",
     "output_type": "stream",
     "text": [
      "Epoch 4: 100%|██████████| 352/352 [01:27<00:00,  4.02it/s, v_num=52, val_acc=0.279, train_acc=0.271]"
     ]
    },
    {
     "name": "stderr",
     "output_type": "stream",
     "text": [
      "`Trainer.fit` stopped: `max_epochs=5` reached.\n"
     ]
    },
    {
     "name": "stdout",
     "output_type": "stream",
     "text": [
      "Epoch 4: 100%|██████████| 352/352 [01:27<00:00,  4.02it/s, v_num=52, val_acc=0.279, train_acc=0.271]\n",
      "\n",
      "=== Cycle 9: prune (block or layer) then fine-tune head ===\n",
      "No layers left to prune.\n",
      "Stopping: nothing left to prune.\n"
     ]
    },
    {
     "data": {
      "text/plain": [
       "[(0, 0.8041999936103821),\n",
       " (1, 0.7325999736785889),\n",
       " (2, 0.7175999879837036),\n",
       " (3, 0.6868000030517578),\n",
       " (4, 0.6528000235557556),\n",
       " (5, 0.5019999742507935),\n",
       " (6, 0.42080000042915344),\n",
       " (7, 0.32100000977516174),\n",
       " (8, 0.2786000072956085)]"
      ]
     },
     "execution_count": 7,
     "metadata": {},
     "output_type": "execute_result"
    }
   ],
   "source": [
    "def fit_for_epochs(module, dm, epochs=3):\n",
    "    trainer = L.Trainer(max_epochs=epochs, accelerator=accelerator, devices=1, precision=precision,\n",
    "                        enable_checkpointing=False, log_every_n_steps=50)\n",
    "    trainer.fit(module, dm)\n",
    "    return float(trainer.callback_metrics.get(\"val_acc\", torch.tensor(0.0)).item())\n",
    "\n",
    "CYCLES = 12\n",
    "EPOCHS_PER_CYCLE = 5\n",
    "val_acc_history = []\n",
    "\n",
    "print(\"=== Cycle 0 (baseline) ===\")\n",
    "val_acc_history.append((0, fit_for_epochs(model, dm, EPOCHS_PER_CYCLE)))\n",
    "\n",
    "for c in range(1, CYCLES):\n",
    "    print(f\"\\n=== Cycle {c}: prune (block or layer) then fine-tune head ===\")\n",
    "    ok = prune_round_robin_then_drop_layers(model)\n",
    "    if not ok: print(\"Stopping: nothing left to prune.\"); break\n",
    "    val_acc_history.append((c, fit_for_epochs(model, dm, EPOCHS_PER_CYCLE)))\n",
    "\n",
    "Path('artifacts').mkdir(parents=True, exist_ok=True)\n",
    "Path('artifacts/depth_prune_val_acc_lightning_layerdrop.json').write_text(json.dumps(val_acc_history, indent=2))\n",
    "val_acc_history\n"
   ]
  },
  {
   "cell_type": "markdown",
   "id": "ced6af5c",
   "metadata": {},
   "source": [
    "#### Plotting the performance vs pruning cycle"
   ]
  },
  {
   "cell_type": "code",
   "execution_count": null,
   "id": "63bc576f",
   "metadata": {},
   "outputs": [
    {
     "data": {
      "image/png": "[encoded data removed]",
      "text/plain": [
       "<Figure size 600x400 with 1 Axes>"
      ]
     },
     "metadata": {},
     "output_type": "display_data"
    }
   ],
   "source": [
    "\n",
    "xs = [c for c,_ in val_acc_history]; ys = [a for _,a in val_acc_history]\n",
    "plt.figure(figsize=(6,4)); plt.plot(xs, ys, marker='o')\n",
    "plt.xlabel(\"Pruning cycle\"); plt.ylabel(\"Validation accuracy\")\n",
    "plt.title(\"Accuracy vs Pruning Cycle\"); plt.grid(True); plt.show()\n"
   ]
  }
 ],
 "metadata": {
  "kernelspec": {
   "display_name": "ai231",
   "language": "python",
   "name": "python3"
  },
  "language_info": {
   "codemirror_mode": {
    "name": "ipython",
    "version": 3
   },
   "file_extension": ".py",
   "mimetype": "text/x-python",
   "name": "python",
   "nbconvert_exporter": "python",
   "pygments_lexer": "ipython3",
   "version": "3.12.3"
  }
 },
 "nbformat": 4,
 "nbformat_minor": 5
}
