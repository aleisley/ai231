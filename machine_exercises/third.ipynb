{
  "cells": [
    {
      "cell_type": "markdown",
      "id": "53e6da44",
      "metadata": {},
      "source": [
        "### ME3:"
      ]
    },
    {
      "cell_type": "code",
      "execution_count": 17,
      "id": "de98173e",
      "metadata": {},
      "outputs": [],
      "source": [
        "# Standard library imports\n",
        "import os\n",
        "import time\n",
        "import json\n",
        "from collections import defaultdict\n",
        "from functools import wraps\n",
        "from pathlib import Path\n",
        "from typing import Dict, Iterable, Mapping, Tuple\n",
        "\n",
        "# Third-party imports\n",
        "import lightning as L\n",
        "import torch\n",
        "from einops import einsum\n",
        "from torch.optim.lr_scheduler import MultiStepLR\n",
        "from torch.utils.data import DataLoader, random_split\n",
        "from torchvision.datasets import CIFAR10\n",
        "from torchvision.models import ResNet18_Weights, resnet18, ResNet\n",
        "from torch import nn\n",
        "from torchmetrics.classification import Accuracy\n",
        "from torch.nn.utils import prune\n",
        "from tqdm.auto import tqdm\n",
        "\n",
        "# set precision for matmuls\n",
        "torch.set_float32_matmul_precision(\"medium\")   # or \"medium\"\n",
        "\n",
        "# Resolve storage locations for local runs and Google Drive\n",
        "def resolve_base_dir() -> Path:\n",
        "    env_override = os.environ.get(\"AI231_BASE_DIR\")\n",
        "    if env_override:\n",
        "        return Path(env_override).expanduser()\n",
        "\n",
        "    cwd = Path.cwd()\n",
        "    drive_root = Path(\"/content/drive/MyDrive\")\n",
        "    if drive_root.exists():\n",
        "        try:\n",
        "            cwd.relative_to(drive_root)\n",
        "        except ValueError:\n",
        "            project_dir = drive_root / \"ai231\"\n",
        "            project_dir.mkdir(parents=True, exist_ok=True)\n",
        "            return project_dir\n",
        "        else:\n",
        "            return cwd\n",
        "\n",
        "    return cwd\n",
        "\n",
        "BASE_DIR = resolve_base_dir()\n",
        "DATA_ROOT = BASE_DIR / \"data\" / \"CIFAR10\"\n",
        "ARTIFACT_DIR = BASE_DIR / \"artifacts\" / \"me3\"\n",
        "CKPT_PATH = ARTIFACT_DIR / \"resnet18_finetuned.ckpt\"\n"
      ]
    },
    {
      "cell_type": "code",
      "execution_count": 18,
      "id": "ed8bdbab",
      "metadata": {},
      "outputs": [],
      "source": [
        "class CustomResNet18(nn.Module):\n",
        "    \"\"\"ResNet18 backbone that exposes residual blocks for depth pruning workflows.\"\"\"\n",
        "\n",
        "    STAGE_NAMES = (\"layer1\", \"layer2\", \"layer3\", \"layer4\")\n",
        "\n",
        "    def __init__(\n",
        "        self,\n",
        "        *,\n",
        "        weights: ResNet18_Weights | None = ResNet18_Weights.IMAGENET1K_V1,\n",
        "        block_keep_mask: Mapping[str, Iterable[int]] | None = None,\n",
        "    ) -> None:\n",
        "        super().__init__()\n",
        "        base_model = resnet18(weights=weights)\n",
        "        self.conv1 = base_model.conv1\n",
        "        self.bn1 = base_model.bn1\n",
        "        self.relu = base_model.relu\n",
        "        self.maxpool = base_model.maxpool\n",
        "\n",
        "        self.stages = nn.ModuleDict(\n",
        "            {\n",
        "                name: nn.ModuleList(list(getattr(base_model, name).children()))\n",
        "                for name in self.STAGE_NAMES\n",
        "            }\n",
        "        )\n",
        "        self.avgpool = base_model.avgpool\n",
        "        self.fc = base_model.fc\n",
        "\n",
        "        self.set_block_keep_mask(block_keep_mask)\n",
        "\n",
        "    def set_block_keep_mask(\n",
        "        self, block_keep_mask: Mapping[str, Iterable[int]] | None\n",
        "    ) -> Dict[str, list[int]]:\n",
        "        \"\"\"Update which residual blocks should run for each stage.\"\"\"\n",
        "        validated = self._validate_mask(block_keep_mask)\n",
        "        self.block_keep_mask = validated\n",
        "        self._active_blocks = {name: set(indices) for name, indices in validated.items()}\n",
        "        return validated\n",
        "\n",
        "    def prune_blocks(self, layer_name: str, drop_indices: Iterable[int]) -> Dict[str, list[int]]:\n",
        "        \"\"\"Remove specific block indices from a stage and update the keep mask.\"\"\"\n",
        "        if layer_name not in self.STAGE_NAMES:\n",
        "            raise ValueError(f\"Unknown stage '{layer_name}'. Expected one of {self.STAGE_NAMES}.\")\n",
        "\n",
        "        drop = set(int(idx) for idx in drop_indices)\n",
        "        current = [idx for idx in self.block_keep_mask[layer_name] if idx not in drop]\n",
        "        updated_mask = dict(self.block_keep_mask)\n",
        "        updated_mask[layer_name] = current\n",
        "        return self.set_block_keep_mask(updated_mask)\n",
        "\n",
        "    def forward_features(self, x: torch.Tensor) -> torch.Tensor:\n",
        "        x = self.conv1(x)\n",
        "        x = self.bn1(x)\n",
        "        x = self.relu(x)\n",
        "        x = self.maxpool(x)\n",
        "\n",
        "        for stage_name in self.STAGE_NAMES:\n",
        "            x = self._forward_stage(x, stage_name)\n",
        "\n",
        "        x = self.avgpool(x)\n",
        "        return torch.flatten(x, 1)\n",
        "\n",
        "    def forward(self, x: torch.Tensor) -> torch.Tensor:\n",
        "        x = self.forward_features(x)\n",
        "        return self.fc(x)\n",
        "\n",
        "    def _forward_stage(self, x: torch.Tensor, stage_name: str) -> torch.Tensor:\n",
        "        active_blocks = self._active_blocks[stage_name]\n",
        "        for idx, block in enumerate(self.stages[stage_name]):\n",
        "            if idx not in active_blocks:\n",
        "                continue\n",
        "            x = block(x)\n",
        "        return x\n",
        "\n",
        "    def _validate_mask(\n",
        "        self, block_keep_mask: Mapping[str, Iterable[int]] | None\n",
        "    ) -> Dict[str, list[int]]:\n",
        "        validated: Dict[str, list[int]] = {}\n",
        "        for stage_name in self.STAGE_NAMES:\n",
        "            blocks = self.stages[stage_name]\n",
        "            keep = block_keep_mask.get(stage_name) if block_keep_mask else None\n",
        "            if keep is None:\n",
        "                keep_indices = list(range(len(blocks)))\n",
        "            else:\n",
        "                keep_indices = sorted(set(int(idx) for idx in keep))\n",
        "\n",
        "            if not keep_indices:\n",
        "                raise ValueError(f\"Stage '{stage_name}' must retain at least one block.\")\n",
        "\n",
        "            max_idx = len(blocks) - 1\n",
        "            for idx in keep_indices:\n",
        "                if idx < 0 or idx > max_idx:\n",
        "                    raise ValueError(\n",
        "                        f\"Block index {idx} is out of bounds for stage '{stage_name}' (0..{max_idx}).\"\n",
        "                    )\n",
        "\n",
        "            first_block = blocks[0]\n",
        "            if 0 not in keep_indices:\n",
        "                needs_downsample = getattr(first_block, \"downsample\", None) is not None\n",
        "                stride = getattr(first_block.conv1, \"stride\", (1, 1))\n",
        "                if needs_downsample or stride[0] > 1:\n",
        "                    raise ValueError(\n",
        "                        f\"Cannot drop block 0 from stage '{stage_name}' because it performs downsampling.\"\n",
        "                    )\n",
        "\n",
        "            validated[stage_name] = keep_indices\n",
        "        return validated\n"
      ]
    },
    {
      "cell_type": "code",
      "execution_count": 19,
      "id": "65ac2ccb",
      "metadata": {},
      "outputs": [
        {
          "name": "stdout",
          "output_type": "stream",
          "text": [
            "odict_keys(['conv1.weight', 'bn1.running_mean', 'bn1.running_var', 'bn1.weight', 'bn1.bias', 'layer1.0.conv1.weight', 'layer1.0.bn1.running_mean', 'layer1.0.bn1.running_var', 'layer1.0.bn1.weight', 'layer1.0.bn1.bias', 'layer1.0.conv2.weight', 'layer1.0.bn2.running_mean', 'layer1.0.bn2.running_var', 'layer1.0.bn2.weight', 'layer1.0.bn2.bias', 'layer1.1.conv1.weight', 'layer1.1.bn1.running_mean', 'layer1.1.bn1.running_var', 'layer1.1.bn1.weight', 'layer1.1.bn1.bias', 'layer1.1.conv2.weight', 'layer1.1.bn2.running_mean', 'layer1.1.bn2.running_var', 'layer1.1.bn2.weight', 'layer1.1.bn2.bias', 'layer2.0.conv1.weight', 'layer2.0.bn1.running_mean', 'layer2.0.bn1.running_var', 'layer2.0.bn1.weight', 'layer2.0.bn1.bias', 'layer2.0.conv2.weight', 'layer2.0.bn2.running_mean', 'layer2.0.bn2.running_var', 'layer2.0.bn2.weight', 'layer2.0.bn2.bias', 'layer2.0.downsample.0.weight', 'layer2.0.downsample.1.running_mean', 'layer2.0.downsample.1.running_var', 'layer2.0.downsample.1.weight', 'layer2.0.downsample.1.bias', 'layer2.1.conv1.weight', 'layer2.1.bn1.running_mean', 'layer2.1.bn1.running_var', 'layer2.1.bn1.weight', 'layer2.1.bn1.bias', 'layer2.1.conv2.weight', 'layer2.1.bn2.running_mean', 'layer2.1.bn2.running_var', 'layer2.1.bn2.weight', 'layer2.1.bn2.bias', 'layer3.0.conv1.weight', 'layer3.0.bn1.running_mean', 'layer3.0.bn1.running_var', 'layer3.0.bn1.weight', 'layer3.0.bn1.bias', 'layer3.0.conv2.weight', 'layer3.0.bn2.running_mean', 'layer3.0.bn2.running_var', 'layer3.0.bn2.weight', 'layer3.0.bn2.bias', 'layer3.0.downsample.0.weight', 'layer3.0.downsample.1.running_mean', 'layer3.0.downsample.1.running_var', 'layer3.0.downsample.1.weight', 'layer3.0.downsample.1.bias', 'layer3.1.conv1.weight', 'layer3.1.bn1.running_mean', 'layer3.1.bn1.running_var', 'layer3.1.bn1.weight', 'layer3.1.bn1.bias', 'layer3.1.conv2.weight', 'layer3.1.bn2.running_mean', 'layer3.1.bn2.running_var', 'layer3.1.bn2.weight', 'layer3.1.bn2.bias', 'layer4.0.conv1.weight', 'layer4.0.bn1.running_mean', 'layer4.0.bn1.running_var', 'layer4.0.bn1.weight', 'layer4.0.bn1.bias', 'layer4.0.conv2.weight', 'layer4.0.bn2.running_mean', 'layer4.0.bn2.running_var', 'layer4.0.bn2.weight', 'layer4.0.bn2.bias', 'layer4.0.downsample.0.weight', 'layer4.0.downsample.1.running_mean', 'layer4.0.downsample.1.running_var', 'layer4.0.downsample.1.weight', 'layer4.0.downsample.1.bias', 'layer4.1.conv1.weight', 'layer4.1.bn1.running_mean', 'layer4.1.bn1.running_var', 'layer4.1.bn1.weight', 'layer4.1.bn1.bias', 'layer4.1.conv2.weight', 'layer4.1.bn2.running_mean', 'layer4.1.bn2.running_var', 'layer4.1.bn2.weight', 'layer4.1.bn2.bias', 'fc.weight', 'fc.bias'])\n"
          ]
        }
      ],
      "source": [
        "weights_and_biases = ResNet18_Weights.DEFAULT.get_state_dict()\n",
        "print(weights_and_biases.keys())"
      ]
    },
    {
      "cell_type": "code",
      "execution_count": 20,
      "id": "a819b28e",
      "metadata": {},
      "outputs": [
        {
          "data": {
            "text/plain": [
              "Parameter containing:\n",
              "tensor([[-0.0185, -0.0705, -0.0518,  ..., -0.0390,  0.1735, -0.0410],\n",
              "        [-0.0818, -0.0944,  0.0174,  ...,  0.2028, -0.0248,  0.0372],\n",
              "        [-0.0332, -0.0566, -0.0242,  ..., -0.0344, -0.0227,  0.0197],\n",
              "        ...,\n",
              "        [-0.0103,  0.0033, -0.0359,  ..., -0.0279, -0.0115,  0.0128],\n",
              "        [-0.0359, -0.0353, -0.0296,  ..., -0.0330, -0.0110, -0.0513],\n",
              "        [ 0.0021, -0.0248, -0.0829,  ...,  0.0417, -0.0500,  0.0663]],\n",
              "       requires_grad=True)"
            ]
          },
          "execution_count": 20,
          "metadata": {},
          "output_type": "execute_result"
        }
      ],
      "source": [
        "weights_and_biases['fc.weight']"
      ]
    },
    {
      "cell_type": "markdown",
      "id": "8ca15c0c",
      "metadata": {},
      "source": [
        "#### Load the Datasets"
      ]
    },
    {
      "cell_type": "code",
      "execution_count": 32,
      "id": "68ed450d",
      "metadata": {},
      "outputs": [],
      "source": [
        "class CIFAR10DataModule(L.LightningDataModule):\n",
        "    def __init__(\n",
        "            self, \n",
        "            data_dir: str = \"data/CIFAR10\", \n",
        "            batch_size: int = 256, \n",
        "            num_workers: int = 0\n",
        "        ):\n",
        "        super().__init__()\n",
        "        self.data_dir = data_dir\n",
        "        self.batch_size = batch_size\n",
        "        self.num_workers = num_workers\n",
        "        self.transform = ResNet18_Weights.IMAGENET1K_V1.transforms()\n",
        "\n",
        "    def setup(self, stage: str | None = None):\n",
        "        self.generator = torch.Generator().manual_seed(42)\n",
        "\n",
        "        if stage in (None, 'fit', 'validate'):\n",
        "            cifar10_full = CIFAR10(\n",
        "                root=self.data_dir,\n",
        "                train=True,\n",
        "                transform=self.transform,\n",
        "                download=True,\n",
        "            )\n",
        "            self.cifar10_train, self.cifar10_val = random_split(\n",
        "                cifar10_full, [47500, 2500], generator=self.generator\n",
        "            )\n",
        "        \n",
        "        if stage in (None, \"test\", \"predict\"):\n",
        "            self.cifar10_test = CIFAR10(\n",
        "                root=self.data_dir,\n",
        "                train=False,\n",
        "                transform=self.transform,\n",
        "                download=True,\n",
        "            )\n",
        "\n",
        "    def train_dataloader(self):\n",
        "        return DataLoader(\n",
        "            self.cifar10_train,\n",
        "            batch_size=self.batch_size,\n",
        "            shuffle=True,\n",
        "            num_workers=self.num_workers,\n",
        "            persistent_workers=False,\n",
        "            pin_memory=True,\n",
        "            drop_last=True,\n",
        "        )\n",
        "\n",
        "    def val_dataloader(self):\n",
        "        return DataLoader(\n",
        "            self.cifar10_val,\n",
        "            batch_size=self.batch_size,\n",
        "            shuffle=False,\n",
        "            num_workers=0,\n",
        "            pin_memory=True,\n",
        "            persistent_workers=False,\n",
        "        )\n",
        "\n",
        "    def test_dataloader(self):\n",
        "        return DataLoader(\n",
        "            self.cifar10_test,\n",
        "            batch_size=self.batch_size,\n",
        "            shuffle=False,\n",
        "            num_workers=self.num_workers,\n",
        "            pin_memory=True,\n",
        "            persistent_workers=self.num_workers > 0,\n",
        "        )\n"
      ]
    },
    {
      "cell_type": "markdown",
      "id": "1f8b6831",
      "metadata": {},
      "source": [
        "#### Initialize the model and replace head"
      ]
    },
    {
      "cell_type": "code",
      "execution_count": 30,
      "id": "d35adece",
      "metadata": {},
      "outputs": [],
      "source": [
        "class LitResnet18(L.LightningModule):\n",
        "    def __init__(\n",
        "        self,\n",
        "        num_classes: int = 10,\n",
        "        lr: float = 1e-3,\n",
        "        *,\n",
        "        block_keep_mask: Mapping[str, Iterable[int]] | None = None,\n",
        "        train_backbone: bool = False,\n",
        "    ) -> None:\n",
        "        super().__init__()\n",
        "        sanitized_mask = None\n",
        "        if block_keep_mask is not None:\n",
        "            sanitized_mask = {}\n",
        "            for stage_name, indices in block_keep_mask.items():\n",
        "                if stage_name not in CustomResNet18.STAGE_NAMES:\n",
        "                    raise ValueError(\n",
        "                        f\"Stage '{stage_name}' is invalid. Expected one of {CustomResNet18.STAGE_NAMES}.\"\n",
        "                    )\n",
        "                sanitized_mask[stage_name] = [int(idx) for idx in sorted(set(indices))]\n",
        "\n",
        "        self.save_hyperparameters(\n",
        "            {\n",
        "                \"num_classes\": num_classes,\n",
        "                \"lr\": lr,\n",
        "                \"block_keep_mask\": sanitized_mask,\n",
        "                \"train_backbone\": train_backbone,\n",
        "            }\n",
        "        )\n",
        "\n",
        "        self.model = CustomResNet18(\n",
        "            weights=ResNet18_Weights.IMAGENET1K_V1,\n",
        "            block_keep_mask=sanitized_mask,\n",
        "        )\n",
        "        self.model.fc = nn.Linear(512, num_classes)\n",
        "\n",
        "        if not train_backbone:\n",
        "            for name, param in self.model.named_parameters():\n",
        "                if not name.startswith(\"fc\"):\n",
        "                    param.requires_grad = False\n",
        "\n",
        "        self.loss = nn.CrossEntropyLoss()\n",
        "        self.val_acc = Accuracy(task=\"multiclass\", num_classes=num_classes)\n",
        "        self.test_acc = Accuracy(task=\"multiclass\", num_classes=num_classes)\n",
        "        self.train_acc = Accuracy(task=\"multiclass\", num_classes=num_classes)\n",
        "\n",
        "    def prune_backbone_blocks(self, layer_name: str, drop_indices: Iterable[int]) -> Dict[str, list[int]]:\n",
        "        \"\"\"Prune backbone blocks and keep hyperparameters in sync.\"\"\"\n",
        "        updated = self.model.prune_blocks(layer_name, drop_indices)\n",
        "        self.hparams.block_keep_mask = {name: list(indices) for name, indices in updated.items()}\n",
        "        return updated\n",
        "\n",
        "    def forward(self, x: torch.Tensor) -> torch.Tensor:\n",
        "        return self.model(x)\n",
        "\n",
        "    def _shared_step(self, batch, batch_idx) -> Tuple[torch.Tensor, torch.Tensor, torch.Tensor]:\n",
        "        x, y = batch\n",
        "        logits = self(x)\n",
        "        loss = self.loss(logits, y)\n",
        "        preds = torch.argmax(logits, dim=1)\n",
        "        return loss, preds, y\n",
        "\n",
        "    def training_step(self, batch, batch_idx):\n",
        "        loss, preds, y = self._shared_step(batch, batch_idx)\n",
        "        self.train_acc.update(preds, y)\n",
        "        self.log(\"train_loss\", loss, on_step=True, on_epoch=True, prog_bar=True, sync_dist=True)\n",
        "        self.log(\"train_acc\", self.train_acc, on_step=False, on_epoch=True, prog_bar=True, sync_dist=True)\n",
        "        return loss\n",
        "\n",
        "    def validation_step(self, batch, batch_idx):\n",
        "        loss, preds, y = self._shared_step(batch, batch_idx)\n",
        "        self.val_acc.update(preds, y)\n",
        "        self.log(\"val_loss\", loss, on_step=False, on_epoch=True, prog_bar=True, sync_dist=True)\n",
        "        self.log(\"val_acc\", self.val_acc, on_step=False, on_epoch=True, prog_bar=True, sync_dist=True)\n",
        "\n",
        "    def test_step(self, batch, batch_idx):\n",
        "        loss, preds, y = self._shared_step(batch, batch_idx)\n",
        "        self.test_acc.update(preds, y)\n",
        "        self.log(\"test_loss\", loss, on_step=False, on_epoch=True, prog_bar=True, sync_dist=True)\n",
        "        self.log(\"test_acc\", self.test_acc, on_step=False, on_epoch=True, prog_bar=True, sync_dist=True)\n",
        "\n",
        "    def configure_optimizers(self):\n",
        "        trainable = (param for param in self.parameters() if param.requires_grad)\n",
        "        optimizer = torch.optim.SGD(\n",
        "            trainable, lr=self.hparams.lr, momentum=0.9, weight_decay=1e-4\n",
        "        )\n",
        "        scheduler = MultiStepLR(optimizer, milestones=[30, 60], gamma=0.1)\n",
        "        return {\n",
        "            \"optimizer\": optimizer,\n",
        "            \"lr_scheduler\": {\n",
        "                \"scheduler\": scheduler,\n",
        "                \"interval\": \"epoch\",\n",
        "                \"frequency\": 1,\n",
        "            }\n",
        "        }\n"
      ]
    },
    {
      "cell_type": "markdown",
      "id": "e9392ead",
      "metadata": {},
      "source": [
        "#### Initial training of new head"
      ]
    },
    {
      "cell_type": "code",
      "execution_count": 33,
      "id": "c2fe4aee",
      "metadata": {},
      "outputs": [
        {
          "name": "stdout",
          "output_type": "stream",
          "text": [
            "No checkpoint found; training a new model.\n"
          ]
        },
        {
          "name": "stderr",
          "output_type": "stream",
          "text": [
            "💡 Tip: For seamless cloud uploads and versioning, try installing [litmodels](https://pypi.org/project/litmodels/) to enable LitModelCheckpoint, which syncs automatically with the Lightning model registry.\n",
            "GPU available: True (cuda), used: True\n",
            "TPU available: False, using: 0 TPU cores\n",
            "HPU available: False, using: 0 HPUs\n",
            "LOCAL_RANK: 0 - CUDA_VISIBLE_DEVICES: [0]\n",
            "\n",
            "  | Name      | Type               | Params | Mode \n",
            "---------------------------------------------------------\n",
            "0 | model     | CustomResNet18     | 11.2 M | train\n",
            "1 | loss      | CrossEntropyLoss   | 0      | train\n",
            "2 | val_acc   | MulticlassAccuracy | 0      | train\n",
            "3 | test_acc  | MulticlassAccuracy | 0      | train\n",
            "4 | train_acc | MulticlassAccuracy | 0      | train\n",
            "---------------------------------------------------------\n",
            "5.1 K     Trainable params\n",
            "11.2 M    Non-trainable params\n",
            "11.2 M    Total params\n",
            "44.727    Total estimated model params size (MB)\n",
            "73        Modules in train mode\n",
            "0         Modules in eval mode\n"
          ]
        },
        {
          "name": "stdout",
          "output_type": "stream",
          "text": [
            "Epoch 9: 100%|██████████| 185/185 [01:54<00:00,  1.61it/s, v_num=34, train_loss_step=0.670, val_loss=0.698, val_acc=0.764, train_loss_epoch=0.687, train_acc=0.768]"
          ]
        },
        {
          "name": "stderr",
          "output_type": "stream",
          "text": [
            "`Trainer.fit` stopped: `max_epochs=10` reached.\n"
          ]
        },
        {
          "name": "stdout",
          "output_type": "stream",
          "text": [
            "Epoch 9: 100%|██████████| 185/185 [01:54<00:00,  1.61it/s, v_num=34, train_loss_step=0.670, val_loss=0.698, val_acc=0.764, train_loss_epoch=0.687, train_acc=0.768]\n"
          ]
        }
      ],
      "source": [
        "ckpt_path = CKPT_PATH\n",
        "ckpt_path.parent.mkdir(parents=True, exist_ok=True)\n",
        "\n",
        "cifar10_dm = CIFAR10DataModule(num_workers=0)\n",
        "\n",
        "if ckpt_path.exists():\n",
        "    print(f\"Loading {ckpt_path}\")\n",
        "    model = LitResnet18.load_from_checkpoint(ckpt_path)\n",
        "else:\n",
        "    print(\"No checkpoint found; training a new model.\")\n",
        "    model = LitResnet18()\n",
        "    trainer = L.Trainer(max_epochs=10)\n",
        "    trainer.fit(model, datamodule=cifar10_dm)\n",
        "    trainer.save_checkpoint(ckpt_path)\n",
        "\n"
      ]
    },
    {
      "cell_type": "code",
      "execution_count": 24,
      "id": "7dd54a44",
      "metadata": {},
      "outputs": [],
      "source": [
        "def summarize_backbone_blocks(lit_model: LitResnet18) -> Dict[str, tuple[int, int]]:\n",
        "    \"\"\"Return (active, total) block counts for each residual stage.\"\"\"\n",
        "    summary: Dict[str, tuple[int, int]] = {}\n",
        "    backbone = lit_model.model\n",
        "    for stage_name in CustomResNet18.STAGE_NAMES:\n",
        "        total = len(backbone.stages[stage_name])\n",
        "        active = len(backbone.block_keep_mask[stage_name])\n",
        "        summary[stage_name] = (active, total)\n",
        "    return summary\n",
        "\n",
        "def prune_backbone_blocks(\n",
        "    lit_model: LitResnet18,\n",
        "    layer_name: str,\n",
        "    drop_indices: Iterable[int],\n",
        ") -> Dict[str, list[int]]:\n",
        "    \"\"\"Prune residual blocks in-place and report the updated keep mask.\"\"\"\n",
        "    updated = lit_model.prune_backbone_blocks(layer_name, drop_indices)\n",
        "    active = updated[layer_name]\n",
        "    print(f\"Active blocks for {layer_name}: {active}\")\n",
        "    return updated\n",
        "\n",
        "# Example usage after loading a checkpoint\n",
        "if 'model' in globals():\n",
        "    summarize_backbone_blocks(model)\n",
        "    # prune_backbone_blocks(model, \"layer3\", [1])\n"
      ]
    },
    {
      "cell_type": "markdown",
      "id": "b981b1c7",
      "metadata": {},
      "source": [
        "#### Testing accuracy following the new head"
      ]
    },
    {
      "cell_type": "code",
      "execution_count": 25,
      "id": "6a70f26c",
      "metadata": {},
      "outputs": [
        {
          "name": "stderr",
          "output_type": "stream",
          "text": [
            "💡 Tip: For seamless cloud uploads and versioning, try installing [litmodels](https://pypi.org/project/litmodels/) to enable LitModelCheckpoint, which syncs automatically with the Lightning model registry.\n"
          ]
        },
        {
          "name": "stderr",
          "output_type": "stream",
          "text": [
            "GPU available: True (cuda), used: True\n",
            "TPU available: False, using: 0 TPU cores\n",
            "HPU available: False, using: 0 HPUs\n",
            "LOCAL_RANK: 0 - CUDA_VISIBLE_DEVICES: [0]\n"
          ]
        },
        {
          "name": "stdout",
          "output_type": "stream",
          "text": [
            "Testing DataLoader 0: 100%|██████████| 40/40 [00:22<00:00,  1.79it/s]\n",
            "Test Accuracy: 0.7770\n",
            "{'test_loss': 0.6564152240753174, 'test_acc': 0.7770000100135803}\n"
          ]
        }
      ],
      "source": [
        "# Evaluate the fine-tuned head on the held-out test set\n",
        "eval_trainer = L.Trainer()\n",
        "test_results = eval_trainer.test(model, datamodule=cifar10_dm, verbose=False)\n",
        "\n",
        "if test_results:\n",
        "    metrics = test_results[0]\n",
        "    test_acc = metrics.get(\"test_acc\")\n",
        "    if test_acc is not None:\n",
        "        print(f\"Test Accuracy: {test_acc:.4f}\")\n",
        "    print(metrics)\n"
      ]
    },
    {
      "cell_type": "markdown",
      "id": "ff6bdafe",
      "metadata": {},
      "source": [
        "Yes—around 60 cycles is a sensible upper bound if you keep pruning 5 % of the remaining head weights per cycle.\n",
        "\n",
        "Here’s why:\n",
        "\n",
        "With s = 0.05 per cycle, total sparsity after n cycles is\n",
        "\n",
        "1−0.95n\n",
        "1−0.95\n",
        "n\n",
        "\n",
        "So:\n",
        "\n",
        "20 cycles → ~64 % total sparsity\n",
        "\n",
        "40 cycles → ~87 % total sparsity\n",
        "\n",
        "60 cycles → ~95 % total sparsity\n",
        "\n",
        "95 % total sparsity is right at the range where most ResNet-18 heads can no longer recover validation accuracy.\n",
        "Beyond that, recovery is usually negligible and training time is wasted.\n",
        "\n",
        "Going much past 60 cycles gives very small additional pruning (e.g., 80 cycles only brings you to ~98 % sparsity) and very low accuracy."
      ]
    },
    {
      "cell_type": "markdown",
      "id": "f8e7db80",
      "metadata": {},
      "source": [
        "#### Prune cycle"
      ]
    },
    {
      "cell_type": "code",
      "execution_count": 26,
      "id": "6382c62f",
      "metadata": {},
      "outputs": [
        {
          "name": "stdout",
          "output_type": "stream",
          "text": [
            "Cycle 01: pruning block 1 from layer4.\n"
          ]
        },
        {
          "name": "stderr",
          "output_type": "stream",
          "text": [
            "💡 Tip: For seamless cloud uploads and versioning, try installing [litmodels](https://pypi.org/project/litmodels/) to enable LitModelCheckpoint, which syncs automatically with the Lightning model registry.\n",
            "GPU available: True (cuda), used: True\n",
            "TPU available: False, using: 0 TPU cores\n",
            "HPU available: False, using: 0 HPUs\n",
            "LOCAL_RANK: 0 - CUDA_VISIBLE_DEVICES: [0]\n",
            "\n",
            "  | Name      | Type               | Params | Mode \n",
            "---------------------------------------------------------\n",
            "0 | model     | CustomResNet18     | 11.2 M | train\n",
            "1 | loss      | CrossEntropyLoss   | 0      | train\n",
            "2 | val_acc   | MulticlassAccuracy | 0      | train\n",
            "3 | test_acc  | MulticlassAccuracy | 0      | train\n",
            "4 | train_acc | MulticlassAccuracy | 0      | train\n",
            "---------------------------------------------------------\n",
            "5.1 K     Trainable params\n",
            "11.2 M    Non-trainable params\n",
            "11.2 M    Total params\n",
            "44.727    Total estimated model params size (MB)\n",
            "73        Modules in train mode\n",
            "0         Modules in eval mode\n"
          ]
        },
        {
          "name": "stdout",
          "output_type": "stream",
          "text": [
            "Epoch 4: 100%|██████████| 175/175 [01:58<00:00,  1.47it/s, v_num=29, train_loss_step=1.960, val_loss=1.950, val_acc=0.665, train_loss_epoch=1.960, train_acc=0.667]"
          ]
        },
        {
          "name": "stderr",
          "output_type": "stream",
          "text": [
            "`Trainer.fit` stopped: `max_epochs=5` reached.\n"
          ]
        },
        {
          "name": "stdout",
          "output_type": "stream",
          "text": [
            "Epoch 4: 100%|██████████| 175/175 [01:58<00:00,  1.47it/s, v_num=29, train_loss_step=1.960, val_loss=1.950, val_acc=0.665, train_loss_epoch=1.960, train_acc=0.667]\n"
          ]
        },
        {
          "name": "stderr",
          "output_type": "stream",
          "text": [
            "LOCAL_RANK: 0 - CUDA_VISIBLE_DEVICES: [0]\n"
          ]
        },
        {
          "name": "stdout",
          "output_type": "stream",
          "text": [
            "Validation DataLoader 0: 100%|██████████| 20/20 [00:11<00:00,  1.79it/s]"
          ]
        },
        {
          "name": "stderr",
          "output_type": "stream",
          "text": [
            "💡 Tip: For seamless cloud uploads and versioning, try installing [litmodels](https://pypi.org/project/litmodels/) to enable LitModelCheckpoint, which syncs automatically with the Lightning model registry.\n",
            "GPU available: True (cuda), used: True\n",
            "TPU available: False, using: 0 TPU cores\n",
            "HPU available: False, using: 0 HPUs\n"
          ]
        },
        {
          "name": "stdout",
          "output_type": "stream",
          "text": [
            "\n",
            "Cycle 02: pruning block 1 from layer3.\n"
          ]
        },
        {
          "name": "stderr",
          "output_type": "stream",
          "text": [
            "LOCAL_RANK: 0 - CUDA_VISIBLE_DEVICES: [0]\n",
            "\n",
            "  | Name      | Type               | Params | Mode \n",
            "---------------------------------------------------------\n",
            "0 | model     | CustomResNet18     | 11.2 M | train\n",
            "1 | loss      | CrossEntropyLoss   | 0      | train\n",
            "2 | val_acc   | MulticlassAccuracy | 0      | train\n",
            "3 | test_acc  | MulticlassAccuracy | 0      | train\n",
            "4 | train_acc | MulticlassAccuracy | 0      | train\n",
            "---------------------------------------------------------\n",
            "5.1 K     Trainable params\n",
            "11.2 M    Non-trainable params\n",
            "11.2 M    Total params\n",
            "44.727    Total estimated model params size (MB)\n",
            "73        Modules in train mode\n",
            "0         Modules in eval mode\n"
          ]
        },
        {
          "name": "stdout",
          "output_type": "stream",
          "text": [
            "Epoch 4: 100%|██████████| 175/175 [01:51<00:00,  1.57it/s, v_num=30, train_loss_step=1.830, val_loss=1.830, val_acc=0.599, train_loss_epoch=1.840, train_acc=0.602]"
          ]
        },
        {
          "name": "stderr",
          "output_type": "stream",
          "text": [
            "`Trainer.fit` stopped: `max_epochs=5` reached.\n"
          ]
        },
        {
          "name": "stdout",
          "output_type": "stream",
          "text": [
            "Epoch 4: 100%|██████████| 175/175 [01:51<00:00,  1.57it/s, v_num=30, train_loss_step=1.830, val_loss=1.830, val_acc=0.599, train_loss_epoch=1.840, train_acc=0.602]\n"
          ]
        },
        {
          "name": "stderr",
          "output_type": "stream",
          "text": [
            "LOCAL_RANK: 0 - CUDA_VISIBLE_DEVICES: [0]\n"
          ]
        },
        {
          "name": "stdout",
          "output_type": "stream",
          "text": [
            "Validation DataLoader 0: 100%|██████████| 20/20 [00:11<00:00,  1.81it/s]"
          ]
        },
        {
          "name": "stderr",
          "output_type": "stream",
          "text": [
            "💡 Tip: For seamless cloud uploads and versioning, try installing [litmodels](https://pypi.org/project/litmodels/) to enable LitModelCheckpoint, which syncs automatically with the Lightning model registry.\n",
            "GPU available: True (cuda), used: True\n",
            "TPU available: False, using: 0 TPU cores\n",
            "HPU available: False, using: 0 HPUs\n"
          ]
        },
        {
          "name": "stdout",
          "output_type": "stream",
          "text": [
            "\n",
            "Cycle 03: pruning block 1 from layer2.\n"
          ]
        },
        {
          "name": "stderr",
          "output_type": "stream",
          "text": [
            "LOCAL_RANK: 0 - CUDA_VISIBLE_DEVICES: [0]\n",
            "\n",
            "  | Name      | Type               | Params | Mode \n",
            "---------------------------------------------------------\n",
            "0 | model     | CustomResNet18     | 11.2 M | train\n",
            "1 | loss      | CrossEntropyLoss   | 0      | train\n",
            "2 | val_acc   | MulticlassAccuracy | 0      | train\n",
            "3 | test_acc  | MulticlassAccuracy | 0      | train\n",
            "4 | train_acc | MulticlassAccuracy | 0      | train\n",
            "---------------------------------------------------------\n",
            "5.1 K     Trainable params\n",
            "11.2 M    Non-trainable params\n",
            "11.2 M    Total params\n",
            "44.727    Total estimated model params size (MB)\n",
            "73        Modules in train mode\n",
            "0         Modules in eval mode\n"
          ]
        },
        {
          "name": "stdout",
          "output_type": "stream",
          "text": [
            "Epoch 4: 100%|██████████| 175/175 [01:54<00:00,  1.52it/s, v_num=31, train_loss_step=1.780, val_loss=1.770, val_acc=0.535, train_loss_epoch=1.790, train_acc=0.539]"
          ]
        },
        {
          "name": "stderr",
          "output_type": "stream",
          "text": [
            "`Trainer.fit` stopped: `max_epochs=5` reached.\n"
          ]
        },
        {
          "name": "stdout",
          "output_type": "stream",
          "text": [
            "Epoch 4: 100%|██████████| 175/175 [01:55<00:00,  1.52it/s, v_num=31, train_loss_step=1.780, val_loss=1.770, val_acc=0.535, train_loss_epoch=1.790, train_acc=0.539]\n"
          ]
        },
        {
          "name": "stderr",
          "output_type": "stream",
          "text": [
            "LOCAL_RANK: 0 - CUDA_VISIBLE_DEVICES: [0]\n"
          ]
        },
        {
          "name": "stdout",
          "output_type": "stream",
          "text": [
            "Validation DataLoader 0: 100%|██████████| 20/20 [00:10<00:00,  1.85it/s]"
          ]
        },
        {
          "name": "stderr",
          "output_type": "stream",
          "text": [
            "💡 Tip: For seamless cloud uploads and versioning, try installing [litmodels](https://pypi.org/project/litmodels/) to enable LitModelCheckpoint, which syncs automatically with the Lightning model registry.\n"
          ]
        },
        {
          "name": "stdout",
          "output_type": "stream",
          "text": [
            "\n",
            "Cycle 04: pruning block 1 from layer1.\n"
          ]
        },
        {
          "name": "stderr",
          "output_type": "stream",
          "text": [
            "GPU available: True (cuda), used: True\n",
            "TPU available: False, using: 0 TPU cores\n",
            "HPU available: False, using: 0 HPUs\n",
            "LOCAL_RANK: 0 - CUDA_VISIBLE_DEVICES: [0]\n",
            "\n",
            "  | Name      | Type               | Params | Mode \n",
            "---------------------------------------------------------\n",
            "0 | model     | CustomResNet18     | 11.2 M | train\n",
            "1 | loss      | CrossEntropyLoss   | 0      | train\n",
            "2 | val_acc   | MulticlassAccuracy | 0      | train\n",
            "3 | test_acc  | MulticlassAccuracy | 0      | train\n",
            "4 | train_acc | MulticlassAccuracy | 0      | train\n",
            "---------------------------------------------------------\n",
            "5.1 K     Trainable params\n",
            "11.2 M    Non-trainable params\n",
            "11.2 M    Total params\n",
            "44.727    Total estimated model params size (MB)\n",
            "73        Modules in train mode\n",
            "0         Modules in eval mode\n"
          ]
        },
        {
          "name": "stdout",
          "output_type": "stream",
          "text": [
            "Epoch 4: 100%|██████████| 175/175 [01:47<00:00,  1.63it/s, v_num=32, train_loss_step=1.750, val_loss=1.770, val_acc=0.493, train_loss_epoch=1.780, train_acc=0.484]"
          ]
        },
        {
          "name": "stderr",
          "output_type": "stream",
          "text": [
            "`Trainer.fit` stopped: `max_epochs=5` reached.\n"
          ]
        },
        {
          "name": "stdout",
          "output_type": "stream",
          "text": [
            "Epoch 4: 100%|██████████| 175/175 [01:47<00:00,  1.62it/s, v_num=32, train_loss_step=1.750, val_loss=1.770, val_acc=0.493, train_loss_epoch=1.780, train_acc=0.484]\n"
          ]
        },
        {
          "name": "stderr",
          "output_type": "stream",
          "text": [
            "LOCAL_RANK: 0 - CUDA_VISIBLE_DEVICES: [0]\n"
          ]
        },
        {
          "name": "stdout",
          "output_type": "stream",
          "text": [
            "Validation DataLoader 0: 100%|██████████| 20/20 [00:10<00:00,  1.87it/s]\n",
            "No more removable blocks available; depth pruning complete.\n"
          ]
        }
      ],
      "source": [
        "artifact_dir = ARTIFACT_DIR\n",
        "artifact_dir.mkdir(parents=True, exist_ok=True)\n",
        "results_path = artifact_dir / \"depth_pruning_results.json\"\n",
        "checkpoint_template = \"depth_cycle_{:02d}.ckpt\"\n",
        "\n",
        "stage_order = (\"layer4\", \"layer3\", \"layer2\", \"layer1\")\n",
        "max_additional_cycles = 12\n",
        "prune_epochs = 5\n",
        "\n",
        "if results_path.exists():\n",
        "    results = json.loads(results_path.read_text())\n",
        "    results.sort(key=lambda entry: entry.get(\"cycle\", 0))\n",
        "else:\n",
        "    results = []\n",
        "\n",
        "completed_cycles = {entry[\"cycle\"] for entry in results if \"cycle\" in entry}\n",
        "\n",
        "if completed_cycles:\n",
        "    last_cycle = max(completed_cycles)\n",
        "    resume_ckpt = artifact_dir / checkpoint_template.format(last_cycle)\n",
        "    if resume_ckpt.exists():\n",
        "        print(f\"Resuming from {resume_ckpt}\")\n",
        "        model = LitResnet18.load_from_checkpoint(resume_ckpt)\n",
        "    else:\n",
        "        print(f\"Checkpoint {resume_ckpt} not found; reapplying recorded pruning schedule.\")\n",
        "        for record in results:\n",
        "            stage = record.get(\"stage\")\n",
        "            pruned_block = record.get(\"pruned_block\")\n",
        "            if stage is None or pruned_block is None:\n",
        "                continue\n",
        "            current_keep = model.model.block_keep_mask[stage]\n",
        "            if pruned_block in current_keep:\n",
        "                model.prune_backbone_blocks(stage, [pruned_block])\n",
        "\n",
        "\n",
        "def next_prune_target(backbone: CustomResNet18) -> tuple[str | None, int | None]:\n",
        "    for stage_name in stage_order:\n",
        "        keep = backbone.block_keep_mask[stage_name]\n",
        "        removable = [idx for idx in keep if idx != 0]\n",
        "        if removable:\n",
        "            return stage_name, removable[-1]\n",
        "    return None, None\n",
        "\n",
        "\n",
        "def capture_keep_mask(backbone: CustomResNet18) -> Dict[str, list[int]]:\n",
        "    return {name: list(indices) for name, indices in backbone.block_keep_mask.items()}\n",
        "\n",
        "\n",
        "def total_remaining_prunable_blocks(backbone: CustomResNet18) -> int:\n",
        "    total = 0\n",
        "    for stage_name in stage_order:\n",
        "        keep = backbone.block_keep_mask[stage_name]\n",
        "        total += max(0, len(keep) - 1)\n",
        "    return total\n",
        "\n",
        "remaining_blocks = total_remaining_prunable_blocks(model.model)\n",
        "if remaining_blocks == 0:\n",
        "    print(\"No more removable blocks available; depth pruning already complete.\")\n",
        "else:\n",
        "    cycles_to_execute = min(max_additional_cycles, remaining_blocks)\n",
        "    cycles_run = 0\n",
        "\n",
        "    while cycles_run < cycles_to_execute:\n",
        "        next_cycle = max(completed_cycles) + 1 if completed_cycles else 1\n",
        "        stage_name, block_idx = next_prune_target(model.model)\n",
        "        if stage_name is None:\n",
        "            print(\"No more eligible blocks to prune; stopping depth pruning.\")\n",
        "            break\n",
        "\n",
        "        print(f\"Cycle {next_cycle:02d}: pruning block {block_idx} from {stage_name}.\")\n",
        "        model.prune_backbone_blocks(stage_name, [block_idx])\n",
        "\n",
        "        prune_trainer = L.Trainer(max_epochs=prune_epochs)\n",
        "        prune_trainer.fit(model, datamodule=cifar10_dm)\n",
        "        val_metrics = prune_trainer.validate(model, datamodule=cifar10_dm, verbose=False)\n",
        "        val_acc = float(val_metrics[0][\"val_acc\"]) if val_metrics else None\n",
        "\n",
        "        record = {\n",
        "            \"cycle\": next_cycle,\n",
        "            \"stage\": stage_name,\n",
        "            \"pruned_block\": block_idx,\n",
        "            \"val_acc\": val_acc,\n",
        "            \"keep_mask\": capture_keep_mask(model.model),\n",
        "        }\n",
        "        results.append(record)\n",
        "        completed_cycles.add(next_cycle)\n",
        "        cycles_run += 1\n",
        "\n",
        "        ckpt_path = artifact_dir / checkpoint_template.format(next_cycle)\n",
        "        prune_trainer.save_checkpoint(ckpt_path)\n",
        "        results_path.write_text(json.dumps(results, indent=2))\n",
        "\n",
        "        model = prune_trainer.lightning_module\n",
        "        remaining_blocks = total_remaining_prunable_blocks(model.model)\n",
        "        if remaining_blocks == 0:\n",
        "            print(\"No more removable blocks available; depth pruning complete.\")\n",
        "            break\n",
        "\n",
        "    if remaining_blocks > 0:\n",
        "        print(f\"Remaining removable blocks: {remaining_blocks}\")\n"
      ]
    },
    {
      "cell_type": "markdown",
      "id": "30651f4c",
      "metadata": {},
      "source": [
        "#### Plot the performance-#pruning curve"
      ]
    },
    {
      "cell_type": "code",
      "execution_count": 27,
      "id": "98b3e8a9",
      "metadata": {},
      "outputs": [
        {
          "data": {
            "image/png": "[encoded data removed]",
            "text/plain": [
              "<Figure size 600x400 with 1 Axes>"
            ]
          },
          "metadata": {},
          "output_type": "display_data"
        }
      ],
      "source": [
        "# Plot validation accuracy against pruning cycle\n",
        "import matplotlib.pyplot as plt\n",
        "\n",
        "if 'results_path' in globals() and results_path.exists():\n",
        "    pruning_history = json.loads(results_path.read_text())\n",
        "elif 'results' in globals():\n",
        "    pruning_history = results\n",
        "else:\n",
        "    pruning_history = []\n",
        "\n",
        "if not pruning_history:\n",
        "    print('No pruning results available yet. Run the pruning loop first.')\n",
        "else:\n",
        "    cycles = [entry['cycle'] for entry in pruning_history]\n",
        "    val_accs = [entry['val_acc'] for entry in pruning_history]\n",
        "\n",
        "    plt.figure(figsize=(6, 4))\n",
        "    plt.plot(cycles, val_accs, marker='o')\n",
        "    plt.xlabel('Pruning Cycle')\n",
        "    plt.ylabel('Validation Accuracy')\n",
        "    plt.title('Validation Accuracy vs. Pruning Cycle')\n",
        "    plt.grid(True, linestyle='--', alpha=0.4)\n",
        "    plt.tight_layout()\n",
        "    plt.show()\n"
      ]
    },
    {
      "cell_type": "markdown",
      "id": "4e49b43d",
      "metadata": {},
      "source": [
        "#### Test the pruned model"
      ]
    },
    {
      "cell_type": "code",
      "execution_count": 28,
      "id": "eae6f717",
      "metadata": {},
      "outputs": [
        {
          "name": "stdout",
          "output_type": "stream",
          "text": [
            "Steepest drop: -0.0658 between cycles 1 -> 2.\n"
          ]
        },
        {
          "ename": "RuntimeError",
          "evalue": "Error(s) in loading state_dict for LitResnet18:\n\tMissing key(s) in state_dict: \"model.stages.layer1.0.conv1.weight\", \"model.stages.layer1.0.bn1.weight\", \"model.stages.layer1.0.bn1.bias\", \"model.stages.layer1.0.bn1.running_mean\", \"model.stages.layer1.0.bn1.running_var\", \"model.stages.layer1.0.conv2.weight\", \"model.stages.layer1.0.bn2.weight\", \"model.stages.layer1.0.bn2.bias\", \"model.stages.layer1.0.bn2.running_mean\", \"model.stages.layer1.0.bn2.running_var\", \"model.stages.layer1.1.conv1.weight\", \"model.stages.layer1.1.bn1.weight\", \"model.stages.layer1.1.bn1.bias\", \"model.stages.layer1.1.bn1.running_mean\", \"model.stages.layer1.1.bn1.running_var\", \"model.stages.layer1.1.conv2.weight\", \"model.stages.layer1.1.bn2.weight\", \"model.stages.layer1.1.bn2.bias\", \"model.stages.layer1.1.bn2.running_mean\", \"model.stages.layer1.1.bn2.running_var\", \"model.stages.layer2.0.conv1.weight\", \"model.stages.layer2.0.bn1.weight\", \"model.stages.layer2.0.bn1.bias\", \"model.stages.layer2.0.bn1.running_mean\", \"model.stages.layer2.0.bn1.running_var\", \"model.stages.layer2.0.conv2.weight\", \"model.stages.layer2.0.bn2.weight\", \"model.stages.layer2.0.bn2.bias\", \"model.stages.layer2.0.bn2.running_mean\", \"model.stages.layer2.0.bn2.running_var\", \"model.stages.layer2.0.downsample.0.weight\", \"model.stages.layer2.0.downsample.1.weight\", \"model.stages.layer2.0.downsample.1.bias\", \"model.stages.layer2.0.downsample.1.running_mean\", \"model.stages.layer2.0.downsample.1.running_var\", \"model.stages.layer2.1.conv1.weight\", \"model.stages.layer2.1.bn1.weight\", \"model.stages.layer2.1.bn1.bias\", \"model.stages.layer2.1.bn1.running_mean\", \"model.stages.layer2.1.bn1.running_var\", \"model.stages.layer2.1.conv2.weight\", \"model.stages.layer2.1.bn2.weight\", \"model.stages.layer2.1.bn2.bias\", \"model.stages.layer2.1.bn2.running_mean\", \"model.stages.layer2.1.bn2.running_var\", \"model.stages.layer3.0.conv1.weight\", \"model.stages.layer3.0.bn1.weight\", \"model.stages.layer3.0.bn1.bias\", \"model.stages.layer3.0.bn1.running_mean\", \"model.stages.layer3.0.bn1.running_var\", \"model.stages.layer3.0.conv2.weight\", \"model.stages.layer3.0.bn2.weight\", \"model.stages.layer3.0.bn2.bias\", \"model.stages.layer3.0.bn2.running_mean\", \"model.stages.layer3.0.bn2.running_var\", \"model.stages.layer3.0.downsample.0.weight\", \"model.stages.layer3.0.downsample.1.weight\", \"model.stages.layer3.0.downsample.1.bias\", \"model.stages.layer3.0.downsample.1.running_mean\", \"model.stages.layer3.0.downsample.1.running_var\", \"model.stages.layer3.1.conv1.weight\", \"model.stages.layer3.1.bn1.weight\", \"model.stages.layer3.1.bn1.bias\", \"model.stages.layer3.1.bn1.running_mean\", \"model.stages.layer3.1.bn1.running_var\", \"model.stages.layer3.1.conv2.weight\", \"model.stages.layer3.1.bn2.weight\", \"model.stages.layer3.1.bn2.bias\", \"model.stages.layer3.1.bn2.running_mean\", \"model.stages.layer3.1.bn2.running_var\", \"model.stages.layer4.0.conv1.weight\", \"model.stages.layer4.0.bn1.weight\", \"model.stages.layer4.0.bn1.bias\", \"model.stages.layer4.0.bn1.running_mean\", \"model.stages.layer4.0.bn1.running_var\", \"model.stages.layer4.0.conv2.weight\", \"model.stages.layer4.0.bn2.weight\", \"model.stages.layer4.0.bn2.bias\", \"model.stages.layer4.0.bn2.running_mean\", \"model.stages.layer4.0.bn2.running_var\", \"model.stages.layer4.0.downsample.0.weight\", \"model.stages.layer4.0.downsample.1.weight\", \"model.stages.layer4.0.downsample.1.bias\", \"model.stages.layer4.0.downsample.1.running_mean\", \"model.stages.layer4.0.downsample.1.running_var\", \"model.stages.layer4.1.conv1.weight\", \"model.stages.layer4.1.bn1.weight\", \"model.stages.layer4.1.bn1.bias\", \"model.stages.layer4.1.bn1.running_mean\", \"model.stages.layer4.1.bn1.running_var\", \"model.stages.layer4.1.conv2.weight\", \"model.stages.layer4.1.bn2.weight\", \"model.stages.layer4.1.bn2.bias\", \"model.stages.layer4.1.bn2.running_mean\", \"model.stages.layer4.1.bn2.running_var\", \"model.fc.weight\". \n\tUnexpected key(s) in state_dict: \"model.layer1.0.conv1.weight\", \"model.layer1.0.bn1.weight\", \"model.layer1.0.bn1.bias\", \"model.layer1.0.bn1.running_mean\", \"model.layer1.0.bn1.running_var\", \"model.layer1.0.bn1.num_batches_tracked\", \"model.layer1.0.conv2.weight\", \"model.layer1.0.bn2.weight\", \"model.layer1.0.bn2.bias\", \"model.layer1.0.bn2.running_mean\", \"model.layer1.0.bn2.running_var\", \"model.layer1.0.bn2.num_batches_tracked\", \"model.layer1.1.conv1.weight\", \"model.layer1.1.bn1.weight\", \"model.layer1.1.bn1.bias\", \"model.layer1.1.bn1.running_mean\", \"model.layer1.1.bn1.running_var\", \"model.layer1.1.bn1.num_batches_tracked\", \"model.layer1.1.conv2.weight\", \"model.layer1.1.bn2.weight\", \"model.layer1.1.bn2.bias\", \"model.layer1.1.bn2.running_mean\", \"model.layer1.1.bn2.running_var\", \"model.layer1.1.bn2.num_batches_tracked\", \"model.layer2.0.conv1.weight\", \"model.layer2.0.bn1.weight\", \"model.layer2.0.bn1.bias\", \"model.layer2.0.bn1.running_mean\", \"model.layer2.0.bn1.running_var\", \"model.layer2.0.bn1.num_batches_tracked\", \"model.layer2.0.conv2.weight\", \"model.layer2.0.bn2.weight\", \"model.layer2.0.bn2.bias\", \"model.layer2.0.bn2.running_mean\", \"model.layer2.0.bn2.running_var\", \"model.layer2.0.bn2.num_batches_tracked\", \"model.layer2.0.downsample.0.weight\", \"model.layer2.0.downsample.1.weight\", \"model.layer2.0.downsample.1.bias\", \"model.layer2.0.downsample.1.running_mean\", \"model.layer2.0.downsample.1.running_var\", \"model.layer2.0.downsample.1.num_batches_tracked\", \"model.layer2.1.conv1.weight\", \"model.layer2.1.bn1.weight\", \"model.layer2.1.bn1.bias\", \"model.layer2.1.bn1.running_mean\", \"model.layer2.1.bn1.running_var\", \"model.layer2.1.bn1.num_batches_tracked\", \"model.layer2.1.conv2.weight\", \"model.layer2.1.bn2.weight\", \"model.layer2.1.bn2.bias\", \"model.layer2.1.bn2.running_mean\", \"model.layer2.1.bn2.running_var\", \"model.layer2.1.bn2.num_batches_tracked\", \"model.layer3.0.conv1.weight\", \"model.layer3.0.bn1.weight\", \"model.layer3.0.bn1.bias\", \"model.layer3.0.bn1.running_mean\", \"model.layer3.0.bn1.running_var\", \"model.layer3.0.bn1.num_batches_tracked\", \"model.layer3.0.conv2.weight\", \"model.layer3.0.bn2.weight\", \"model.layer3.0.bn2.bias\", \"model.layer3.0.bn2.running_mean\", \"model.layer3.0.bn2.running_var\", \"model.layer3.0.bn2.num_batches_tracked\", \"model.layer3.0.downsample.0.weight\", \"model.layer3.0.downsample.1.weight\", \"model.layer3.0.downsample.1.bias\", \"model.layer3.0.downsample.1.running_mean\", \"model.layer3.0.downsample.1.running_var\", \"model.layer3.0.downsample.1.num_batches_tracked\", \"model.layer3.1.conv1.weight\", \"model.layer3.1.bn1.weight\", \"model.layer3.1.bn1.bias\", \"model.layer3.1.bn1.running_mean\", \"model.layer3.1.bn1.running_var\", \"model.layer3.1.bn1.num_batches_tracked\", \"model.layer3.1.conv2.weight\", \"model.layer3.1.bn2.weight\", \"model.layer3.1.bn2.bias\", \"model.layer3.1.bn2.running_mean\", \"model.layer3.1.bn2.running_var\", \"model.layer3.1.bn2.num_batches_tracked\", \"model.layer4.0.conv1.weight\", \"model.layer4.0.bn1.weight\", \"model.layer4.0.bn1.bias\", \"model.layer4.0.bn1.running_mean\", \"model.layer4.0.bn1.running_var\", \"model.layer4.0.bn1.num_batches_tracked\", \"model.layer4.0.conv2.weight\", \"model.layer4.0.bn2.weight\", \"model.layer4.0.bn2.bias\", \"model.layer4.0.bn2.running_mean\", \"model.layer4.0.bn2.running_var\", \"model.layer4.0.bn2.num_batches_tracked\", \"model.layer4.0.downsample.0.weight\", \"model.layer4.0.downsample.1.weight\", \"model.layer4.0.downsample.1.bias\", \"model.layer4.0.downsample.1.running_mean\", \"model.layer4.0.downsample.1.running_var\", \"model.layer4.0.downsample.1.num_batches_tracked\", \"model.layer4.1.conv1.weight\", \"model.layer4.1.bn1.weight\", \"model.layer4.1.bn1.bias\", \"model.layer4.1.bn1.running_mean\", \"model.layer4.1.bn1.running_var\", \"model.layer4.1.bn1.num_batches_tracked\", \"model.layer4.1.conv2.weight\", \"model.layer4.1.bn2.weight\", \"model.layer4.1.bn2.bias\", \"model.layer4.1.bn2.running_mean\", \"model.layer4.1.bn2.running_var\", \"model.layer4.1.bn2.num_batches_tracked\", \"model.fc.weight_orig\", \"model.fc.weight_mask\". ",
          "output_type": "error",
          "traceback": [
            "\u001b[31m---------------------------------------------------------------------------\u001b[39m",
            "\u001b[31mRuntimeError\u001b[39m                              Traceback (most recent call last)",
            "\u001b[36mCell\u001b[39m\u001b[36m \u001b[39m\u001b[32mIn[28]\u001b[39m\u001b[32m, line 28\u001b[39m\n\u001b[32m     26\u001b[39m     \u001b[38;5;28mprint\u001b[39m(\u001b[33mf\u001b[39m\u001b[33m\"\u001b[39m\u001b[33mCheckpoint \u001b[39m\u001b[38;5;132;01m{\u001b[39;00mckpt_path\u001b[38;5;132;01m}\u001b[39;00m\u001b[33m not found.\u001b[39m\u001b[33m\"\u001b[39m)\n\u001b[32m     27\u001b[39m \u001b[38;5;28;01melse\u001b[39;00m:\n\u001b[32m---> \u001b[39m\u001b[32m28\u001b[39m     eval_model = \u001b[43mLitResnet18\u001b[49m\u001b[43m.\u001b[49m\u001b[43mload_from_checkpoint\u001b[49m\u001b[43m(\u001b[49m\u001b[43mckpt_path\u001b[49m\u001b[43m)\u001b[49m\n\u001b[32m     29\u001b[39m     eval_model.eval()\n\u001b[32m     30\u001b[39m     eval_trainer = L.Trainer()\n",
            "\u001b[36mFile \u001b[39m\u001b[32m~/Documents/ai231/.venv/lib/python3.12/site-packages/lightning/pytorch/utilities/model_helpers.py:125\u001b[39m, in \u001b[36m_restricted_classmethod_impl.__get__.<locals>.wrapper\u001b[39m\u001b[34m(*args, **kwargs)\u001b[39m\n\u001b[32m    120\u001b[39m \u001b[38;5;28;01mif\u001b[39;00m instance \u001b[38;5;129;01mis\u001b[39;00m \u001b[38;5;129;01mnot\u001b[39;00m \u001b[38;5;28;01mNone\u001b[39;00m \u001b[38;5;129;01mand\u001b[39;00m \u001b[38;5;129;01mnot\u001b[39;00m is_scripting:\n\u001b[32m    121\u001b[39m     \u001b[38;5;28;01mraise\u001b[39;00m \u001b[38;5;167;01mTypeError\u001b[39;00m(\n\u001b[32m    122\u001b[39m         \u001b[33mf\u001b[39m\u001b[33m\"\u001b[39m\u001b[33mThe classmethod `\u001b[39m\u001b[38;5;132;01m{\u001b[39;00m\u001b[38;5;28mcls\u001b[39m.\u001b[34m__name__\u001b[39m\u001b[38;5;132;01m}\u001b[39;00m\u001b[33m.\u001b[39m\u001b[38;5;132;01m{\u001b[39;00m\u001b[38;5;28mself\u001b[39m.method.\u001b[34m__name__\u001b[39m\u001b[38;5;132;01m}\u001b[39;00m\u001b[33m` cannot be called on an instance.\u001b[39m\u001b[33m\"\u001b[39m\n\u001b[32m    123\u001b[39m         \u001b[33m\"\u001b[39m\u001b[33m Please call it on the class type and make sure the return value is used.\u001b[39m\u001b[33m\"\u001b[39m\n\u001b[32m    124\u001b[39m     )\n\u001b[32m--> \u001b[39m\u001b[32m125\u001b[39m \u001b[38;5;28;01mreturn\u001b[39;00m \u001b[38;5;28;43mself\u001b[39;49m\u001b[43m.\u001b[49m\u001b[43mmethod\u001b[49m\u001b[43m(\u001b[49m\u001b[38;5;28;43mcls\u001b[39;49m\u001b[43m,\u001b[49m\u001b[43m \u001b[49m\u001b[43m*\u001b[49m\u001b[43margs\u001b[49m\u001b[43m,\u001b[49m\u001b[43m \u001b[49m\u001b[43m*\u001b[49m\u001b[43m*\u001b[49m\u001b[43mkwargs\u001b[49m\u001b[43m)\u001b[49m\n",
            "\u001b[36mFile \u001b[39m\u001b[32m~/Documents/ai231/.venv/lib/python3.12/site-packages/lightning/pytorch/core/module.py:1662\u001b[39m, in \u001b[36mLightningModule.load_from_checkpoint\u001b[39m\u001b[34m(cls, checkpoint_path, map_location, hparams_file, strict, **kwargs)\u001b[39m\n\u001b[32m   1573\u001b[39m \u001b[38;5;129m@_restricted_classmethod\u001b[39m\n\u001b[32m   1574\u001b[39m \u001b[38;5;28;01mdef\u001b[39;00m\u001b[38;5;250m \u001b[39m\u001b[34mload_from_checkpoint\u001b[39m(\n\u001b[32m   1575\u001b[39m     \u001b[38;5;28mcls\u001b[39m,\n\u001b[32m   (...)\u001b[39m\u001b[32m   1580\u001b[39m     **kwargs: Any,\n\u001b[32m   1581\u001b[39m ) -> Self:\n\u001b[32m   1582\u001b[39m \u001b[38;5;250m    \u001b[39m\u001b[33mr\u001b[39m\u001b[33;03m\"\"\"Primary way of loading a model from a checkpoint. When Lightning saves a checkpoint it stores the arguments\u001b[39;00m\n\u001b[32m   1583\u001b[39m \u001b[33;03m    passed to ``__init__``  in the checkpoint under ``\"hyper_parameters\"``.\u001b[39;00m\n\u001b[32m   1584\u001b[39m \n\u001b[32m   (...)\u001b[39m\u001b[32m   1660\u001b[39m \n\u001b[32m   1661\u001b[39m \u001b[33;03m    \"\"\"\u001b[39;00m\n\u001b[32m-> \u001b[39m\u001b[32m1662\u001b[39m     loaded = \u001b[43m_load_from_checkpoint\u001b[49m\u001b[43m(\u001b[49m\n\u001b[32m   1663\u001b[39m \u001b[43m        \u001b[49m\u001b[38;5;28;43mcls\u001b[39;49m\u001b[43m,\u001b[49m\n\u001b[32m   1664\u001b[39m \u001b[43m        \u001b[49m\u001b[43mcheckpoint_path\u001b[49m\u001b[43m,\u001b[49m\n\u001b[32m   1665\u001b[39m \u001b[43m        \u001b[49m\u001b[43mmap_location\u001b[49m\u001b[43m,\u001b[49m\n\u001b[32m   1666\u001b[39m \u001b[43m        \u001b[49m\u001b[43mhparams_file\u001b[49m\u001b[43m,\u001b[49m\n\u001b[32m   1667\u001b[39m \u001b[43m        \u001b[49m\u001b[43mstrict\u001b[49m\u001b[43m,\u001b[49m\n\u001b[32m   1668\u001b[39m \u001b[43m        \u001b[49m\u001b[43m*\u001b[49m\u001b[43m*\u001b[49m\u001b[43mkwargs\u001b[49m\u001b[43m,\u001b[49m\n\u001b[32m   1669\u001b[39m \u001b[43m    \u001b[49m\u001b[43m)\u001b[49m\n\u001b[32m   1670\u001b[39m     \u001b[38;5;28;01mreturn\u001b[39;00m cast(Self, loaded)\n",
            "\u001b[36mFile \u001b[39m\u001b[32m~/Documents/ai231/.venv/lib/python3.12/site-packages/lightning/pytorch/core/saving.py:91\u001b[39m, in \u001b[36m_load_from_checkpoint\u001b[39m\u001b[34m(cls, checkpoint_path, map_location, hparams_file, strict, **kwargs)\u001b[39m\n\u001b[32m     89\u001b[39m     \u001b[38;5;28;01mreturn\u001b[39;00m _load_state(\u001b[38;5;28mcls\u001b[39m, checkpoint, **kwargs)\n\u001b[32m     90\u001b[39m \u001b[38;5;28;01mif\u001b[39;00m \u001b[38;5;28missubclass\u001b[39m(\u001b[38;5;28mcls\u001b[39m, pl.LightningModule):\n\u001b[32m---> \u001b[39m\u001b[32m91\u001b[39m     model = \u001b[43m_load_state\u001b[49m\u001b[43m(\u001b[49m\u001b[38;5;28;43mcls\u001b[39;49m\u001b[43m,\u001b[49m\u001b[43m \u001b[49m\u001b[43mcheckpoint\u001b[49m\u001b[43m,\u001b[49m\u001b[43m \u001b[49m\u001b[43mstrict\u001b[49m\u001b[43m=\u001b[49m\u001b[43mstrict\u001b[49m\u001b[43m,\u001b[49m\u001b[43m \u001b[49m\u001b[43m*\u001b[49m\u001b[43m*\u001b[49m\u001b[43mkwargs\u001b[49m\u001b[43m)\u001b[49m\n\u001b[32m     92\u001b[39m     state_dict = checkpoint[\u001b[33m\"\u001b[39m\u001b[33mstate_dict\u001b[39m\u001b[33m\"\u001b[39m]\n\u001b[32m     93\u001b[39m     \u001b[38;5;28;01mif\u001b[39;00m \u001b[38;5;129;01mnot\u001b[39;00m state_dict:\n",
            "\u001b[36mFile \u001b[39m\u001b[32m~/Documents/ai231/.venv/lib/python3.12/site-packages/lightning/pytorch/core/saving.py:187\u001b[39m, in \u001b[36m_load_state\u001b[39m\u001b[34m(cls, checkpoint, strict, **cls_kwargs_new)\u001b[39m\n\u001b[32m    184\u001b[39m     obj.on_load_checkpoint(checkpoint)\n\u001b[32m    186\u001b[39m \u001b[38;5;66;03m# load the state_dict on the model automatically\u001b[39;00m\n\u001b[32m--> \u001b[39m\u001b[32m187\u001b[39m keys = \u001b[43mobj\u001b[49m\u001b[43m.\u001b[49m\u001b[43mload_state_dict\u001b[49m\u001b[43m(\u001b[49m\u001b[43mcheckpoint\u001b[49m\u001b[43m[\u001b[49m\u001b[33;43m\"\u001b[39;49m\u001b[33;43mstate_dict\u001b[39;49m\u001b[33;43m\"\u001b[39;49m\u001b[43m]\u001b[49m\u001b[43m,\u001b[49m\u001b[43m \u001b[49m\u001b[43mstrict\u001b[49m\u001b[43m=\u001b[49m\u001b[43mstrict\u001b[49m\u001b[43m)\u001b[49m  \u001b[38;5;66;03m# type: ignore[arg-type]\u001b[39;00m\n\u001b[32m    189\u001b[39m \u001b[38;5;28;01mif\u001b[39;00m \u001b[38;5;129;01mnot\u001b[39;00m strict:\n\u001b[32m    190\u001b[39m     \u001b[38;5;28;01mif\u001b[39;00m keys.missing_keys:\n",
            "\u001b[36mFile \u001b[39m\u001b[32m~/Documents/ai231/.venv/lib/python3.12/site-packages/torch/nn/modules/module.py:2624\u001b[39m, in \u001b[36mModule.load_state_dict\u001b[39m\u001b[34m(self, state_dict, strict, assign)\u001b[39m\n\u001b[32m   2616\u001b[39m         error_msgs.insert(\n\u001b[32m   2617\u001b[39m             \u001b[32m0\u001b[39m,\n\u001b[32m   2618\u001b[39m             \u001b[33m\"\u001b[39m\u001b[33mMissing key(s) in state_dict: \u001b[39m\u001b[38;5;132;01m{}\u001b[39;00m\u001b[33m. \u001b[39m\u001b[33m\"\u001b[39m.format(\n\u001b[32m   2619\u001b[39m                 \u001b[33m\"\u001b[39m\u001b[33m, \u001b[39m\u001b[33m\"\u001b[39m.join(\u001b[33mf\u001b[39m\u001b[33m'\u001b[39m\u001b[33m\"\u001b[39m\u001b[38;5;132;01m{\u001b[39;00mk\u001b[38;5;132;01m}\u001b[39;00m\u001b[33m\"\u001b[39m\u001b[33m'\u001b[39m \u001b[38;5;28;01mfor\u001b[39;00m k \u001b[38;5;129;01min\u001b[39;00m missing_keys)\n\u001b[32m   2620\u001b[39m             ),\n\u001b[32m   2621\u001b[39m         )\n\u001b[32m   2623\u001b[39m \u001b[38;5;28;01mif\u001b[39;00m \u001b[38;5;28mlen\u001b[39m(error_msgs) > \u001b[32m0\u001b[39m:\n\u001b[32m-> \u001b[39m\u001b[32m2624\u001b[39m     \u001b[38;5;28;01mraise\u001b[39;00m \u001b[38;5;167;01mRuntimeError\u001b[39;00m(\n\u001b[32m   2625\u001b[39m         \u001b[33m\"\u001b[39m\u001b[33mError(s) in loading state_dict for \u001b[39m\u001b[38;5;132;01m{}\u001b[39;00m\u001b[33m:\u001b[39m\u001b[38;5;130;01m\\n\u001b[39;00m\u001b[38;5;130;01m\\t\u001b[39;00m\u001b[38;5;132;01m{}\u001b[39;00m\u001b[33m\"\u001b[39m.format(\n\u001b[32m   2626\u001b[39m             \u001b[38;5;28mself\u001b[39m.\u001b[34m__class__\u001b[39m.\u001b[34m__name__\u001b[39m, \u001b[33m\"\u001b[39m\u001b[38;5;130;01m\\n\u001b[39;00m\u001b[38;5;130;01m\\t\u001b[39;00m\u001b[33m\"\u001b[39m.join(error_msgs)\n\u001b[32m   2627\u001b[39m         )\n\u001b[32m   2628\u001b[39m     )\n\u001b[32m   2629\u001b[39m \u001b[38;5;28;01mreturn\u001b[39;00m _IncompatibleKeys(missing_keys, unexpected_keys)\n",
            "\u001b[31mRuntimeError\u001b[39m: Error(s) in loading state_dict for LitResnet18:\n\tMissing key(s) in state_dict: \"model.stages.layer1.0.conv1.weight\", \"model.stages.layer1.0.bn1.weight\", \"model.stages.layer1.0.bn1.bias\", \"model.stages.layer1.0.bn1.running_mean\", \"model.stages.layer1.0.bn1.running_var\", \"model.stages.layer1.0.conv2.weight\", \"model.stages.layer1.0.bn2.weight\", \"model.stages.layer1.0.bn2.bias\", \"model.stages.layer1.0.bn2.running_mean\", \"model.stages.layer1.0.bn2.running_var\", \"model.stages.layer1.1.conv1.weight\", \"model.stages.layer1.1.bn1.weight\", \"model.stages.layer1.1.bn1.bias\", \"model.stages.layer1.1.bn1.running_mean\", \"model.stages.layer1.1.bn1.running_var\", \"model.stages.layer1.1.conv2.weight\", \"model.stages.layer1.1.bn2.weight\", \"model.stages.layer1.1.bn2.bias\", \"model.stages.layer1.1.bn2.running_mean\", \"model.stages.layer1.1.bn2.running_var\", \"model.stages.layer2.0.conv1.weight\", \"model.stages.layer2.0.bn1.weight\", \"model.stages.layer2.0.bn1.bias\", \"model.stages.layer2.0.bn1.running_mean\", \"model.stages.layer2.0.bn1.running_var\", \"model.stages.layer2.0.conv2.weight\", \"model.stages.layer2.0.bn2.weight\", \"model.stages.layer2.0.bn2.bias\", \"model.stages.layer2.0.bn2.running_mean\", \"model.stages.layer2.0.bn2.running_var\", \"model.stages.layer2.0.downsample.0.weight\", \"model.stages.layer2.0.downsample.1.weight\", \"model.stages.layer2.0.downsample.1.bias\", \"model.stages.layer2.0.downsample.1.running_mean\", \"model.stages.layer2.0.downsample.1.running_var\", \"model.stages.layer2.1.conv1.weight\", \"model.stages.layer2.1.bn1.weight\", \"model.stages.layer2.1.bn1.bias\", \"model.stages.layer2.1.bn1.running_mean\", \"model.stages.layer2.1.bn1.running_var\", \"model.stages.layer2.1.conv2.weight\", \"model.stages.layer2.1.bn2.weight\", \"model.stages.layer2.1.bn2.bias\", \"model.stages.layer2.1.bn2.running_mean\", \"model.stages.layer2.1.bn2.running_var\", \"model.stages.layer3.0.conv1.weight\", \"model.stages.layer3.0.bn1.weight\", \"model.stages.layer3.0.bn1.bias\", \"model.stages.layer3.0.bn1.running_mean\", \"model.stages.layer3.0.bn1.running_var\", \"model.stages.layer3.0.conv2.weight\", \"model.stages.layer3.0.bn2.weight\", \"model.stages.layer3.0.bn2.bias\", \"model.stages.layer3.0.bn2.running_mean\", \"model.stages.layer3.0.bn2.running_var\", \"model.stages.layer3.0.downsample.0.weight\", \"model.stages.layer3.0.downsample.1.weight\", \"model.stages.layer3.0.downsample.1.bias\", \"model.stages.layer3.0.downsample.1.running_mean\", \"model.stages.layer3.0.downsample.1.running_var\", \"model.stages.layer3.1.conv1.weight\", \"model.stages.layer3.1.bn1.weight\", \"model.stages.layer3.1.bn1.bias\", \"model.stages.layer3.1.bn1.running_mean\", \"model.stages.layer3.1.bn1.running_var\", \"model.stages.layer3.1.conv2.weight\", \"model.stages.layer3.1.bn2.weight\", \"model.stages.layer3.1.bn2.bias\", \"model.stages.layer3.1.bn2.running_mean\", \"model.stages.layer3.1.bn2.running_var\", \"model.stages.layer4.0.conv1.weight\", \"model.stages.layer4.0.bn1.weight\", \"model.stages.layer4.0.bn1.bias\", \"model.stages.layer4.0.bn1.running_mean\", \"model.stages.layer4.0.bn1.running_var\", \"model.stages.layer4.0.conv2.weight\", \"model.stages.layer4.0.bn2.weight\", \"model.stages.layer4.0.bn2.bias\", \"model.stages.layer4.0.bn2.running_mean\", \"model.stages.layer4.0.bn2.running_var\", \"model.stages.layer4.0.downsample.0.weight\", \"model.stages.layer4.0.downsample.1.weight\", \"model.stages.layer4.0.downsample.1.bias\", \"model.stages.layer4.0.downsample.1.running_mean\", \"model.stages.layer4.0.downsample.1.running_var\", \"model.stages.layer4.1.conv1.weight\", \"model.stages.layer4.1.bn1.weight\", \"model.stages.layer4.1.bn1.bias\", \"model.stages.layer4.1.bn1.running_mean\", \"model.stages.layer4.1.bn1.running_var\", \"model.stages.layer4.1.conv2.weight\", \"model.stages.layer4.1.bn2.weight\", \"model.stages.layer4.1.bn2.bias\", \"model.stages.layer4.1.bn2.running_mean\", \"model.stages.layer4.1.bn2.running_var\", \"model.fc.weight\". \n\tUnexpected key(s) in state_dict: \"model.layer1.0.conv1.weight\", \"model.layer1.0.bn1.weight\", \"model.layer1.0.bn1.bias\", \"model.layer1.0.bn1.running_mean\", \"model.layer1.0.bn1.running_var\", \"model.layer1.0.bn1.num_batches_tracked\", \"model.layer1.0.conv2.weight\", \"model.layer1.0.bn2.weight\", \"model.layer1.0.bn2.bias\", \"model.layer1.0.bn2.running_mean\", \"model.layer1.0.bn2.running_var\", \"model.layer1.0.bn2.num_batches_tracked\", \"model.layer1.1.conv1.weight\", \"model.layer1.1.bn1.weight\", \"model.layer1.1.bn1.bias\", \"model.layer1.1.bn1.running_mean\", \"model.layer1.1.bn1.running_var\", \"model.layer1.1.bn1.num_batches_tracked\", \"model.layer1.1.conv2.weight\", \"model.layer1.1.bn2.weight\", \"model.layer1.1.bn2.bias\", \"model.layer1.1.bn2.running_mean\", \"model.layer1.1.bn2.running_var\", \"model.layer1.1.bn2.num_batches_tracked\", \"model.layer2.0.conv1.weight\", \"model.layer2.0.bn1.weight\", \"model.layer2.0.bn1.bias\", \"model.layer2.0.bn1.running_mean\", \"model.layer2.0.bn1.running_var\", \"model.layer2.0.bn1.num_batches_tracked\", \"model.layer2.0.conv2.weight\", \"model.layer2.0.bn2.weight\", \"model.layer2.0.bn2.bias\", \"model.layer2.0.bn2.running_mean\", \"model.layer2.0.bn2.running_var\", \"model.layer2.0.bn2.num_batches_tracked\", \"model.layer2.0.downsample.0.weight\", \"model.layer2.0.downsample.1.weight\", \"model.layer2.0.downsample.1.bias\", \"model.layer2.0.downsample.1.running_mean\", \"model.layer2.0.downsample.1.running_var\", \"model.layer2.0.downsample.1.num_batches_tracked\", \"model.layer2.1.conv1.weight\", \"model.layer2.1.bn1.weight\", \"model.layer2.1.bn1.bias\", \"model.layer2.1.bn1.running_mean\", \"model.layer2.1.bn1.running_var\", \"model.layer2.1.bn1.num_batches_tracked\", \"model.layer2.1.conv2.weight\", \"model.layer2.1.bn2.weight\", \"model.layer2.1.bn2.bias\", \"model.layer2.1.bn2.running_mean\", \"model.layer2.1.bn2.running_var\", \"model.layer2.1.bn2.num_batches_tracked\", \"model.layer3.0.conv1.weight\", \"model.layer3.0.bn1.weight\", \"model.layer3.0.bn1.bias\", \"model.layer3.0.bn1.running_mean\", \"model.layer3.0.bn1.running_var\", \"model.layer3.0.bn1.num_batches_tracked\", \"model.layer3.0.conv2.weight\", \"model.layer3.0.bn2.weight\", \"model.layer3.0.bn2.bias\", \"model.layer3.0.bn2.running_mean\", \"model.layer3.0.bn2.running_var\", \"model.layer3.0.bn2.num_batches_tracked\", \"model.layer3.0.downsample.0.weight\", \"model.layer3.0.downsample.1.weight\", \"model.layer3.0.downsample.1.bias\", \"model.layer3.0.downsample.1.running_mean\", \"model.layer3.0.downsample.1.running_var\", \"model.layer3.0.downsample.1.num_batches_tracked\", \"model.layer3.1.conv1.weight\", \"model.layer3.1.bn1.weight\", \"model.layer3.1.bn1.bias\", \"model.layer3.1.bn1.running_mean\", \"model.layer3.1.bn1.running_var\", \"model.layer3.1.bn1.num_batches_tracked\", \"model.layer3.1.conv2.weight\", \"model.layer3.1.bn2.weight\", \"model.layer3.1.bn2.bias\", \"model.layer3.1.bn2.running_mean\", \"model.layer3.1.bn2.running_var\", \"model.layer3.1.bn2.num_batches_tracked\", \"model.layer4.0.conv1.weight\", \"model.layer4.0.bn1.weight\", \"model.layer4.0.bn1.bias\", \"model.layer4.0.bn1.running_mean\", \"model.layer4.0.bn1.running_var\", \"model.layer4.0.bn1.num_batches_tracked\", \"model.layer4.0.conv2.weight\", \"model.layer4.0.bn2.weight\", \"model.layer4.0.bn2.bias\", \"model.layer4.0.bn2.running_mean\", \"model.layer4.0.bn2.running_var\", \"model.layer4.0.bn2.num_batches_tracked\", \"model.layer4.0.downsample.0.weight\", \"model.layer4.0.downsample.1.weight\", \"model.layer4.0.downsample.1.bias\", \"model.layer4.0.downsample.1.running_mean\", \"model.layer4.0.downsample.1.running_var\", \"model.layer4.0.downsample.1.num_batches_tracked\", \"model.layer4.1.conv1.weight\", \"model.layer4.1.bn1.weight\", \"model.layer4.1.bn1.bias\", \"model.layer4.1.bn1.running_mean\", \"model.layer4.1.bn1.running_var\", \"model.layer4.1.bn1.num_batches_tracked\", \"model.layer4.1.conv2.weight\", \"model.layer4.1.bn2.weight\", \"model.layer4.1.bn2.bias\", \"model.layer4.1.bn2.running_mean\", \"model.layer4.1.bn2.running_var\", \"model.layer4.1.bn2.num_batches_tracked\", \"model.fc.weight_orig\", \"model.fc.weight_mask\". "
          ]
        }
      ],
      "source": [
        "# Evaluate the checkpoint recorded just before the steepest validation drop\n",
        "if 'results_path' in globals() and results_path.exists():\n",
        "    pruning_history = json.loads(results_path.read_text())\n",
        "elif 'results' in globals():\n",
        "    pruning_history = results\n",
        "else:\n",
        "    pruning_history = []\n",
        "\n",
        "if len(pruning_history) < 2:\n",
        "    print('Need at least two pruning cycles to analyze drops.')\n",
        "else:\n",
        "    deltas = []\n",
        "    for prev, curr in zip(pruning_history, pruning_history[1:]):\n",
        "        delta = curr['val_acc'] - prev['val_acc']\n",
        "        deltas.append((delta, prev['cycle'], curr['cycle']))\n",
        "\n",
        "    steepest_drop = min(deltas, key=lambda item: item[0])\n",
        "    drop_value, before_cycle, after_cycle = steepest_drop\n",
        "    if drop_value >= 0:\n",
        "        print('Validation accuracy never decreased; nothing to evaluate.')\n",
        "    else:\n",
        "        target_cycle = before_cycle\n",
        "        print(f\"Steepest drop: {drop_value:.4f} between cycles {before_cycle} -> {after_cycle}.\")\n",
        "        ckpt_path = ARTIFACT_DIR / f\"cycle_{target_cycle:02d}.ckpt\"\n",
        "        if not ckpt_path.exists():\n",
        "            print(f\"Checkpoint {ckpt_path} not found.\")\n",
        "        else:\n",
        "            eval_model = LitResnet18.load_from_checkpoint(ckpt_path)\n",
        "            eval_model.eval()\n",
        "            eval_trainer = L.Trainer()\n",
        "            test_metrics = eval_trainer.test(eval_model, datamodule=cifar10_dm, verbose=False)\n",
        "            if test_metrics:\n",
        "                metrics = test_metrics[0]\n",
        "                test_acc = metrics.get('test_acc')\n",
        "                if test_acc is not None:\n",
        "                    print(f\"Test accuracy before drop (cycle {target_cycle:02d}): {test_acc:.4f}\")\n",
        "                print(metrics)\n"
      ]
    }
  ],
  "metadata": {
    "kernelspec": {
      "display_name": "ai231",
      "language": "python",
      "name": "python3"
    },
    "language_info": {
      "codemirror_mode": {
        "name": "ipython",
        "version": 3
      },
      "file_extension": ".py",
      "mimetype": "text/x-python",
      "name": "python",
      "nbconvert_exporter": "python",
      "pygments_lexer": "ipython3",
      "version": "3.12.3"
    }
  },
  "nbformat": 4,
  "nbformat_minor": 5
}
